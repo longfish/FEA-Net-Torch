{
 "cells": [
  {
   "cell_type": "code",
   "execution_count": 1,
   "metadata": {},
   "outputs": [],
   "source": [
    "import torch\n",
    "import torch.nn as nn\n",
    "import torch.nn.functional as F\n",
    "\n",
    "from torch.autograd import Variable\n",
    "from torch.utils.data import DataLoader\n",
    "from torchvision.transforms import ToTensor\n",
    "\n",
    "import os\n",
    "import scipy.io as sio\n",
    "import numpy as np\n",
    "import matplotlib.pyplot as plt\n",
    "import math\n",
    "import random\n",
    "\n",
    "from FEANet.mesh import MeshHandler\n",
    "from FEANet.geo import Geometry\n",
    "from FEANet.jacobi import JacobiBlock\n",
    "from FEANet.model import KNet, FNet\n",
    "\n",
    "from Utils import plot\n",
    "from Data.dataset import RHSDataSet"
   ]
  },
  {
   "cell_type": "code",
   "execution_count": 2,
   "metadata": {},
   "outputs": [
    {
     "data": {
      "image/png": "[encoded data removed]",
      "text/plain": [
       "<Figure size 432x288 with 1 Axes>"
      ]
     },
     "metadata": {
      "needs_background": "light"
     },
     "output_type": "display_data"
    }
   ],
   "source": [
    "kernel_i = 15\n",
    "n = 2**4\n",
    "mesh = MeshHandler(nnode_edge = n+1, outfile=\"Results/plate_mesh.vtk\")\n",
    "plot.plot_pattern(mesh, key=kernel_i)"
   ]
  },
  {
   "cell_type": "code",
   "execution_count": 3,
   "metadata": {},
   "outputs": [],
   "source": [
    "linear_tensor_R = torch.asarray([[1, 2, 1],\n",
    "                                 [2, 4, 2],\n",
    "                                 [1, 2, 1]], dtype=torch.float32) / 16.0\n",
    "linear_tensor_P = torch.asarray([[1, 2, 1],\n",
    "                                 [2, 4, 2],\n",
    "                                 [1, 2, 1]], dtype=torch.float32) / 4.0\n",
    "linear_ratio = torch.asarray([4.,1.], dtype=torch.float32)"
   ]
  },
  {
   "cell_type": "code",
   "execution_count": 4,
   "metadata": {},
   "outputs": [],
   "source": [
    "class SingleGrid():\n",
    "    '''\n",
    "    Perform weighted Jacobi iteration relaxation for a single grid.\n",
    "    Note: the n should be the number of intervals, e.g., \n",
    "          there are (n+1)*(n+1) grid points in total if the size is n\n",
    "          f has already been convoluted, i.e., f = fnet(ff) if ff is the sourcing term of PDE\n",
    "    '''\n",
    "    def __init__(self, size, n):\n",
    "        self.size = size # actual size of the plate\n",
    "        self.n = n \n",
    "        self.omega = 2/3.\n",
    "        self.property = [1, 200] # homogeneous problem\n",
    "        self.plate = Geometry(nnode_edge = n+1)\n",
    "        self.grid = MeshHandler(size, prop=self.property, nnode_edge=n+1)\n",
    "        self.v = torch.zeros((1, 1, n+1, n+1), requires_grad=False, dtype=torch.float32)\n",
    "        self.f = torch.zeros((1, 1, n+1, n+1), requires_grad=False, dtype=torch.float32)\n",
    "        self.InstantiateFEANet()\n",
    "        self.jac = JacobiBlock(self.Knet, self.grid, self.omega, self.plate.geometry_idx, self.plate.boundary_value)\n",
    "\n",
    "    def IsCoarsest(self):\n",
    "        return self.n == 2\n",
    "        \n",
    "    def InstantiateFEANet(self):\n",
    "        self.Knet = KNet(self.grid) # Initialize the stiffness network, given mesh\n",
    "        self.fnet = FNet(self.size/self.n) # Initialize the forcing term network, given mesh size\n",
    "        for param in self.Knet.parameters():\n",
    "            param.requires_grad = False\n",
    "        for param in self.fnet.parameters():\n",
    "            param.requires_grad = False\n",
    "\n",
    "    def Relax(self, v, f, num_sweeps_down):\n",
    "        '''\n",
    "        Perform a fixed number of weighted Jacobi iteration\n",
    "        '''\n",
    "        v = self.jac.jacobi_convolution(v, f, n_iter=num_sweeps_down)\n",
    "        return v\n",
    "\n",
    "\n",
    "class RestrictionNet(nn.Module):\n",
    "    '''Given an initial R kernel'''\n",
    "    def __init__(self, linear_tensor_R):\n",
    "        super(RestrictionNet, self).__init__()\n",
    "        self.n_channel = 16\n",
    "        self.net = nn.Conv2d(in_channels=self.n_channel,out_channels=1, kernel_size=3, stride=2, bias=False) # restriction\n",
    "        for i in range(self.n_channel):\n",
    "            self.net.state_dict()['weight'][0][i] = linear_tensor_R\n",
    "    def forward(self, x_split):\n",
    "        '''The input should have already been splitted'''\n",
    "        return self.net(x_split)\n",
    "\n",
    "class ProlongationNet(nn.Module):\n",
    "    '''Given an initial P kernel'''\n",
    "    def __init__(self, linear_tensor_P):\n",
    "        super(ProlongationNet, self).__init__()\n",
    "        self.n_channel = 16\n",
    "        self.net = nn.ConvTranspose2d(in_channels=self.n_channel,out_channels=1, kernel_size=3, stride=2, padding=1, bias=False) # interpolation\n",
    "        for i in range(self.n_channel):\n",
    "            self.net.state_dict()['weight'][i][0] = linear_tensor_P\n",
    "            \n",
    "    def forward(self, x_split): \n",
    "        '''The input should have already been splitted'''\n",
    "        return self.net(x_split)\n",
    "\n",
    "class MultiGrid(nn.Module):\n",
    "    '''Define the multigrid problem for 2D, n is the finest grid size'''\n",
    "    def __init__(self, n, linear_tensor_R, linear_tensor_P, linear_ratio):\n",
    "        super(MultiGrid, self).__init__()\n",
    "\n",
    "        # Problem parameters\n",
    "        self.size = 2\n",
    "        self.n = n # number of grid intervals for finest grid edges\n",
    "        self.L = int(np.log2(n)) # multigrid iteration\n",
    "        self.solution = []\n",
    "        \n",
    "        self.n_arr = self.SizeArray() # array to store grid size for each level\n",
    "        self.grids = self.GridDict() # dictionary of structure grids\n",
    "        \n",
    "        # Inter-grid communication network models\n",
    "        self.conv = RestrictionNet(linear_tensor_R)\n",
    "        self.deconv = ProlongationNet(linear_tensor_P)\n",
    "        self.w = nn.Parameter(linear_ratio)\n",
    "        \n",
    "        self.conv.requires_grad_(True)\n",
    "        self.deconv.requires_grad_(True)\n",
    "        self.w.requires_grad_(False)\n",
    "    \n",
    "    def GridDict(self):\n",
    "        grids = {}\n",
    "        for i in range(self.L):\n",
    "            grids[i] = SingleGrid(self.size, self.n_arr[i])\n",
    "        return grids\n",
    "\n",
    "    def SizeArray(self):\n",
    "        n_arr = []\n",
    "        for i in range(self.L):\n",
    "            n_arr.append(int(self.n/(2.**i)))\n",
    "        n_arr = np.array(n_arr)\n",
    "        return n_arr\n",
    "\n",
    "    def Restrict(self, rF):\n",
    "        '''\n",
    "        Perform restriction operation to down sample to next (coarser) level\n",
    "        Note: rF has already been splitted\n",
    "        '''\n",
    "        rFC = self.conv(rF[:, :, 1:-1, 1:-1].clone())\n",
    "        rFC = F.pad(rFC,(1,1,1,1),\"constant\",0) # pad the coarse-level residual with zeros\n",
    "        return rFC\n",
    "\n",
    "    def Interpolate(self, eFC):\n",
    "        '''\n",
    "        Perform interpolation and upsample to previous (finer) level \n",
    "        Note: eFC has already been splitted\n",
    "        '''\n",
    "        eF = self.deconv(eFC.clone())\n",
    "        return eF \n",
    "\n",
    "    def loss(self, x):\n",
    "        \"Compute the loss after m iterations\"\n",
    "        res1 = self.f - self.grids[0].Knet(x)\n",
    "        return torch.mean(torch.norm(res1[:, :, 1:-1, 1:-1].clone(), dim=(2,3)))\n",
    "\n",
    "    def random_sampling(self, v):\n",
    "        d1, d2, d3, d4 = v.shape\n",
    "        for i in range(d1):\n",
    "            for j in range(d2):\n",
    "                coef = 10*np.random.rand(2) - 5\n",
    "                v[i, j, :, :] = torch.from_numpy(coef[0]*np.random.random((d3,d4)) + coef[1])\n",
    "\n",
    "    def forward(self, F):\n",
    "        '''Input is RHS field F'''\n",
    "        self.f = self.grids[0].fnet(F) # assign the finest rhs \n",
    "        self.v = torch.zeros_like(F, requires_grad=False, dtype=torch.float32) # initial solution\n",
    "        self.random_sampling(self.v)\n",
    "        U = torch.clone(self.v)\n",
    "        return self.iterate(U, self.f)\n",
    "\n",
    "    def iterate(self, x, f):\n",
    "        '''Input x is the initial solution on the finest grid'''\n",
    "        n_batches = x.shape[0]\n",
    "        n_relax = 1 # number of relaxations\n",
    "        self.grids[0].v = x\n",
    "        self.grids[0].f = f\n",
    "        self.grids[0].v = self.grids[0].Relax(self.grids[0].v, self.grids[0].f, n_relax)\n",
    "\n",
    "        for j in range(0, self.L-1):\n",
    "            rF = self.grids[j].f-self.grids[j].Knet(self.grids[j].v)\n",
    "            rF = self.grids[j].Knet.split_x(rF)\n",
    "            self.grids[j+1].f = self.w[0]*self.Restrict(rF)\n",
    "            self.grids[j+1].v = torch.zeros((n_batches,1,self.n_arr[j+1]+1,self.n_arr[j+1]+1), dtype=torch.float32, requires_grad=False)\n",
    "            self.grids[j+1].v = self.grids[j+1].Relax(self.grids[j+1].v, self.grids[j+1].f, n_relax)\n",
    "\n",
    "        self.grids[self.L-1].v = self.grids[self.L-1].Relax(self.grids[self.L-1].v, self.grids[self.L-1].f, n_relax)\n",
    "\n",
    "        for j in range(self.L-2,-1,-1):\n",
    "            eFC = self.grids[j+1].Knet.split_x(self.grids[j+1].v)\n",
    "            eF_delta = self.w[1]*self.Interpolate(eFC)\n",
    "            self.grids[j].v = self.grids[j].v + eF_delta\n",
    "            self.grids[j].v = self.grids[j].Relax(self.grids[j].v, self.grids[j].f, n_relax)\n",
    "\n",
    "            # zero out the previous level solution\n",
    "            self.grids[j+1].v = torch.zeros((n_batches,1,self.n_arr[j+1]+1,self.n_arr[j+1]+1), dtype=torch.float32, requires_grad=False) \n",
    "\n",
    "        return self.grids[0].v "
   ]
  },
  {
   "cell_type": "code",
   "execution_count": 5,
   "metadata": {},
   "outputs": [],
   "source": [
    "model = MultiGrid(n, linear_tensor_R, linear_tensor_P, linear_ratio)"
   ]
  },
  {
   "cell_type": "code",
   "execution_count": 6,
   "metadata": {},
   "outputs": [
    {
     "name": "stdout",
     "output_type": "stream",
     "text": [
      "Ratio: tensor([4., 1.])\n",
      "Restriction kernel: tensor([[0.0625, 0.1250, 0.0625],\n",
      "        [0.1250, 0.2500, 0.1250],\n",
      "        [0.0625, 0.1250, 0.0625]], grad_fn=<SelectBackward0>)\n",
      "Restriction kernel shape: torch.Size([1, 16, 3, 3])\n",
      "Interpolation kernel: tensor([[0.2500, 0.5000, 0.2500],\n",
      "        [0.5000, 1.0000, 0.5000],\n",
      "        [0.2500, 0.5000, 0.2500]], grad_fn=<SelectBackward0>)\n",
      "Interpolation kernel shape: torch.Size([16, 1, 3, 3])\n"
     ]
    }
   ],
   "source": [
    "model_dir = 'Model/multigrid_rhs_res'\n",
    "if not os.path.exists(model_dir):\n",
    "    os.makedirs(model_dir)\n",
    "    \n",
    "mlist = list(model.parameters())\n",
    "print('Ratio:', mlist[0][:])\n",
    "print('Restriction kernel:', mlist[1][0][0])\n",
    "print('Restriction kernel shape:', mlist[1].shape)\n",
    "print('Interpolation kernel:', mlist[2][0][0])\n",
    "print('Interpolation kernel shape:', mlist[2].shape)"
   ]
  },
  {
   "cell_type": "code",
   "execution_count": 7,
   "metadata": {},
   "outputs": [
    {
     "data": {
      "text/plain": [
       "Text(0.5, 0, 'epoch')"
      ]
     },
     "execution_count": 7,
     "metadata": {},
     "output_type": "execute_result"
    },
    {
     "data": {
      "image/png": "[encoded data removed]",
      "text/plain": [
       "<Figure size 432x288 with 1 Axes>"
      ]
     },
     "metadata": {
      "needs_background": "light"
     },
     "output_type": "display_data"
    }
   ],
   "source": [
    "# load the training loss\n",
    "model_name = 'model_mg_interface_kernel'+str(kernel_i)\n",
    "qm_train = np.load(os.path.join(model_dir,model_name+'.npy'))\n",
    "plt.plot(qm_train)\n",
    "plt.ylabel('loss')\n",
    "plt.xlabel('epoch')"
   ]
  },
  {
   "cell_type": "code",
   "execution_count": 8,
   "metadata": {},
   "outputs": [],
   "source": [
    "# import the learned model\n",
    "#model.load_state_dict(torch.load(os.path.join(model_dir,model_name+'.pth')))"
   ]
  },
  {
   "cell_type": "code",
   "execution_count": 9,
   "metadata": {},
   "outputs": [
    {
     "name": "stdout",
     "output_type": "stream",
     "text": [
      "Learned parameters:\n",
      "Ratio: tensor([4., 1.])\n",
      "Restriction kernel: tensor([[0.0625, 0.1250, 0.0625],\n",
      "        [0.1250, 0.2500, 0.1250],\n",
      "        [0.0625, 0.1250, 0.0625]], grad_fn=<SelectBackward0>)\n",
      "Interpolation kernel: tensor([[0.2500, 0.5000, 0.2500],\n",
      "        [0.5000, 1.0000, 0.5000],\n",
      "        [0.2500, 0.5000, 0.2500]], grad_fn=<SelectBackward0>)\n",
      "\n",
      "Previous parameters:\n",
      "Ratio: tensor([4., 1.])\n",
      "Restriction kernel: tensor([[0.0625, 0.1250, 0.0625],\n",
      "        [0.1250, 0.2500, 0.1250],\n",
      "        [0.0625, 0.1250, 0.0625]], grad_fn=<SelectBackward0>)\n",
      "Interpolation kernel: tensor([[0.2500, 0.5000, 0.2500],\n",
      "        [0.5000, 1.0000, 0.5000],\n",
      "        [0.2500, 0.5000, 0.2500]], grad_fn=<SelectBackward0>)\n"
     ]
    }
   ],
   "source": [
    "print('Learned parameters:')\n",
    "print('Ratio:', mlist[0][:])\n",
    "print('Restriction kernel:', mlist[1][0][kernel_i])\n",
    "print('Interpolation kernel:', mlist[2][kernel_i][0])\n",
    "\n",
    "print()\n",
    "\n",
    "print('Previous parameters:')\n",
    "print('Ratio:', mlist[0][:])\n",
    "print('Restriction kernel:', mlist[1][0][kernel_i-1])\n",
    "print('Interpolation kernel:', mlist[2][kernel_i-1][0])"
   ]
  },
  {
   "cell_type": "code",
   "execution_count": 10,
   "metadata": {},
   "outputs": [],
   "source": [
    "# Test the multigrid iteration\n",
    "class mgTest(MultiGrid):\n",
    "    '''Define the multigrid problem for 2D, n is the finest grid size'''\n",
    "    def __init__(self, inter_model, n = 64):\n",
    "        super(mgTest, self).__init__(n, linear_tensor_R, linear_tensor_P, linear_ratio)\n",
    "\n",
    "        self.size = 2\n",
    "        self.n = n # total number of grids for finest grid\n",
    "        self.L = int(np.log2(n)) # number of levels for V-cycle multigrid\n",
    "        self.x = np.linspace(-1,1,n+1, dtype=np.float32) # grid number is n+1\n",
    "        self.y = np.linspace(-1,1,n+1, dtype=np.float32)\n",
    "        self.xx, self.yy = np.meshgrid(self.x, self.y, indexing='xy')\n",
    "        self.solution = []\n",
    "\n",
    "        self.w = inter_model.w\n",
    "        self.conv = inter_model.conv\n",
    "        self.deconv = inter_model.deconv\n",
    "        self.conv.requires_grad_(False)\n",
    "        self.deconv.requires_grad_(False)\n",
    "        self.w.requires_grad_(False)\n",
    "        \n",
    "        self.n_arr = self.SizeArray() # array to store grid size for each level\n",
    "        self.grids = self.GridDict() # dictionary of structure grids\n",
    "        \n",
    "        ff = np.ones_like(self.xx)\n",
    "        self.grids[0].f = self.grids[0].fnet(torch.from_numpy(ff.reshape(1,1,n+1,n+1))) # assign the finest right hand side with the original rhs\n",
    "    \n",
    "    def solve(self, n_iter = 1e10):\n",
    "        '''Return error and residual array'''\n",
    "        EPS = 6e-5\n",
    "        n_Vcycle = 0\n",
    "        self.grids[0].v = torch.zeros((1, 1, self.n+1, self.n+1), requires_grad=False, dtype=torch.float32)\n",
    "        e_Vcycle, res = 1, 1\n",
    "        e_arr_Vcycle = [e_Vcycle]\n",
    "        res_arr_Vcycle = [res]\n",
    "        err_occured = False\n",
    "        while (res > EPS and n_Vcycle<n_iter):\n",
    "            u_prev = self.grids[0].v \n",
    "            self.grids[0].v = self.iterate(self.grids[0].v,self.grids[0].f)\n",
    "            e_Vcycle = torch.sqrt(torch.sum((self.grids[0].v - u_prev) ** 2)).item() / torch.sqrt(torch.sum((self.grids[0].v) ** 2)).item()\n",
    "            e_arr_Vcycle.append(e_Vcycle)\n",
    "            residual = self.grids[0].f-self.grids[0].Knet(self.grids[0].v)\n",
    "            res = torch.sqrt(torch.sum(residual[:, :, 1:-1, 1:-1] ** 2)).item()\n",
    "            res_arr_Vcycle.append(res)\n",
    "            print(e_Vcycle, res)\n",
    "            n_Vcycle += 1\n",
    "            if(res == torch.inf or math.isnan(res)):\n",
    "                err_occured = True\n",
    "                break\n",
    "\n",
    "        if(err_occured):\n",
    "            print(\"The iteration doesn't converge!\")\n",
    "        else:\n",
    "            print(\"Solution converges after\", n_Vcycle, \"V-cycle iterations with relative error of\", e_Vcycle)\n",
    "        return e_arr_Vcycle, res_arr_Vcycle"
   ]
  },
  {
   "cell_type": "code",
   "execution_count": 11,
   "metadata": {},
   "outputs": [
    {
     "name": "stdout",
     "output_type": "stream",
     "text": [
      "1.0 0.38656628131866455\n",
      "0.030707373295904613 0.0963539257645607\n",
      "0.021086496818089634 0.09560458362102509\n",
      "0.006430115296907219 0.04788200557231903\n",
      "0.004112973014607271 0.03422410786151886\n",
      "0.002420087395224209 0.020509010180830956\n",
      "0.0015115561866571967 0.013485114090144634\n",
      "0.0009291884157279766 0.008456415496766567\n",
      "0.0006445075023976163 0.005484369117766619\n",
      "0.0003144265044215691 0.003410592209547758\n",
      "0.0001882425299918258 0.00215781363658607\n",
      "0.00018567003431132622 0.0014079639222472906\n",
      "7.611245330190768e-05 0.0008657051366753876\n",
      "0.00015991252915586153 0.0006425264873541892\n",
      "3.737844526004051e-05 0.00039085670141503215\n",
      "3.695079074567012e-05 0.00024492896045558155\n",
      "1.0645873606128061e-05 0.0001693632366368547\n",
      "5.791845552132859e-06 0.00012314158084336668\n",
      "5.163081273041208e-05 0.00010033715807367116\n",
      "4.981317299095664e-06 9.638234041631222e-05\n",
      "8.225898963152877e-05 0.00011743003415176645\n",
      "6.244121602322817e-06 0.00010376889986218885\n",
      "2.7910920964208052e-05 9.405791206518188e-05\n",
      "8.56897210609274e-05 0.00011676886060740799\n",
      "0.00014892793025420733 0.00013869434769731015\n",
      "4.4329332771016114e-05 0.00010171546455239877\n",
      "2.7654332547271363e-05 9.363197023048997e-05\n",
      "2.468693145364484e-05 9.496408893028274e-05\n",
      "0.00011280827915274512 0.0001263020240003243\n",
      "7.756058018495254e-05 9.938648872775957e-05\n",
      "1.4411507145992193e-05 9.563597268424928e-05\n",
      "2.127319128167084e-05 9.7357013146393e-05\n",
      "7.275201464745432e-05 0.00010878682223847136\n",
      "6.342610158285342e-06 9.512087854091078e-05\n",
      "0.00013019437394401123 0.0001246423926204443\n",
      "4.3142746806885085e-05 9.251684241462499e-05\n",
      "0.00010228366269652791 0.00012189755216240883\n",
      "0.0001366155121982955 0.0001271032087970525\n",
      "4.697350525268308e-05 9.794693323783576e-05\n",
      "1.7301521475342887e-05 9.38710873015225e-05\n",
      "5.713760922895307e-05 0.00010822586773429066\n",
      "5.48232662747723e-05 9.490016964264214e-05\n",
      "2.4353391470961352e-05 9.770665928954259e-05\n",
      "9.332535763367522e-06 9.447728371014819e-05\n",
      "2.5301525584197397e-05 9.755869541550055e-05\n",
      "6.673682333727812e-05 0.0001091956946766004\n",
      "2.336002814395437e-05 9.939083247445524e-05\n",
      "1.3104439675922284e-05 9.61153200478293e-05\n",
      "4.962356701199429e-05 0.00010438873141538352\n",
      "7.9430892930055e-05 0.00010421061597298831\n",
      "5.5810710407566326e-05 0.00010038350592367351\n",
      "0.00010906585159302727 0.00012907323252875358\n",
      "8.234737720064297e-05 0.00011187967902515084\n",
      "5.0153803201375757e-05 0.00010418341844342649\n",
      "6.694890693666082e-05 0.00010048336116597056\n",
      "3.872145395419817e-05 9.819069964578375e-05\n",
      "1.4180005689009662e-05 9.354206849820912e-05\n",
      "5.432799338191604e-05 0.00011198029096703976\n",
      "2.7789726019922405e-05 9.679191862232983e-05\n",
      "5.708523682861702e-05 0.00011005620035575703\n",
      "1.1932832471730153e-05 9.865497122518718e-05\n",
      "4.9651826764796554e-05 0.00010191516776103526\n",
      "0.00011608969737161695 0.00012880282883998007\n",
      "7.39556334867953e-05 0.00010562173702055588\n",
      "5.381897378912195e-06 9.609227709006518e-05\n",
      "7.575477727137767e-05 0.00011300542973913252\n",
      "3.218672815001086e-05 0.00010650092008290812\n",
      "5.8744435457412905e-05 9.529482485959306e-05\n",
      "3.7533987973227766e-05 9.872855298453942e-05\n",
      "3.516321934890414e-05 0.00010266793833579868\n",
      "1.2343850474127458e-05 0.00010206566366832703\n",
      "3.766538903772352e-05 9.636655158828944e-05\n",
      "3.3283231467233033e-06 9.489875810686499e-05\n",
      "1.4062864821035103e-05 9.437008702661842e-05\n",
      "6.960427184777177e-06 9.778814273886383e-05\n",
      "2.3798800584349175e-05 0.00010081618529511616\n",
      "6.962969818377392e-05 0.00011720529437297955\n",
      "0.0001157565836181489 0.00011877962242579088\n",
      "7.170888248830464e-05 0.0001235685049323365\n",
      "7.452996792921243e-05 0.00010102234227815643\n",
      "1.404017183440527e-05 0.00010287357872584835\n",
      "1.936757373082529e-05 9.693386527942494e-05\n",
      "7.92457093230049e-05 0.00011825960973510519\n",
      "5.020814920572669e-05 0.00010107246635016054\n",
      "3.390709486881572e-05 9.843119914876297e-05\n",
      "4.153456369120139e-05 0.00010021170601248741\n",
      "1.1779106855380064e-06 9.829548071138561e-05\n",
      "2.5902103136323606e-05 0.00010587156430119649\n",
      "1.876237480027141e-05 0.00010029596887761727\n",
      "7.535396851540517e-05 0.00011110592458862811\n",
      "0.00011228861202267605 0.00011926049046451226\n",
      "6.904299737030784e-05 9.929390216711909e-05\n",
      "1.8150458824151013e-05 9.805094305193052e-05\n",
      "2.5587255561147962e-05 0.00010052343714050949\n",
      "3.6765638143708196e-05 0.00010760936129372567\n",
      "6.151836146603893e-05 0.00010045120143331587\n",
      "7.150357887579242e-05 0.00011316903692204505\n",
      "0.00011512571685634325 0.00012592760322149843\n",
      "4.6281980979629925e-05 9.81935445452109e-05\n",
      "5.170087324561501e-05 0.00010584376286715269\n",
      "Solution converges after 100 V-cycle iterations with relative error of 5.170087324561501e-05\n"
     ]
    }
   ],
   "source": [
    "# Multigrid implementation\n",
    "n = 2**6\n",
    "prob_mg = mgTest(model, n)\n",
    "\n",
    "e_arr_Vcycle, res_arr_Vcycle = prob_mg.solve(100)"
   ]
  },
  {
   "cell_type": "code",
   "execution_count": 12,
   "metadata": {},
   "outputs": [
    {
     "data": {
      "text/plain": [
       "<matplotlib.legend.Legend at 0x7f8eab57dee0>"
      ]
     },
     "execution_count": 12,
     "metadata": {},
     "output_type": "execute_result"
    },
    {
     "data": {
      "image/png": "[encoded data removed]",
      "text/plain": [
       "<Figure size 432x288 with 1 Axes>"
      ]
     },
     "metadata": {
      "needs_background": "light"
     },
     "output_type": "display_data"
    }
   ],
   "source": [
    "#plt.plot(e_arr_Vcycle, label='Error')\n",
    "plt.plot(res_arr_Vcycle, label='Residual')\n",
    "plt.yscale('log')\n",
    "plt.xlabel('# iteration')\n",
    "plt.ylabel('residual')\n",
    "plt.legend()"
   ]
  },
  {
   "cell_type": "code",
   "execution_count": 13,
   "metadata": {},
   "outputs": [],
   "source": [
    "def compute_q(res_arr):\n",
    "    return np.power(res_arr[9]/res_arr[6], 1.0/4)"
   ]
  },
  {
   "cell_type": "markdown",
   "metadata": {},
   "source": [
    "Below sections load all models and run test"
   ]
  },
  {
   "cell_type": "code",
   "execution_count": 14,
   "metadata": {},
   "outputs": [
    {
     "name": "stdout",
     "output_type": "stream",
     "text": [
      "kernel: 12\n",
      "Restriction kernel: tensor([[ 0.4042,  0.1504, -0.0102],\n",
      "        [ 0.1498,  0.2500,  0.1270],\n",
      "        [-0.0081,  0.1239, -0.0647]])\n",
      "Interpolation kernel: tensor([[0.2491, 0.5017, 0.2557],\n",
      "        [0.5037, 0.9931, 0.5056],\n",
      "        [0.2590, 0.5058, 0.2941]])\n",
      "kernel: 13\n",
      "Restriction kernel: tensor([[-0.0062,  0.1548,  0.4163],\n",
      "        [ 0.1276,  0.2500,  0.1522],\n",
      "        [-0.0597,  0.1233, -0.0060]])\n",
      "Interpolation kernel: tensor([[0.2587, 0.5004, 0.2511],\n",
      "        [0.5058, 0.9936, 0.5033],\n",
      "        [0.2906, 0.5051, 0.2583]])\n",
      "kernel: 14\n",
      "Restriction kernel: tensor([[-0.0079,  0.1233, -0.0654],\n",
      "        [ 0.1511,  0.2500,  0.1253],\n",
      "        [ 0.4120,  0.1532, -0.0130]])\n",
      "Interpolation kernel: tensor([[0.2603, 0.5046, 0.2910],\n",
      "        [0.5013, 0.9966, 0.5046],\n",
      "        [0.2524, 0.4995, 0.2581]])\n",
      "kernel: 15\n",
      "Restriction kernel: tensor([[-0.0864,  0.1255, -0.0103],\n",
      "        [ 0.1241,  0.2500,  0.1566],\n",
      "        [-0.0165,  0.1487,  0.3970]])\n",
      "Interpolation kernel: tensor([[0.2942, 0.5086, 0.2585],\n",
      "        [0.5058, 0.9959, 0.4992],\n",
      "        [0.2598, 0.4983, 0.2513]])\n"
     ]
    }
   ],
   "source": [
    "kernel_list = [12,13,14,15]\n",
    "para_model = MultiGrid(n, linear_tensor_R, linear_tensor_P, linear_ratio)\n",
    "para_model.conv.requires_grad_(False)\n",
    "para_model.deconv.requires_grad_(False)\n",
    "para_mlist = list(para_model.parameters())\n",
    "\n",
    "for i in kernel_list:\n",
    "    model_name = 'model_mg_interface_kernel'+str(i)\n",
    "    model.load_state_dict(torch.load(os.path.join(model_dir,model_name+'.pth')))\n",
    "    mlist = list(model.parameters())\n",
    "\n",
    "    # input the kernel value to new model\n",
    "    para_mlist[1][0][i] = mlist[1][0][i]\n",
    "    para_mlist[2][i][0] = mlist[2][i][0]\n",
    "\n",
    "    print('kernel:', i)\n",
    "    print('Restriction kernel:', para_mlist[1][0][i])\n",
    "    print('Interpolation kernel:', para_mlist[2][i][0])\n"
   ]
  },
  {
   "cell_type": "code",
   "execution_count": 15,
   "metadata": {},
   "outputs": [
    {
     "name": "stdout",
     "output_type": "stream",
     "text": [
      "1.0 1.6053122282028198\n",
      "0.5826799520678747 0.8425618410110474\n",
      "0.44382642828062213 0.9753941893577576\n",
      "0.5572358783029479 0.841820478439331\n",
      "0.3549834862626162 0.7967279553413391\n",
      "0.4817060015475436 0.7473138570785522\n",
      "0.31126677654526586 0.6900829672813416\n",
      "0.4095950410759932 0.6505309343338013\n",
      "0.2764478162316863 0.6026781797409058\n",
      "0.34855480229809116 0.565825343132019\n",
      "0.24540432169807502 0.5263023376464844\n",
      "0.297315268849848 0.4925089478492737\n",
      "0.21730909540826754 0.4591425955295563\n",
      "0.25438267418953364 0.42898833751678467\n",
      "0.1919037666826309 0.4001147150993347\n",
      "0.21829786091223002 0.3737688362598419\n",
      "0.1693563122817126 0.348866730928421\n",
      "0.1875485574935414 0.3255780339241028\n",
      "0.14903264163059762 0.30384042859077454\n",
      "0.16157314499332687 0.28367188572883606\n",
      "0.1311391754882649 0.26484769582748413\n",
      "0.13942121936339957 0.24723409116268158\n",
      "0.11517303970111324 0.2307460755109787\n",
      "0.12037119813627094 0.21533584594726562\n",
      "0.10103295703752456 0.20098531246185303\n",
      "0.10428405733066633 0.1878102719783783\n",
      "0.08879908781163887 0.17546044290065765\n",
      "0.09029650510990865 0.1637459099292755\n",
      "0.07777799458238106 0.15288536250591278\n",
      "0.07831952344331307 0.14278194308280945\n",
      "0.0681985002375958 0.13338296115398407\n",
      "0.06794881262467935 0.12450260668992996\n",
      "0.05965114389387478 0.11620660871267319\n",
      "0.0590013082482242 0.10853814333677292\n",
      "0.052163612749175046 0.10127108544111252\n",
      "0.0511925727730987 0.09453502297401428\n",
      "0.045605047366882194 0.08823844790458679\n",
      "0.04442716453769914 0.082319475710392\n",
      "0.03989177694823534 0.07692811638116837\n",
      "0.038742932905322255 0.07191409170627594\n",
      "0.034872132576336486 0.06711482256650925\n",
      "0.033666835771120715 0.0626789778470993\n",
      "0.030476073199992414 0.05852684751152992\n",
      "0.0291115754339197 0.054416704922914505\n",
      "0.026382361353485127 0.050649769604206085\n",
      "0.025246175417189137 0.0472332127392292\n",
      "0.023048822873033437 0.044110119342803955\n",
      "0.022000503669381045 0.04119308292865753\n",
      "0.020087868318894277 0.038401078432798386\n",
      "0.019049709257319972 0.03577060624957085\n",
      "0.017445465037632592 0.0333239771425724\n",
      "0.016615269406614196 0.031166626140475273\n",
      "0.015326107704273107 0.02917533926665783\n",
      "0.014519728594474389 0.02726571261882782\n",
      "0.01337439003848176 0.02546698972582817\n",
      "0.012667533210118783 0.023812783882021904\n",
      "0.011670081529863817 0.02221188135445118\n",
      "0.011027118488617378 0.020742813125252724\n",
      "0.010246772553553503 0.019453955814242363\n",
      "0.009616575098941874 0.018123751506209373\n",
      "0.008916615437911227 0.016944151371717453\n",
      "0.008441422786453916 0.015884771943092346\n",
      "0.007871538027674638 0.014909611083567142\n",
      "0.007435190603744536 0.013975536450743675\n",
      "0.006788381251895306 0.012934403494000435\n",
      "0.006361559722546848 0.012025495991110802\n",
      "0.005945297079458077 0.011269239708781242\n",
      "0.00548030046738865 0.01040070690214634\n",
      "0.005029557094431148 0.009597248397767544\n",
      "0.00474318377034369 0.008963030762970448\n",
      "0.004534049114318463 0.008522328920662403\n",
      "0.004357475048823599 0.008140471763908863\n",
      "0.003967018567884325 0.007538477424532175\n",
      "0.0037603406776267343 0.007077141664922237\n",
      "0.00357579302138491 0.0067253862507641315\n",
      "0.003250942263338662 0.006180984899401665\n",
      "0.0030699960984347614 0.0058007631450891495\n",
      "0.0029665056932224685 0.005551712587475777\n",
      "0.0028334570979804776 0.005298255477100611\n",
      "0.002679284400106157 0.005024644546210766\n",
      "0.0024303948125625465 0.004622630309313536\n",
      "0.002230991159153968 0.004246847238391638\n",
      "0.0020722924802358926 0.003940072376281023\n",
      "0.0019124200832212924 0.0036423257552087307\n",
      "0.0018008644597142262 0.003416250227019191\n",
      "0.0017029208605758028 0.00320689519867301\n",
      "0.0015122932891364353 0.0029036281630396843\n",
      "0.0013529195182503766 0.0026119959075003862\n",
      "0.00124168867509894 0.002379635814577341\n",
      "0.0011816995814036843 0.00223787990398705\n",
      "0.0010610033048463784 0.0020367996767163277\n",
      "0.0010004372927452795 0.0018979391315951943\n",
      "0.0009690303625495206 0.0018337385263293982\n",
      "0.0008883122199818847 0.0016901327762752771\n",
      "0.0008483297447485474 0.0015968767693266273\n",
      "0.0008066711926760638 0.001515825861133635\n",
      "0.0007319361181821435 0.0013878028839826584\n",
      "0.0007369022087310764 0.0013663613935932517\n",
      "0.0007389836145079396 0.0013599666999652982\n",
      "0.0006772799655989536 0.0012730876915156841\n",
      "Solution converges after 100 V-cycle iterations with relative error of 0.0006772799655989536\n"
     ]
    },
    {
     "data": {
      "text/plain": [
       "<matplotlib.legend.Legend at 0x7f8ea97c6280>"
      ]
     },
     "execution_count": 15,
     "metadata": {},
     "output_type": "execute_result"
    },
    {
     "data": {
      "image/png": "[encoded data removed]",
      "text/plain": [
       "<Figure size 432x288 with 1 Axes>"
      ]
     },
     "metadata": {
      "needs_background": "light"
     },
     "output_type": "display_data"
    }
   ],
   "source": [
    "# Multigrid implementation (combined kernels)\n",
    "para_mg = mgTest(para_model, n)\n",
    "\n",
    "e_arr_para, res_arr_para = para_mg.solve(100)\n",
    "\n",
    "plt.plot(res_arr_Vcycle, label='Residual: linear kernel')\n",
    "plt.plot(res_arr_para, label='Residual: learned kernel')\n",
    "plt.yscale('log')\n",
    "plt.xlabel('# iteration')\n",
    "plt.ylabel('Residual')\n",
    "plt.legend()"
   ]
  },
  {
   "cell_type": "code",
   "execution_count": 16,
   "metadata": {},
   "outputs": [
    {
     "name": "stdout",
     "output_type": "stream",
     "text": [
      "q for learned kernel is:  0.9476448530590887\n"
     ]
    },
    {
     "data": {
      "image/png": "[encoded data removed]",
      "text/plain": [
       "<Figure size 432x288 with 2 Axes>"
      ]
     },
     "metadata": {
      "needs_background": "light"
     },
     "output_type": "display_data"
    }
   ],
   "source": [
    "print(\"q for learned kernel is: \", compute_q(res_arr_para))\n",
    "para_residual = para_mg.grids[0].f-para_mg.grids[0].Knet(para_mg.grids[0].v)\n",
    "plot.plot_field(torch.abs(para_residual[:, :, 1:-1, 1:-1]),limit=[0,4.5e-6])"
   ]
  },
  {
   "cell_type": "code",
   "execution_count": 17,
   "metadata": {},
   "outputs": [
    {
     "name": "stdout",
     "output_type": "stream",
     "text": [
      "q for linear kernel is:  0.7191102746563521\n"
     ]
    },
    {
     "data": {
      "image/png": "[encoded data removed]",
      "text/plain": [
       "<Figure size 432x288 with 2 Axes>"
      ]
     },
     "metadata": {
      "needs_background": "light"
     },
     "output_type": "display_data"
    }
   ],
   "source": [
    "print(\"q for linear kernel is: \", compute_q(res_arr_Vcycle))\n",
    "\n",
    "# Residual plots (linear kernel)\n",
    "residual = prob_mg.grids[0].f-prob_mg.grids[0].Knet(prob_mg.grids[0].v)\n",
    "plot.plot_field(torch.abs(residual[:, :, 1:-1, 1:-1]),limit=[0,4.5e-6])"
   ]
  }
 ],
 "metadata": {
  "kernelspec": {
   "display_name": "Python 3.8.13 ('pytorch11')",
   "language": "python",
   "name": "python3"
  },
  "language_info": {
   "codemirror_mode": {
    "name": "ipython",
    "version": 3
   },
   "file_extension": ".py",
   "mimetype": "text/x-python",
   "name": "python",
   "nbconvert_exporter": "python",
   "pygments_lexer": "ipython3",
   "version": "3.8.13"
  },
  "orig_nbformat": 4,
  "vscode": {
   "interpreter": {
    "hash": "926ad5c238a4420011e83b59655d6cd21b021d9ee1aa0438d38aa969cfe55744"
   }
  }
 },
 "nbformat": 4,
 "nbformat_minor": 2
}
