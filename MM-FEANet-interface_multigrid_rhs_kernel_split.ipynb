{
 "cells": [
  {
   "cell_type": "markdown",
   "metadata": {},
   "source": [
    "Learn the inter-grid operator ratio for interface problems using multigrid framework,\n",
    "* Dataset is constructed by changing RHS \n",
    "* Restriction and Prolongation operations are followed by a split operation\n",
    "* Kernels for some part of fields are learned "
   ]
  },
  {
   "cell_type": "code",
   "execution_count": 1,
   "metadata": {},
   "outputs": [],
   "source": [
    "import torch\n",
    "import torch.nn as nn\n",
    "import torch.nn.functional as F\n",
    "\n",
    "from torch.autograd import Variable\n",
    "from torch.utils.data import DataLoader\n",
    "from torchvision.transforms import ToTensor\n",
    "\n",
    "import os\n",
    "import scipy.io as sio\n",
    "import numpy as np\n",
    "import matplotlib.pyplot as plt\n",
    "import math\n",
    "import random\n",
    "\n",
    "from FEANet.mesh import MeshHandler\n",
    "from FEANet.geo import Geometry\n",
    "from FEANet.jacobi import JacobiBlock\n",
    "from FEANet.model import KNet, FNet\n",
    "from FEANet.multigrid import MultiGrid\n",
    "\n",
    "from Utils import plot\n",
    "from Data.dataset import RHSDataSet"
   ]
  },
  {
   "cell_type": "code",
   "execution_count": 2,
   "metadata": {},
   "outputs": [],
   "source": [
    "training_set = RHSDataSet('Data/poisson2d_rhs_17x17.h5', case='train')\n",
    "test_set = RHSDataSet('Data/poisson2d_rhs_17x17.h5', case='test')\n",
    "\n",
    "train_dataloader = DataLoader(training_set, batch_size=64, shuffle=True)\n",
    "test_dataloader = DataLoader(test_set, batch_size=64, shuffle=True)"
   ]
  },
  {
   "cell_type": "code",
   "execution_count": 3,
   "metadata": {},
   "outputs": [],
   "source": [
    "linear_tensor_R = torch.asarray([[1, 2, 1],\n",
    "                                 [2, 4, 2],\n",
    "                                 [1, 2, 1]], dtype=torch.float32) / 16.0\n",
    "linear_tensor_P = torch.asarray([[1, 2, 1],\n",
    "                                 [2, 4, 2],\n",
    "                                 [1, 2, 1]], dtype=torch.float32) / 4.0\n",
    "linear_ratio = torch.asarray([4.,1.], dtype=torch.float32)"
   ]
  },
  {
   "cell_type": "code",
   "execution_count": 4,
   "metadata": {},
   "outputs": [],
   "source": [
    "n = 2**4\n",
    "model = MultiGrid(n, linear_tensor_R, linear_tensor_P, linear_ratio)\n",
    "rhs = next(iter(train_dataloader))"
   ]
  },
  {
   "cell_type": "code",
   "execution_count": 5,
   "metadata": {},
   "outputs": [
    {
     "name": "stdout",
     "output_type": "stream",
     "text": [
      "0 0.24513234198093414\n",
      "1 0.05501650646328926\n",
      "2 0.01746571995317936\n",
      "3 0.006426169537007809\n",
      "4 0.0025092570576816797\n",
      "5 0.0010073049925267696\n",
      "6 0.00041171981138177216\n",
      "7 0.0001683122682152316\n",
      "8 6.939296872587875e-05\n",
      "9 2.881713953684084e-05\n",
      "Solution converges after 10 multi-grid iterations \n"
     ]
    },
    {
     "data": {
      "image/png": "[encoded data removed]",
      "text/plain": [
       "<Figure size 432x288 with 1 Axes>"
      ]
     },
     "metadata": {
      "needs_background": "light"
     },
     "output_type": "display_data"
    }
   ],
   "source": [
    "EPS = 5e-5\n",
    "n_multigrid = 0\n",
    "u = torch.zeros((1, 1, n+1, n+1), requires_grad=False, dtype=torch.float32)\n",
    "res_arr = [1]\n",
    "res = 1\n",
    "model(rhs[1].unsqueeze(0))\n",
    "err_occured = False\n",
    "while (abs(res) > EPS):\n",
    "    u = model.iterate(u, model.f)\n",
    "    residual = model.f-model.grids[0].Knet(u)\n",
    "    res_old = res\n",
    "    res = torch.sqrt(torch.sum(residual[:, :, 1:-1, 1:-1] ** 2)).item()\n",
    "    res_arr.append(res)\n",
    "    print(n_multigrid, res)\n",
    "    n_multigrid += 1\n",
    "\n",
    "    if(res == torch.inf or math.isnan(res)):\n",
    "        err_occured = True\n",
    "        break\n",
    "\n",
    "if(err_occured):\n",
    "    print(\"The iteration doesn't converge!\")\n",
    "else:\n",
    "    print(\"Solution converges after\", n_multigrid, \"multi-grid iterations \")\n",
    "plt.plot(res_arr)\n",
    "plt.yscale('log')"
   ]
  },
  {
   "cell_type": "code",
   "execution_count": 6,
   "metadata": {},
   "outputs": [
    {
     "name": "stdout",
     "output_type": "stream",
     "text": [
      "Ratio: tensor([4., 1.])\n",
      "Restriction kernel: tensor([[0.0625, 0.1250, 0.0625],\n",
      "        [0.1250, 0.2500, 0.1250],\n",
      "        [0.0625, 0.1250, 0.0625]], grad_fn=<SelectBackward0>)\n",
      "Restriction kernel shape: torch.Size([1, 16, 3, 3])\n",
      "Interpolation kernel: tensor([[0.2500, 0.5000, 0.2500],\n",
      "        [0.5000, 1.0000, 0.5000],\n",
      "        [0.2500, 0.5000, 0.2500]], grad_fn=<SelectBackward0>)\n",
      "Interpolation kernel shape: torch.Size([16, 1, 3, 3])\n"
     ]
    }
   ],
   "source": [
    "model_dir = 'Model/multigrid_rhs'\n",
    "if not os.path.exists(model_dir):\n",
    "    os.makedirs(model_dir)\n",
    "    \n",
    "optimizer = torch.optim.Adam(model.parameters(), lr=1e-3)\n",
    "mlist = list(model.parameters())\n",
    "print('Ratio:', mlist[0][:])\n",
    "print('Restriction kernel:', mlist[1][0][0])\n",
    "print('Restriction kernel shape:', mlist[1].shape)\n",
    "print('Interpolation kernel:', mlist[2][0][0])\n",
    "print('Interpolation kernel shape:', mlist[2].shape)"
   ]
  },
  {
   "cell_type": "code",
   "execution_count": 7,
   "metadata": {},
   "outputs": [],
   "source": [
    "def freeze_kernels(para_list, list):\n",
    "    '''Freeze the kernels in list, second and third term are R and P'''\n",
    "    for i in list:\n",
    "        para_list[1].grad[:,i] = torch.zeros_like(para_list[1].grad[:,i])\n",
    "        para_list[2].grad[i,:] = torch.zeros_like(para_list[2].grad[i,:])\n",
    "        \n",
    "\n",
    "def rewrite_kernels(para_list, list, kernels):\n",
    "    '''Overwrite the kernels in list to be 'kernels', second and third term are R and P '''\n",
    "    for i in list:\n",
    "        para_list[1].grad[:,i] = kernels[0]\n",
    "        para_list[2].grad[i,:] = kernels[1]"
   ]
  },
  {
   "cell_type": "code",
   "execution_count": 8,
   "metadata": {},
   "outputs": [
    {
     "data": {
      "image/png": "[encoded data removed]",
      "text/plain": [
       "<Figure size 432x288 with 1 Axes>"
      ]
     },
     "metadata": {
      "needs_background": "light"
     },
     "output_type": "display_data"
    }
   ],
   "source": [
    "mesh = MeshHandler(outfile=\"Results/plate_mesh.vtk\")\n",
    "plot.plot_pattern(mesh, key=5)"
   ]
  },
  {
   "cell_type": "code",
   "execution_count": 9,
   "metadata": {},
   "outputs": [],
   "source": [
    "freeze_list = [0,1,2,3,4,6,7,8,9,10,11,12,13,14,15] # freeze 5-th kernel\n",
    "\n",
    "def train_one_epoch():\n",
    "    running_loss = 0.\n",
    "    for i, data in enumerate(train_dataloader):\n",
    "        optimizer.zero_grad() # zero the gradients for every batch\n",
    "        u_out = model(data)\n",
    "        loss_q = model.qm(u_out)\n",
    "        \n",
    "        loss_q.backward()\n",
    "        para_list = list(model.parameters())\n",
    "        # freeze parts of the grad to be zeros, e.g., param.grad[:,1:] = torch.zeros_like(param.grad[:,1:])\n",
    "        freeze_kernels(para_list, freeze_list)\n",
    "        optimizer.step()\n",
    "        # overwrite the new param to be the original weight\n",
    "        rewrite_kernels(para_list, freeze_list, [linear_tensor_R, linear_tensor_P])\n",
    "        running_loss += loss_q.item()\n",
    "    \n",
    "    last_loss = running_loss/(i+1)\n",
    "    return last_loss"
   ]
  },
  {
   "cell_type": "code",
   "execution_count": 10,
   "metadata": {},
   "outputs": [
    {
     "name": "stdout",
     "output_type": "stream",
     "text": [
      "0 0.4122780077159405\n",
      "1 0.4065069127827883\n",
      "2 0.4113866314291954\n",
      "3 0.40956542268395424\n",
      "4 0.4104850385338068\n",
      "5 0.4089690949767828\n",
      "6 0.41405410319566727\n",
      "7 0.41372206062078476\n",
      "8 0.4179411996155977\n",
      "9 0.42268360406160355\n",
      "10 0.4197783973067999\n",
      "11 0.42073493637144566\n",
      "12 0.4220576137304306\n",
      "13 0.4182436391711235\n",
      "14 0.42002689093351364\n",
      "15 0.4193516541272402\n",
      "16 0.42096357233822346\n",
      "17 0.4209420792758465\n",
      "18 0.42353109642863274\n",
      "19 0.421396816149354\n",
      "20 0.4223740641027689\n",
      "21 0.42428844049572945\n",
      "22 0.4246294628828764\n",
      "23 0.4251158945262432\n",
      "24 0.42496428079903126\n",
      "25 0.4235050808638334\n",
      "26 0.42669694125652313\n",
      "27 0.42650463804602623\n",
      "28 0.427047923207283\n",
      "29 0.42686792835593224\n",
      "30 0.4264872372150421\n",
      "31 0.4269579388201237\n",
      "32 0.4274661559611559\n",
      "33 0.4275769665837288\n",
      "34 0.4273585733026266\n",
      "35 0.43067088164389133\n",
      "36 0.42712887562811375\n",
      "37 0.43067020922899246\n",
      "38 0.4290061630308628\n",
      "39 0.43085731379687786\n",
      "40 0.429578747600317\n",
      "41 0.4299704749137163\n",
      "42 0.4297135416418314\n",
      "43 0.42937096580863\n",
      "44 0.4298562929034233\n",
      "45 0.42851169407367706\n",
      "46 0.43112532794475555\n",
      "47 0.4307251125574112\n",
      "48 0.43022213503718376\n",
      "49 0.43202286027371883\n",
      "50 0.43046877160668373\n",
      "51 0.4317216146737337\n",
      "52 0.43014421686530113\n",
      "53 0.4318413659930229\n",
      "54 0.42902249842882156\n",
      "55 0.43178935162723064\n",
      "56 0.43010574765503407\n",
      "57 0.43115066178143024\n",
      "58 0.42702758125960827\n",
      "59 0.43069293536245823\n",
      "60 0.42972348257899284\n",
      "61 0.4296492487192154\n",
      "62 0.43079964257776737\n",
      "63 0.43071804009377956\n",
      "64 0.4312407150864601\n",
      "65 0.43054775334894657\n",
      "66 0.4278627336025238\n",
      "67 0.43103490956127644\n",
      "68 0.4283541012555361\n",
      "69 0.429893022403121\n",
      "70 0.4284311980009079\n",
      "71 0.43258111737668514\n",
      "72 0.4293803870677948\n",
      "73 0.43200331926345825\n",
      "74 0.43172428756952286\n",
      "75 0.4306343272328377\n",
      "76 0.43042481504380703\n",
      "77 0.4295138418674469\n",
      "78 0.4297329466789961\n",
      "79 0.42958350479602814\n",
      "80 0.429690582677722\n",
      "81 0.4286518581211567\n",
      "82 0.42928045615553856\n",
      "83 0.4294779244810343\n",
      "84 0.4320213347673416\n",
      "85 0.429872727021575\n",
      "86 0.42969480343163013\n",
      "87 0.43001699447631836\n",
      "88 0.42878749035298824\n",
      "89 0.42912277951836586\n",
      "90 0.4312502760440111\n",
      "91 0.4310764577239752\n",
      "92 0.4296445995569229\n",
      "93 0.43023630790412426\n",
      "94 0.43188387528061867\n",
      "95 0.42932570166885853\n",
      "96 0.4303741864860058\n",
      "97 0.42910058982670307\n",
      "98 0.43119803071022034\n",
      "99 0.4283142667263746\n",
      "100 0.4279620237648487\n",
      "101 0.43043634481728077\n",
      "102 0.4302819464355707\n",
      "103 0.4302998799830675\n",
      "104 0.4292999356985092\n",
      "105 0.4316711984574795\n",
      "106 0.4296772424131632\n",
      "107 0.42983928322792053\n",
      "108 0.42852142453193665\n",
      "109 0.42947896383702755\n",
      "110 0.4298732317984104\n",
      "111 0.4291445426642895\n",
      "112 0.4288438521325588\n",
      "113 0.42656085081398487\n",
      "114 0.42843370884656906\n",
      "115 0.4290621280670166\n",
      "116 0.43061632104218006\n",
      "117 0.4291494954377413\n",
      "118 0.4291096217930317\n",
      "119 0.42935955710709095\n",
      "120 0.4299465846270323\n",
      "121 0.43045870400965214\n",
      "122 0.4300614073872566\n",
      "123 0.4284534864127636\n",
      "124 0.4298914894461632\n",
      "125 0.4307788647711277\n",
      "126 0.429105369374156\n",
      "127 0.4293179679661989\n",
      "128 0.4286562278866768\n",
      "129 0.4306119289249182\n",
      "130 0.4273410812020302\n",
      "131 0.4316202886402607\n",
      "132 0.4308762513101101\n",
      "133 0.42877280339598656\n",
      "134 0.43091268464922905\n",
      "135 0.4308571871370077\n",
      "136 0.4306492228060961\n",
      "137 0.43108221143484116\n",
      "138 0.42925688810646534\n",
      "139 0.4296870492398739\n",
      "140 0.4305812120437622\n",
      "141 0.43060346879065037\n",
      "142 0.43126043677330017\n",
      "143 0.4297425150871277\n",
      "144 0.43101898208260536\n",
      "145 0.4312540479004383\n",
      "146 0.42977698892354965\n",
      "147 0.42935262247920036\n",
      "148 0.42930551432073116\n",
      "149 0.4300969187170267\n",
      "150 0.4294768627732992\n",
      "151 0.4294044505804777\n",
      "152 0.43204447254538536\n",
      "153 0.4303792454302311\n",
      "154 0.4290286414325237\n",
      "155 0.42868729680776596\n",
      "156 0.43225919269025326\n",
      "157 0.43239494040608406\n",
      "158 0.4308229684829712\n",
      "159 0.4305143170058727\n",
      "160 0.431753346696496\n",
      "161 0.43014742992818356\n",
      "162 0.4305899627506733\n",
      "163 0.428948562592268\n",
      "164 0.4313418809324503\n",
      "165 0.43148333951830864\n",
      "166 0.4290124177932739\n",
      "167 0.4309541415423155\n",
      "168 0.42990805581212044\n",
      "169 0.4289674963802099\n",
      "170 0.4297453258186579\n",
      "171 0.4288489520549774\n",
      "172 0.42922159284353256\n",
      "173 0.4284966476261616\n",
      "174 0.4289792850613594\n",
      "175 0.42912568524479866\n",
      "176 0.4270121119916439\n",
      "177 0.43081381916999817\n",
      "178 0.4301795680075884\n",
      "179 0.4308198746293783\n",
      "180 0.42934245243668556\n",
      "181 0.4321006927639246\n",
      "182 0.4284144416451454\n",
      "183 0.4295083936303854\n",
      "184 0.42712528072297573\n",
      "185 0.42901853658258915\n",
      "186 0.4309957791119814\n",
      "187 0.43061932921409607\n",
      "188 0.4310667999088764\n",
      "189 0.4299248568713665\n",
      "190 0.4313077349215746\n",
      "191 0.4287290330976248\n",
      "192 0.4289520140737295\n",
      "193 0.4316347725689411\n",
      "194 0.42989853397011757\n",
      "195 0.4296660088002682\n",
      "196 0.43170799873769283\n",
      "197 0.42838205210864544\n",
      "198 0.4287515841424465\n",
      "199 0.4297193307429552\n",
      "200 0.42954968847334385\n",
      "201 0.43049194291234016\n",
      "202 0.43106428161263466\n",
      "203 0.42913820780813694\n",
      "204 0.42937490344047546\n",
      "205 0.42905148304998875\n",
      "206 0.43147672712802887\n",
      "207 0.4306063540279865\n",
      "208 0.4297969155013561\n",
      "209 0.4278998617082834\n",
      "210 0.42997694946825504\n",
      "211 0.43128212727606297\n",
      "212 0.4309649486094713\n",
      "213 0.4299227725714445\n",
      "214 0.42954584769904613\n",
      "215 0.4282721634954214\n",
      "216 0.43072892166674137\n",
      "217 0.42921806685626507\n",
      "218 0.4317767322063446\n",
      "219 0.43479127064347267\n",
      "220 0.4326295927166939\n",
      "221 0.4309608191251755\n",
      "222 0.43161244690418243\n",
      "223 0.42893753573298454\n",
      "224 0.43141164630651474\n",
      "225 0.4302626010030508\n",
      "226 0.42969340458512306\n",
      "227 0.42968044616281986\n",
      "228 0.43190344609320164\n",
      "229 0.4298569969832897\n",
      "230 0.4295575302094221\n",
      "231 0.42873622849583626\n",
      "232 0.42990044318139553\n",
      "233 0.42894781194627285\n",
      "234 0.43130719289183617\n",
      "235 0.4312084838747978\n",
      "236 0.4281126819550991\n",
      "237 0.43030486442148685\n",
      "238 0.430267509073019\n",
      "239 0.431093230843544\n",
      "240 0.43144479021430016\n",
      "241 0.4289307650178671\n",
      "242 0.43137869611382484\n",
      "243 0.43001808784902096\n",
      "244 0.4302063472568989\n",
      "245 0.4301386345177889\n",
      "246 0.4299714658409357\n",
      "247 0.43167720548808575\n",
      "248 0.4307001009583473\n",
      "249 0.4281631615012884\n",
      "250 0.4294262398034334\n",
      "251 0.42753976956009865\n",
      "252 0.4299748782068491\n",
      "253 0.42978671565651894\n",
      "254 0.4295348525047302\n",
      "255 0.4326354581862688\n",
      "256 0.4296239074319601\n",
      "257 0.4294993318617344\n",
      "258 0.42894164472818375\n",
      "259 0.430296178907156\n",
      "260 0.4301041029393673\n",
      "261 0.42794651351869106\n",
      "262 0.4311281833797693\n",
      "263 0.4297076892107725\n",
      "264 0.43274685367941856\n",
      "265 0.43268492817878723\n",
      "266 0.42928892001509666\n",
      "267 0.4307723417878151\n",
      "268 0.42700392194092274\n",
      "269 0.42800612933933735\n",
      "270 0.42970477789640427\n",
      "271 0.4275825750082731\n",
      "272 0.4279710631817579\n",
      "273 0.42956879921257496\n",
      "274 0.42898140847682953\n",
      "275 0.428774856030941\n",
      "276 0.4292102102190256\n",
      "277 0.43036332353949547\n",
      "278 0.4299056064337492\n",
      "279 0.4297716375440359\n",
      "280 0.4312120247632265\n",
      "281 0.43139781802892685\n",
      "282 0.42938586324453354\n",
      "283 0.4320730473846197\n",
      "284 0.42874452471733093\n",
      "285 0.4297273736447096\n",
      "286 0.43003085628151894\n",
      "287 0.4290008209645748\n",
      "288 0.42967824824154377\n",
      "289 0.43057052604854107\n",
      "290 0.4317641220986843\n",
      "291 0.42960526421666145\n",
      "292 0.4313423801213503\n",
      "293 0.4297884441912174\n",
      "294 0.4287419933825731\n",
      "295 0.42984209582209587\n",
      "296 0.42859059013426304\n",
      "297 0.4296401869505644\n",
      "298 0.430433327332139\n",
      "299 0.43181079626083374\n"
     ]
    }
   ],
   "source": [
    "num_epoch = 300\n",
    "best_vloss = 1_000_000.\n",
    "\n",
    "qm_train = []\n",
    "for epoch in range(num_epoch):\n",
    "    model.train(True)\n",
    "    avg_q = train_one_epoch()\n",
    "    print(epoch, avg_q)\n",
    "    \n",
    "    # Track best performance, and save the model's state\n",
    "    mpath = os.path.join(model_dir,'model_multigrid_interface_kernel.pth')\n",
    "    torch.save(model.state_dict(), mpath)\n",
    "    qm_train.append(avg_q)"
   ]
  },
  {
   "cell_type": "code",
   "execution_count": 11,
   "metadata": {},
   "outputs": [
    {
     "data": {
      "text/plain": [
       "Text(0.5, 0, 'epoch')"
      ]
     },
     "execution_count": 11,
     "metadata": {},
     "output_type": "execute_result"
    },
    {
     "data": {
      "image/png": "[encoded data removed]",
      "text/plain": [
       "<Figure size 432x288 with 1 Axes>"
      ]
     },
     "metadata": {
      "needs_background": "light"
     },
     "output_type": "display_data"
    }
   ],
   "source": [
    "plt.plot(qm_train)\n",
    "plt.ylabel('q')\n",
    "plt.xlabel('epoch')"
   ]
  },
  {
   "cell_type": "code",
   "execution_count": 12,
   "metadata": {},
   "outputs": [
    {
     "name": "stdout",
     "output_type": "stream",
     "text": [
      "Learned parameters:\n",
      "Ratio: tensor([4., 1.])\n",
      "Restriction kernel: tensor([[ 0.4559, -0.3972,  0.0572],\n",
      "        [-0.4051, -0.0182,  0.3990],\n",
      "        [ 0.0558,  0.3971, -0.0686]], grad_fn=<SelectBackward0>)\n",
      "Interpolation kernel: tensor([[0.2865, 0.5281, 0.2811],\n",
      "        [0.5280, 0.9729, 0.3286],\n",
      "        [0.2816, 0.3284, 0.1176]], grad_fn=<SelectBackward0>)\n",
      "\n",
      "Previous parameters:\n",
      "Ratio: tensor([4., 1.])\n",
      "Restriction kernel: tensor([[0.0625, 0.1250, 0.0625],\n",
      "        [0.1250, 0.2500, 0.1250],\n",
      "        [0.0625, 0.1250, 0.0625]], grad_fn=<SelectBackward0>)\n",
      "Interpolation kernel: tensor([[0.2500, 0.5000, 0.2500],\n",
      "        [0.5000, 1.0000, 0.5000],\n",
      "        [0.2500, 0.5000, 0.2500]], grad_fn=<SelectBackward0>)\n"
     ]
    }
   ],
   "source": [
    "print('Learned parameters:')\n",
    "print('Ratio:', mlist[0][:])\n",
    "print('Restriction kernel:', mlist[1][0][5])\n",
    "print('Interpolation kernel:', mlist[2][5][0])\n",
    "\n",
    "print()\n",
    "\n",
    "print('Previous parameters:')\n",
    "print('Ratio:', mlist[0][:])\n",
    "print('Restriction kernel:', mlist[1][0][6])\n",
    "print('Interpolation kernel:', mlist[2][6][0])\n"
   ]
  },
  {
   "cell_type": "code",
   "execution_count": 13,
   "metadata": {},
   "outputs": [
    {
     "data": {
      "text/plain": [
       "<All keys matched successfully>"
      ]
     },
     "execution_count": 13,
     "metadata": {},
     "output_type": "execute_result"
    }
   ],
   "source": [
    "# import the learned model\n",
    "model.load_state_dict(torch.load(os.path.join(model_dir,'model_multigrid_interface_kernel.pth')))"
   ]
  },
  {
   "cell_type": "code",
   "execution_count": 14,
   "metadata": {},
   "outputs": [
    {
     "name": "stdout",
     "output_type": "stream",
     "text": [
      "0 0.11738956719636917\n",
      "1 0.03869187459349632\n",
      "2 0.014399256557226181\n",
      "3 0.00552083645015955\n",
      "4 0.0021587701048702\n",
      "5 0.0008528736070729792\n",
      "6 0.00034100544871762395\n",
      "7 0.0001374189305352047\n",
      "8 5.6028919061645865e-05\n",
      "9 2.270502045575995e-05\n",
      "Solution converges after 10 multi-grid iterations \n"
     ]
    }
   ],
   "source": [
    "EPS = 5e-5\n",
    "n_multigrid = 0\n",
    "n = 2**4\n",
    "u = torch.zeros((1, 1, n+1, n+1), requires_grad=False, dtype=torch.float32)\n",
    "res_arr = [1]\n",
    "res = 1\n",
    "model(rhs[0].unsqueeze(0))\n",
    "while (abs(res) > EPS):\n",
    "    u = model.iterate(u, model.f)\n",
    "    residual = model.f-model.grids[0].Knet(u)\n",
    "    res_old = res\n",
    "    res = torch.sqrt(torch.sum(residual[:, :, 1:-1, 1:-1] ** 2)).item()\n",
    "    res_arr.append(res)\n",
    "    print(n_multigrid, res)\n",
    "    n_multigrid += 1\n",
    "\n",
    "print(\"Solution converges after\", n_multigrid, \"multi-grid iterations \")"
   ]
  },
  {
   "cell_type": "code",
   "execution_count": 15,
   "metadata": {},
   "outputs": [
    {
     "data": {
      "image/png": "[encoded data removed]",
      "text/plain": [
       "<Figure size 432x288 with 1 Axes>"
      ]
     },
     "metadata": {
      "needs_background": "light"
     },
     "output_type": "display_data"
    },
    {
     "data": {
      "image/png": "[encoded data removed]",
      "text/plain": [
       "<Figure size 432x288 with 2 Axes>"
      ]
     },
     "metadata": {
      "needs_background": "light"
     },
     "output_type": "display_data"
    }
   ],
   "source": [
    "plt.plot(res_arr)\n",
    "plt.yscale('log')\n",
    "plot.plot_field(u.detach())"
   ]
  },
  {
   "cell_type": "code",
   "execution_count": 16,
   "metadata": {},
   "outputs": [],
   "source": [
    "# Test the multigrid iteration\n",
    "class mgTest(MultiGrid):\n",
    "    '''Define the multigrid problem for 2D, n is the finest grid size'''\n",
    "    def __init__(self, inter_model, n = 64):\n",
    "        super(mgTest, self).__init__(n, linear_tensor_R, linear_tensor_P, linear_ratio)\n",
    "\n",
    "        self.size = 2\n",
    "        self.n = n # total number of grids for finest grid\n",
    "        self.L = int(np.log2(n)) # number of levels for V-cycle multigrid\n",
    "        self.x = np.linspace(-1,1,n+1, dtype=np.float32) # grid number is n+1\n",
    "        self.y = np.linspace(-1,1,n+1, dtype=np.float32)\n",
    "        self.xx, self.yy = np.meshgrid(self.x, self.y, indexing='xy')\n",
    "        self.solution = []\n",
    "\n",
    "        self.w = inter_model.w\n",
    "        self.conv = inter_model.conv\n",
    "        self.deconv = inter_model.deconv\n",
    "        self.conv.requires_grad_(False)\n",
    "        self.deconv.requires_grad_(False)\n",
    "        self.w.requires_grad_(False)\n",
    "        \n",
    "        self.n_arr = self.SizeArray() # array to store grid size for each level\n",
    "        self.grids = self.GridDict() # dictionary of structure grids\n",
    "        \n",
    "        ff = np.ones_like(self.xx)\n",
    "        self.grids[0].f = self.grids[0].fnet(torch.from_numpy(ff.reshape(1,1,n+1,n+1))) # assign the finest right hand side with the original rhs\n",
    "    \n",
    "    def solve(self):\n",
    "        '''Return error and residual array'''\n",
    "        EPS = 5e-5\n",
    "        n_Vcycle = 0\n",
    "        self.grids[0].v = torch.zeros((1, 1, self.n+1, self.n+1), requires_grad=False, dtype=torch.float32)\n",
    "        e_Vcycle, res = 1, 1\n",
    "        e_arr_Vcycle = [e_Vcycle]\n",
    "        res_arr_Vcycle = [res]\n",
    "        err_occured = False\n",
    "        while (res > EPS):\n",
    "            u_prev = self.grids[0].v \n",
    "            self.grids[0].v = self.iterate(self.grids[0].v,self.grids[0].f)\n",
    "            e_Vcycle = torch.sqrt(torch.sum((self.grids[0].v - u_prev) ** 2)).item() / torch.sqrt(torch.sum((self.grids[0].v) ** 2)).item()\n",
    "            e_arr_Vcycle.append(e_Vcycle)\n",
    "            residual = self.grids[0].f-self.grids[0].Knet(self.grids[0].v)\n",
    "            res = torch.sqrt(torch.sum(residual[:, :, 1:-1, 1:-1] ** 2)).item()\n",
    "            res_arr_Vcycle.append(res)\n",
    "            print(e_Vcycle, res)\n",
    "            n_Vcycle += 1\n",
    "            if(res == torch.inf or math.isnan(res)):\n",
    "                err_occured = True\n",
    "                break\n",
    "\n",
    "        if(err_occured):\n",
    "            print(\"The iteration doesn't converge!\")\n",
    "        else:\n",
    "            print(\"Solution converges after\", n_Vcycle, \"V-cycle iterations with relative error of\", e_Vcycle)\n",
    "        return e_arr_Vcycle, res_arr_Vcycle"
   ]
  },
  {
   "cell_type": "code",
   "execution_count": 17,
   "metadata": {},
   "outputs": [
    {
     "name": "stdout",
     "output_type": "stream",
     "text": [
      "1.0 0.22294704616069794\n",
      "0.13798845644916333 0.11125761270523071\n",
      "0.011720495493664695 0.044469766318798065\n",
      "0.011036531350644481 0.016820011660456657\n",
      "0.0068445611936487575 0.006714546121656895\n",
      "0.002955715704700331 0.002911544404923916\n",
      "0.0010647564670445131 0.0013408095110207796\n",
      "0.0003484337295840678 0.0006416418473236263\n",
      "0.00011566845168025494 0.0003176702302880585\n",
      "4.590081066982837e-05 0.00016098217747639865\n",
      "2.2196308095952022e-05 8.261210314230993e-05\n",
      "1.0392015198761395e-05 4.2568764911266044e-05\n",
      "Solution converges after 12 V-cycle iterations with relative error of 1.0392015198761395e-05\n"
     ]
    },
    {
     "data": {
      "image/png": "[encoded data removed]",
      "text/plain": [
       "<Figure size 432x288 with 1 Axes>"
      ]
     },
     "metadata": {
      "needs_background": "light"
     },
     "output_type": "display_data"
    },
    {
     "data": {
      "image/png": "[encoded data removed]",
      "text/plain": [
       "<Figure size 432x288 with 2 Axes>"
      ]
     },
     "metadata": {
      "needs_background": "light"
     },
     "output_type": "display_data"
    }
   ],
   "source": [
    "# Multigrid implementation\n",
    "n = 2**6\n",
    "prob_mg = mgTest(model, n)\n",
    "\n",
    "e_arr_Vcycle, res_arr_Vcycle = prob_mg.solve()\n",
    "\n",
    "plt.plot(e_arr_Vcycle, label='Error')\n",
    "plt.plot(res_arr_Vcycle, label='Residual')\n",
    "plt.yscale('log')\n",
    "plt.xlabel('# iteration')\n",
    "#plt.ylabel('Error')\n",
    "plt.legend()\n",
    "\n",
    "plot.plot_field(prob_mg.grids[0].v.detach())"
   ]
  },
  {
   "cell_type": "code",
   "execution_count": 18,
   "metadata": {},
   "outputs": [
    {
     "name": "stdout",
     "output_type": "stream",
     "text": [
      "q is:  0.5747292162190066\n"
     ]
    }
   ],
   "source": [
    "def compute_q(res_arr):\n",
    "    return np.power(res_arr[9]/res_arr[6], 1.0/4)\n",
    "\n",
    "print(\"q is: \", compute_q(res_arr_Vcycle))"
   ]
  }
 ],
 "metadata": {
  "kernelspec": {
   "display_name": "Python 3.8.13 ('pytorch11')",
   "language": "python",
   "name": "python3"
  },
  "language_info": {
   "codemirror_mode": {
    "name": "ipython",
    "version": 3
   },
   "file_extension": ".py",
   "mimetype": "text/x-python",
   "name": "python",
   "nbconvert_exporter": "python",
   "pygments_lexer": "ipython3",
   "version": "3.8.13"
  },
  "orig_nbformat": 4,
  "vscode": {
   "interpreter": {
    "hash": "926ad5c238a4420011e83b59655d6cd21b021d9ee1aa0438d38aa969cfe55744"
   }
  }
 },
 "nbformat": 4,
 "nbformat_minor": 2
}
