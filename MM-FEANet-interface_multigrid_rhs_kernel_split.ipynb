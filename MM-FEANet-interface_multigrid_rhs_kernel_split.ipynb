{
 "cells": [
  {
   "cell_type": "markdown",
   "metadata": {},
   "source": [
    "Learn the inter-grid operator ratio for interface problems using multigrid framework,\n",
    "* Dataset is constructed by changing RHS \n",
    "* Restriction and Prolongation operations are followed by a split operation\n",
    "* Kernels for some part of fields are learned "
   ]
  },
  {
   "cell_type": "code",
   "execution_count": 1,
   "metadata": {},
   "outputs": [],
   "source": [
    "import torch\n",
    "import torch.nn as nn\n",
    "import torch.nn.functional as F\n",
    "\n",
    "from torch.autograd import Variable\n",
    "from torch.utils.data import DataLoader\n",
    "from torchvision.transforms import ToTensor\n",
    "\n",
    "import os\n",
    "import scipy.io as sio\n",
    "import numpy as np\n",
    "import matplotlib.pyplot as plt\n",
    "import math\n",
    "import random\n",
    "\n",
    "from FEANet.mesh import MeshHandler\n",
    "from FEANet.geo import Geometry\n",
    "from FEANet.jacobi import JacobiBlock\n",
    "from FEANet.model import KNet, FNet\n",
    "from FEANet.multigrid import MultiGrid\n",
    "\n",
    "from Utils import plot\n",
    "from Data.dataset import RHSDataSet"
   ]
  },
  {
   "cell_type": "code",
   "execution_count": 2,
   "metadata": {},
   "outputs": [],
   "source": [
    "training_set = RHSDataSet('Data/poisson2d_rhs_17x17.h5', case='train')\n",
    "test_set = RHSDataSet('Data/poisson2d_rhs_17x17.h5', case='test')\n",
    "\n",
    "train_dataloader = DataLoader(training_set, batch_size=64, shuffle=True)\n",
    "test_dataloader = DataLoader(test_set, batch_size=64, shuffle=True)"
   ]
  },
  {
   "cell_type": "code",
   "execution_count": 3,
   "metadata": {},
   "outputs": [],
   "source": [
    "linear_tensor_R = torch.asarray([[1, 2, 1],\n",
    "                                 [2, 4, 2],\n",
    "                                 [1, 2, 1]], dtype=torch.float32) / 16.0\n",
    "linear_tensor_P = torch.asarray([[1, 2, 1],\n",
    "                                 [2, 4, 2],\n",
    "                                 [1, 2, 1]], dtype=torch.float32) / 4.0\n",
    "linear_ratio = torch.asarray([4.,1.], dtype=torch.float32)"
   ]
  },
  {
   "cell_type": "code",
   "execution_count": 4,
   "metadata": {},
   "outputs": [],
   "source": [
    "n = 2**4\n",
    "model = MultiGrid(n, linear_tensor_R, linear_tensor_P, linear_ratio)\n",
    "rhs = next(iter(train_dataloader))"
   ]
  },
  {
   "cell_type": "code",
   "execution_count": 5,
   "metadata": {},
   "outputs": [
    {
     "name": "stdout",
     "output_type": "stream",
     "text": [
      "0 0.0008530860068276525\n",
      "1 0.00024632076383568347\n",
      "2 8.343508670805022e-05\n",
      "3 2.9828441256540827e-05\n",
      "Solution converges after 4 multi-grid iterations \n"
     ]
    },
    {
     "data": {
      "image/png": "[encoded data removed]",
      "text/plain": [
       "<Figure size 432x288 with 1 Axes>"
      ]
     },
     "metadata": {
      "needs_background": "light"
     },
     "output_type": "display_data"
    }
   ],
   "source": [
    "EPS = 5e-5\n",
    "n_multigrid = 0\n",
    "u = torch.zeros((1, 1, n+1, n+1), requires_grad=False, dtype=torch.float32)\n",
    "res_arr = [1]\n",
    "res = 1\n",
    "model(rhs[1].unsqueeze(0))\n",
    "err_occured = False\n",
    "while (abs(res) > EPS):\n",
    "    u = model.iterate(u, model.f)\n",
    "    residual = model.f-model.grids[0].Knet(u)\n",
    "    res_old = res\n",
    "    res = torch.sqrt(torch.sum(residual[:, :, 1:-1, 1:-1] ** 2)).item()\n",
    "    res_arr.append(res)\n",
    "    print(n_multigrid, res)\n",
    "    n_multigrid += 1\n",
    "\n",
    "    if(res == torch.inf or math.isnan(res)):\n",
    "        err_occured = True\n",
    "        break\n",
    "\n",
    "if(err_occured):\n",
    "    print(\"The iteration doesn't converge!\")\n",
    "else:\n",
    "    print(\"Solution converges after\", n_multigrid, \"multi-grid iterations \")\n",
    "plt.plot(res_arr)\n",
    "plt.yscale('log')"
   ]
  },
  {
   "cell_type": "code",
   "execution_count": 6,
   "metadata": {},
   "outputs": [
    {
     "name": "stdout",
     "output_type": "stream",
     "text": [
      "Ratio: tensor([4., 1.])\n",
      "Restriction kernel: tensor([[0.0625, 0.1250, 0.0625],\n",
      "        [0.1250, 0.2500, 0.1250],\n",
      "        [0.0625, 0.1250, 0.0625]], grad_fn=<SelectBackward0>)\n",
      "Restriction kernel shape: torch.Size([1, 16, 3, 3])\n",
      "Interpolation kernel: tensor([[0.2500, 0.5000, 0.2500],\n",
      "        [0.5000, 1.0000, 0.5000],\n",
      "        [0.2500, 0.5000, 0.2500]], grad_fn=<SelectBackward0>)\n",
      "Interpolation kernel shape: torch.Size([16, 1, 3, 3])\n"
     ]
    }
   ],
   "source": [
    "model_dir = 'Model/multigrid_rhs'\n",
    "if not os.path.exists(model_dir):\n",
    "    os.makedirs(model_dir)\n",
    "    \n",
    "optimizer = torch.optim.Adam(model.parameters(), lr=1e-3)\n",
    "mlist = list(model.parameters())\n",
    "print('Ratio:', mlist[0][:])\n",
    "print('Restriction kernel:', mlist[1][0][0])\n",
    "print('Restriction kernel shape:', mlist[1].shape)\n",
    "print('Interpolation kernel:', mlist[2][0][0])\n",
    "print('Interpolation kernel shape:', mlist[2].shape)"
   ]
  },
  {
   "cell_type": "code",
   "execution_count": 7,
   "metadata": {},
   "outputs": [],
   "source": [
    "def freeze_kernels(para_list, list):\n",
    "    '''Freeze the kernels in list, second and third term are R and P'''\n",
    "    for i in list:\n",
    "        para_list[1].grad[:,i] = torch.zeros_like(para_list[1].grad[:,i])\n",
    "        para_list[2].grad[i,:] = torch.zeros_like(para_list[2].grad[i,:])\n",
    "        \n",
    "\n",
    "def rewrite_kernels(para_list, list, kernels):\n",
    "    '''Overwrite the kernels in list to be 'kernels', second and third term are R and P '''\n",
    "    for i in list:\n",
    "        para_list[1].grad[:,i] = kernels[0]\n",
    "        para_list[2].grad[i,:] = kernels[1]"
   ]
  },
  {
   "cell_type": "code",
   "execution_count": 8,
   "metadata": {},
   "outputs": [
    {
     "data": {
      "image/png": "[encoded data removed]",
      "text/plain": [
       "<Figure size 432x288 with 1 Axes>"
      ]
     },
     "metadata": {
      "needs_background": "light"
     },
     "output_type": "display_data"
    }
   ],
   "source": [
    "kernel_i = 12\n",
    "mesh = MeshHandler(outfile=\"Results/plate_mesh.vtk\")\n",
    "plot.plot_pattern(mesh, key=kernel_i)"
   ]
  },
  {
   "cell_type": "code",
   "execution_count": 9,
   "metadata": {},
   "outputs": [],
   "source": [
    "freeze_list = [0,1,2,3,4,5,6,7,8,9,10,11,12,13,14,15] # freeze a kernel\n",
    "freeze_list.remove(kernel_i)\n",
    "\n",
    "def train_one_epoch():\n",
    "    running_loss = 0.\n",
    "    for i, data in enumerate(train_dataloader):\n",
    "        optimizer.zero_grad() # zero the gradients for every batch\n",
    "        u_out = model(data)\n",
    "        loss_q = model.qm(u_out)\n",
    "        \n",
    "        loss_q.backward()\n",
    "        para_list = list(model.parameters())\n",
    "        # freeze parts of the grad to be zeros, e.g., param.grad[:,1:] = torch.zeros_like(param.grad[:,1:])\n",
    "        freeze_kernels(para_list, freeze_list)\n",
    "        optimizer.step()\n",
    "        # overwrite the new param to be the original weight\n",
    "        rewrite_kernels(para_list, freeze_list, [linear_tensor_R, linear_tensor_P])\n",
    "        running_loss += loss_q.item()\n",
    "    \n",
    "    last_loss = running_loss/(i+1)\n",
    "    return last_loss"
   ]
  },
  {
   "cell_type": "code",
   "execution_count": 10,
   "metadata": {},
   "outputs": [
    {
     "name": "stdout",
     "output_type": "stream",
     "text": [
      "0 0.41126375645399094\n",
      "1 0.41689118184149265\n",
      "2 0.42074258625507355\n",
      "3 0.42903608083724976\n",
      "4 0.43325703777372837\n",
      "5 0.4394267201423645\n",
      "6 0.44447704218328\n",
      "7 0.44825844652950764\n",
      "8 0.44921439699828625\n",
      "9 0.450447253882885\n",
      "10 0.4545490462332964\n",
      "11 0.45368944481015205\n",
      "12 0.4568483028560877\n",
      "13 0.4554218389093876\n",
      "14 0.45735666900873184\n",
      "15 0.45824332162737846\n",
      "16 0.4611912611871958\n",
      "17 0.46581763587892056\n",
      "18 0.4623162429779768\n",
      "19 0.4674090091139078\n",
      "20 0.4670200739055872\n",
      "21 0.4707312285900116\n",
      "22 0.4690148402005434\n",
      "23 0.46699731424450874\n",
      "24 0.46704418025910854\n",
      "25 0.4697952847927809\n",
      "26 0.46917487122118473\n",
      "27 0.46815630979835987\n",
      "28 0.47169711627066135\n",
      "29 0.4698252063244581\n",
      "30 0.46951029263436794\n",
      "31 0.47243802808225155\n",
      "32 0.475046131759882\n",
      "33 0.473667049780488\n",
      "34 0.4711140375584364\n",
      "35 0.4733977075666189\n",
      "36 0.4740242213010788\n",
      "37 0.4763975888490677\n",
      "38 0.4739210419356823\n",
      "39 0.4767931830137968\n",
      "40 0.47558545134961605\n",
      "41 0.4782820902764797\n",
      "42 0.479635426774621\n",
      "43 0.47807777486741543\n",
      "44 0.47256255336105824\n",
      "45 0.47611975111067295\n",
      "46 0.4771495759487152\n",
      "47 0.4781706854701042\n",
      "48 0.47881774231791496\n",
      "49 0.47720591723918915\n",
      "50 0.4793265424668789\n",
      "51 0.4741499461233616\n",
      "52 0.47681837901473045\n",
      "53 0.4726307447999716\n",
      "54 0.476087162271142\n",
      "55 0.480562511831522\n",
      "56 0.480832451954484\n",
      "57 0.48152585327625275\n",
      "58 0.4782945606857538\n",
      "59 0.4790212269872427\n",
      "60 0.47682313062250614\n",
      "61 0.47948702797293663\n",
      "62 0.47823586873710155\n",
      "63 0.4853567946702242\n",
      "64 0.47778391279280186\n",
      "65 0.4746433161199093\n",
      "66 0.4765386115759611\n",
      "67 0.4776464458554983\n",
      "68 0.47750396095216274\n",
      "69 0.4783844668418169\n",
      "70 0.4785732850432396\n",
      "71 0.477737246081233\n",
      "72 0.4762635435909033\n",
      "73 0.4751224536448717\n",
      "74 0.4798905923962593\n",
      "75 0.48242285661399364\n",
      "76 0.4743435066193342\n",
      "77 0.4787901174277067\n",
      "78 0.47769151628017426\n",
      "79 0.4801303409039974\n",
      "80 0.4778976496309042\n",
      "81 0.4793815277516842\n",
      "82 0.48023759201169014\n",
      "83 0.47985430620610714\n",
      "84 0.47875981591641903\n",
      "85 0.4792122468352318\n",
      "86 0.4754504393786192\n",
      "87 0.48136008717119694\n",
      "88 0.4825707394629717\n",
      "89 0.4800384920090437\n",
      "90 0.476291760802269\n",
      "91 0.4777045976370573\n",
      "92 0.47654546797275543\n",
      "93 0.4820252787321806\n",
      "94 0.4799977131187916\n",
      "95 0.4807327426970005\n",
      "96 0.47515315003693104\n",
      "97 0.4775954559445381\n",
      "98 0.4810002688318491\n",
      "99 0.47973635978996754\n",
      "100 0.47872394882142544\n",
      "101 0.48056840524077415\n",
      "102 0.4797466713935137\n",
      "103 0.47992933355271816\n",
      "104 0.4811236970126629\n",
      "105 0.48083955235779285\n",
      "106 0.48058122396469116\n",
      "107 0.4778632130473852\n",
      "108 0.47668646089732647\n",
      "109 0.4786047898232937\n",
      "110 0.47447970882058144\n",
      "111 0.47899898886680603\n",
      "112 0.4802086241543293\n",
      "113 0.48134822584688663\n",
      "114 0.47849235869944096\n",
      "115 0.4764003809541464\n",
      "116 0.48037457279860973\n",
      "117 0.4800459910184145\n",
      "118 0.4829592537134886\n",
      "119 0.4804171845316887\n",
      "120 0.4765408616513014\n",
      "121 0.4830813743174076\n",
      "122 0.4796379990875721\n",
      "123 0.4771080110222101\n",
      "124 0.48195789754390717\n",
      "125 0.48324327915906906\n",
      "126 0.4840163867920637\n",
      "127 0.4803576245903969\n",
      "128 0.4812814313918352\n",
      "129 0.4789764489978552\n",
      "130 0.47996873036026955\n",
      "131 0.48186780139803886\n",
      "132 0.477590374648571\n",
      "133 0.4820821825414896\n",
      "134 0.4803500007838011\n",
      "135 0.4798657316714525\n",
      "136 0.4815647415816784\n",
      "137 0.47831897996366024\n",
      "138 0.47795806638896465\n",
      "139 0.4830081928521395\n",
      "140 0.4785896148532629\n",
      "141 0.4767355639487505\n",
      "142 0.4783314149826765\n",
      "143 0.47885232232511044\n",
      "144 0.4790089372545481\n",
      "145 0.4774145893752575\n",
      "146 0.47823384031653404\n",
      "147 0.4746288899332285\n",
      "148 0.48224226385354996\n",
      "149 0.4792987946420908\n",
      "150 0.47882924042642117\n",
      "151 0.4789291098713875\n",
      "152 0.47656961902976036\n",
      "153 0.4755083005875349\n",
      "154 0.48104580119252205\n",
      "155 0.4795872811228037\n",
      "156 0.4830722324550152\n",
      "157 0.47888844832777977\n",
      "158 0.4739532321691513\n",
      "159 0.4824726115912199\n",
      "160 0.48167843371629715\n",
      "161 0.4828080888837576\n",
      "162 0.48198224045336246\n",
      "163 0.4786831643432379\n",
      "164 0.47964761033654213\n",
      "165 0.47798266261816025\n",
      "166 0.47996243089437485\n",
      "167 0.47831718251109123\n",
      "168 0.47920652106404305\n",
      "169 0.47787439078092575\n",
      "170 0.47890678979456425\n",
      "171 0.48043571412563324\n",
      "172 0.4819409213960171\n",
      "173 0.4830261506140232\n",
      "174 0.47983468510210514\n",
      "175 0.4799738898873329\n",
      "176 0.4806889705359936\n",
      "177 0.47938178293406963\n",
      "178 0.4822693280875683\n",
      "179 0.47990545630455017\n",
      "180 0.48248918168246746\n",
      "181 0.47908288054168224\n",
      "182 0.47823694720864296\n",
      "183 0.4806326609104872\n",
      "184 0.47936454601585865\n",
      "185 0.4815840106457472\n",
      "186 0.47997296415269375\n",
      "187 0.48138888366520405\n",
      "188 0.4832274653017521\n",
      "189 0.47985452599823475\n",
      "190 0.4824684374034405\n",
      "191 0.4790257941931486\n",
      "192 0.48086003959178925\n",
      "193 0.48179745487868786\n",
      "194 0.48127985186874866\n",
      "195 0.4826028421521187\n",
      "196 0.4829931203275919\n",
      "197 0.4766680020838976\n",
      "198 0.4819114990532398\n",
      "199 0.4789380822330713\n",
      "200 0.4782985709607601\n",
      "201 0.4759687650948763\n",
      "202 0.47881364822387695\n",
      "203 0.479621984064579\n",
      "204 0.481313306838274\n",
      "205 0.4790863115340471\n",
      "206 0.47881958074867725\n",
      "207 0.4814902637153864\n",
      "208 0.4817005768418312\n",
      "209 0.48342956975102425\n",
      "210 0.4789755418896675\n",
      "211 0.48040363751351833\n",
      "212 0.4785256013274193\n",
      "213 0.4802437946200371\n",
      "214 0.4764197189360857\n",
      "215 0.4785490818321705\n",
      "216 0.4819613825529814\n",
      "217 0.4822216499596834\n",
      "218 0.4793683420866728\n",
      "219 0.4793573245406151\n",
      "220 0.4797000586986542\n",
      "221 0.4762017522007227\n",
      "222 0.47557604499161243\n",
      "223 0.48160579055547714\n",
      "224 0.4822353217750788\n",
      "225 0.4802556559443474\n",
      "226 0.47890302911400795\n",
      "227 0.4826419986784458\n",
      "228 0.48016639798879623\n",
      "229 0.48339552246034145\n",
      "230 0.48557526618242264\n",
      "231 0.4771178364753723\n",
      "232 0.4785673264414072\n",
      "233 0.4815630279481411\n",
      "234 0.48048448748886585\n",
      "235 0.48120144940912724\n",
      "236 0.4807487651705742\n",
      "237 0.47733542509377\n",
      "238 0.4762668311595917\n",
      "239 0.48297955468297005\n",
      "240 0.483159601688385\n",
      "241 0.48157453164458275\n",
      "242 0.4810913968831301\n",
      "243 0.48107186518609524\n",
      "244 0.47637649066746235\n",
      "245 0.4773610793054104\n",
      "246 0.4817678648978472\n",
      "247 0.47960815019905567\n",
      "248 0.48227295838296413\n",
      "249 0.47992665879428387\n",
      "250 0.4772079735994339\n",
      "251 0.47801760770380497\n",
      "252 0.47884110920131207\n",
      "253 0.48097349889576435\n",
      "254 0.48122400790452957\n",
      "255 0.47994987294077873\n",
      "256 0.4839557856321335\n",
      "257 0.4788447991013527\n",
      "258 0.48178084194660187\n",
      "259 0.48095463030040264\n",
      "260 0.4782601408660412\n",
      "261 0.48022085055708885\n",
      "262 0.4840010516345501\n",
      "263 0.4822097234427929\n",
      "264 0.4819568432867527\n",
      "265 0.4791651349514723\n",
      "266 0.4772387742996216\n",
      "267 0.4799084570258856\n",
      "268 0.47780913300812244\n",
      "269 0.4775923974812031\n",
      "270 0.48060521483421326\n",
      "271 0.4792940020561218\n",
      "272 0.4805830493569374\n",
      "273 0.4825973752886057\n",
      "274 0.4846094138920307\n",
      "275 0.47776830568909645\n",
      "276 0.4773585591465235\n",
      "277 0.48000177927315235\n",
      "278 0.48239449597895145\n",
      "279 0.4785552378743887\n",
      "280 0.4799108635634184\n",
      "281 0.47797739692032337\n",
      "282 0.47731528617441654\n",
      "283 0.4809947721660137\n",
      "284 0.4779884535819292\n",
      "285 0.4790736772119999\n",
      "286 0.48060630820691586\n",
      "287 0.48132823780179024\n",
      "288 0.48185607232153416\n",
      "289 0.48137989081442356\n",
      "290 0.4767097011208534\n",
      "291 0.47681110352277756\n",
      "292 0.4806327912956476\n",
      "293 0.48170141130685806\n",
      "294 0.48238502629101276\n",
      "295 0.48041075468063354\n",
      "296 0.4809614885598421\n",
      "297 0.48285177163779736\n",
      "298 0.480344794690609\n",
      "299 0.478131677955389\n"
     ]
    }
   ],
   "source": [
    "num_epoch = 300\n",
    "best_vloss = 1_000_000.\n",
    "model_name = 'model_multigrid_interface_kernel'+str(kernel_i)\n",
    "\n",
    "qm_train = []\n",
    "for epoch in range(num_epoch):\n",
    "    model.train(True)\n",
    "    avg_q = train_one_epoch()\n",
    "    print(epoch, avg_q)\n",
    "    \n",
    "    # Track best performance, and save the model's state\n",
    "    mpath = os.path.join(model_dir,model_name+'.pth')\n",
    "    torch.save(model.state_dict(), mpath)\n",
    "    qm_train.append(avg_q)"
   ]
  },
  {
   "cell_type": "code",
   "execution_count": 11,
   "metadata": {},
   "outputs": [
    {
     "data": {
      "text/plain": [
       "Text(0.5, 0, 'epoch')"
      ]
     },
     "execution_count": 11,
     "metadata": {},
     "output_type": "execute_result"
    },
    {
     "data": {
      "image/png": "[encoded data removed]",
      "text/plain": [
       "<Figure size 432x288 with 1 Axes>"
      ]
     },
     "metadata": {
      "needs_background": "light"
     },
     "output_type": "display_data"
    }
   ],
   "source": [
    "plt.plot(qm_train)\n",
    "plt.ylabel('q')\n",
    "plt.xlabel('epoch')"
   ]
  },
  {
   "cell_type": "code",
   "execution_count": 12,
   "metadata": {},
   "outputs": [],
   "source": [
    "# save the list\n",
    "np.save(os.path.join(model_dir,model_name+'.npy'),qm_train)"
   ]
  },
  {
   "cell_type": "code",
   "execution_count": 13,
   "metadata": {},
   "outputs": [
    {
     "name": "stdout",
     "output_type": "stream",
     "text": [
      "Learned parameters:\n",
      "Ratio: tensor([4., 1.])\n",
      "Restriction kernel: tensor([[-0.7691,  0.3702,  0.2362],\n",
      "        [ 0.3732,  0.2500,  0.3662],\n",
      "        [ 0.2361,  0.3684, -0.3561]], grad_fn=<SelectBackward0>)\n",
      "Interpolation kernel: tensor([[0.2668, 0.5094, 0.2778],\n",
      "        [0.5096, 0.9845, 0.5173],\n",
      "        [0.2777, 0.5171, 0.3441]], grad_fn=<SelectBackward0>)\n",
      "\n",
      "Previous parameters:\n",
      "Ratio: tensor([4., 1.])\n",
      "Restriction kernel: tensor([[0.0625, 0.1250, 0.0625],\n",
      "        [0.1250, 0.2500, 0.1250],\n",
      "        [0.0625, 0.1250, 0.0625]], grad_fn=<SelectBackward0>)\n",
      "Interpolation kernel: tensor([[0.2500, 0.5000, 0.2500],\n",
      "        [0.5000, 1.0000, 0.5000],\n",
      "        [0.2500, 0.5000, 0.2500]], grad_fn=<SelectBackward0>)\n"
     ]
    }
   ],
   "source": [
    "print('Learned parameters:')\n",
    "print('Ratio:', mlist[0][:])\n",
    "print('Restriction kernel:', mlist[1][0][kernel_i])\n",
    "print('Interpolation kernel:', mlist[2][kernel_i][0])\n",
    "\n",
    "print()\n",
    "\n",
    "print('Previous parameters:')\n",
    "print('Ratio:', mlist[0][:])\n",
    "print('Restriction kernel:', mlist[1][0][kernel_i-1])\n",
    "print('Interpolation kernel:', mlist[2][kernel_i-1][0])\n"
   ]
  },
  {
   "cell_type": "code",
   "execution_count": 14,
   "metadata": {},
   "outputs": [
    {
     "data": {
      "text/plain": [
       "<All keys matched successfully>"
      ]
     },
     "execution_count": 14,
     "metadata": {},
     "output_type": "execute_result"
    }
   ],
   "source": [
    "# import the learned model\n",
    "model.load_state_dict(torch.load(os.path.join(model_dir,model_name+'.pth')))"
   ]
  },
  {
   "cell_type": "code",
   "execution_count": 15,
   "metadata": {},
   "outputs": [
    {
     "name": "stdout",
     "output_type": "stream",
     "text": [
      "0 0.08498585969209671\n",
      "1 0.03980517387390137\n",
      "2 0.017964793369174004\n",
      "3 0.007922661490738392\n",
      "4 0.003488012822344899\n",
      "5 0.0015441548312082887\n",
      "6 0.0006875990657135844\n",
      "7 0.00030746764969080687\n",
      "8 0.0001377689332002774\n",
      "9 6.192467117216438e-05\n",
      "10 2.812931234075222e-05\n",
      "Solution converges after 11 multi-grid iterations \n"
     ]
    }
   ],
   "source": [
    "EPS = 5e-5\n",
    "n_multigrid = 0\n",
    "n = 2**4\n",
    "u = torch.zeros((1, 1, n+1, n+1), requires_grad=False, dtype=torch.float32)\n",
    "res_arr = [1]\n",
    "res = 1\n",
    "model(rhs[0].unsqueeze(0))\n",
    "while (abs(res) > EPS):\n",
    "    u = model.iterate(u, model.f)\n",
    "    residual = model.f-model.grids[0].Knet(u)\n",
    "    res_old = res\n",
    "    res = torch.sqrt(torch.sum(residual[:, :, 1:-1, 1:-1] ** 2)).item()\n",
    "    res_arr.append(res)\n",
    "    print(n_multigrid, res)\n",
    "    n_multigrid += 1\n",
    "\n",
    "print(\"Solution converges after\", n_multigrid, \"multi-grid iterations \")"
   ]
  },
  {
   "cell_type": "code",
   "execution_count": 16,
   "metadata": {},
   "outputs": [
    {
     "data": {
      "image/png": "[encoded data removed]",
      "text/plain": [
       "<Figure size 432x288 with 1 Axes>"
      ]
     },
     "metadata": {
      "needs_background": "light"
     },
     "output_type": "display_data"
    },
    {
     "data": {
      "image/png": "[encoded data removed]",
      "text/plain": [
       "<Figure size 432x288 with 2 Axes>"
      ]
     },
     "metadata": {
      "needs_background": "light"
     },
     "output_type": "display_data"
    }
   ],
   "source": [
    "plt.plot(res_arr)\n",
    "plt.yscale('log')\n",
    "plot.plot_field(u.detach())"
   ]
  },
  {
   "cell_type": "code",
   "execution_count": 17,
   "metadata": {},
   "outputs": [],
   "source": [
    "# Test the multigrid iteration\n",
    "class mgTest(MultiGrid):\n",
    "    '''Define the multigrid problem for 2D, n is the finest grid size'''\n",
    "    def __init__(self, inter_model, n = 64):\n",
    "        super(mgTest, self).__init__(n, linear_tensor_R, linear_tensor_P, linear_ratio)\n",
    "\n",
    "        self.size = 2\n",
    "        self.n = n # total number of grids for finest grid\n",
    "        self.L = int(np.log2(n)) # number of levels for V-cycle multigrid\n",
    "        self.x = np.linspace(-1,1,n+1, dtype=np.float32) # grid number is n+1\n",
    "        self.y = np.linspace(-1,1,n+1, dtype=np.float32)\n",
    "        self.xx, self.yy = np.meshgrid(self.x, self.y, indexing='xy')\n",
    "        self.solution = []\n",
    "\n",
    "        self.w = inter_model.w\n",
    "        self.conv = inter_model.conv\n",
    "        self.deconv = inter_model.deconv\n",
    "        self.conv.requires_grad_(False)\n",
    "        self.deconv.requires_grad_(False)\n",
    "        self.w.requires_grad_(False)\n",
    "        \n",
    "        self.n_arr = self.SizeArray() # array to store grid size for each level\n",
    "        self.grids = self.GridDict() # dictionary of structure grids\n",
    "        \n",
    "        ff = np.ones_like(self.xx)\n",
    "        self.grids[0].f = self.grids[0].fnet(torch.from_numpy(ff.reshape(1,1,n+1,n+1))) # assign the finest right hand side with the original rhs\n",
    "    \n",
    "    def solve(self):\n",
    "        '''Return error and residual array'''\n",
    "        EPS = 5e-5\n",
    "        n_Vcycle = 0\n",
    "        self.grids[0].v = torch.zeros((1, 1, self.n+1, self.n+1), requires_grad=False, dtype=torch.float32)\n",
    "        e_Vcycle, res = 1, 1\n",
    "        e_arr_Vcycle = [e_Vcycle]\n",
    "        res_arr_Vcycle = [res]\n",
    "        err_occured = False\n",
    "        while (res > EPS):\n",
    "            u_prev = self.grids[0].v \n",
    "            self.grids[0].v = self.iterate(self.grids[0].v,self.grids[0].f)\n",
    "            e_Vcycle = torch.sqrt(torch.sum((self.grids[0].v - u_prev) ** 2)).item() / torch.sqrt(torch.sum((self.grids[0].v) ** 2)).item()\n",
    "            e_arr_Vcycle.append(e_Vcycle)\n",
    "            residual = self.grids[0].f-self.grids[0].Knet(self.grids[0].v)\n",
    "            res = torch.sqrt(torch.sum(residual[:, :, 1:-1, 1:-1] ** 2)).item()\n",
    "            res_arr_Vcycle.append(res)\n",
    "            print(e_Vcycle, res)\n",
    "            n_Vcycle += 1\n",
    "            if(res == torch.inf or math.isnan(res)):\n",
    "                err_occured = True\n",
    "                break\n",
    "\n",
    "        if(err_occured):\n",
    "            print(\"The iteration doesn't converge!\")\n",
    "        else:\n",
    "            print(\"Solution converges after\", n_Vcycle, \"V-cycle iterations with relative error of\", e_Vcycle)\n",
    "        return e_arr_Vcycle, res_arr_Vcycle"
   ]
  },
  {
   "cell_type": "code",
   "execution_count": 18,
   "metadata": {},
   "outputs": [
    {
     "name": "stdout",
     "output_type": "stream",
     "text": [
      "1.0 0.15113717317581177\n",
      "0.17160780883990245 0.07476160675287247\n",
      "0.027066211807825903 0.037302833050489426\n",
      "0.01027765858331983 0.019919494166970253\n",
      "0.011717275089014639 0.011764800176024437\n",
      "0.006674178614841533 0.007594882044941187\n",
      "0.0025058199272735052 0.005235332529991865\n",
      "0.0003767427203619385 0.003770967712625861\n",
      "0.00042736737096830263 0.002777347108349204\n",
      "0.0005498881565294369 0.002055399352684617\n",
      "0.0004708205826649189 0.0015201159985736012\n",
      "0.0003513030285120221 0.0011201794259250164\n",
      "0.0002384041613820316 0.000822827685624361\n",
      "0.00016689781077027633 0.0006026267074048519\n",
      "0.00011397297371753383 0.0004421987687237561\n",
      "8.559376187133973e-05 0.00032379169715568423\n",
      "6.356103396122318e-05 0.00023961231636349112\n",
      "5.723582165357652e-05 0.00017658199067227542\n",
      "3.7357328186666714e-05 0.00012979880557395518\n",
      "2.9220544413042216e-05 9.696045890450478e-05\n",
      "1.2078668491052397e-05 6.963207124499604e-05\n",
      "1.6858738981325168e-05 5.1243972848169506e-05\n",
      "1.4178661976740282e-05 3.88913722417783e-05\n",
      "Solution converges after 23 V-cycle iterations with relative error of 1.4178661976740282e-05\n"
     ]
    },
    {
     "data": {
      "image/png": "[encoded data removed]",
      "text/plain": [
       "<Figure size 432x288 with 1 Axes>"
      ]
     },
     "metadata": {
      "needs_background": "light"
     },
     "output_type": "display_data"
    },
    {
     "data": {
      "image/png": "[encoded data removed]",
      "text/plain": [
       "<Figure size 432x288 with 2 Axes>"
      ]
     },
     "metadata": {
      "needs_background": "light"
     },
     "output_type": "display_data"
    }
   ],
   "source": [
    "# Multigrid implementation\n",
    "n = 2**6\n",
    "prob_mg = mgTest(model, n)\n",
    "\n",
    "e_arr_Vcycle, res_arr_Vcycle = prob_mg.solve()\n",
    "\n",
    "plt.plot(e_arr_Vcycle, label='Error')\n",
    "plt.plot(res_arr_Vcycle, label='Residual')\n",
    "plt.yscale('log')\n",
    "plt.xlabel('# iteration')\n",
    "#plt.ylabel('Error')\n",
    "plt.legend()\n",
    "\n",
    "plot.plot_field(prob_mg.grids[0].v.detach())"
   ]
  },
  {
   "cell_type": "code",
   "execution_count": 19,
   "metadata": {},
   "outputs": [
    {
     "name": "stdout",
     "output_type": "stream",
     "text": [
      "q is:  0.7776376547441867\n"
     ]
    }
   ],
   "source": [
    "def compute_q(res_arr):\n",
    "    return np.power(res_arr[9]/res_arr[6], 1.0/4)\n",
    "\n",
    "print(\"q is: \", compute_q(res_arr_Vcycle))"
   ]
  }
 ],
 "metadata": {
  "kernelspec": {
   "display_name": "Python 3.8.13 ('pytorch11')",
   "language": "python",
   "name": "python3"
  },
  "language_info": {
   "codemirror_mode": {
    "name": "ipython",
    "version": 3
   },
   "file_extension": ".py",
   "mimetype": "text/x-python",
   "name": "python",
   "nbconvert_exporter": "python",
   "pygments_lexer": "ipython3",
   "version": "3.8.13"
  },
  "orig_nbformat": 4,
  "vscode": {
   "interpreter": {
    "hash": "926ad5c238a4420011e83b59655d6cd21b021d9ee1aa0438d38aa969cfe55744"
   }
  }
 },
 "nbformat": 4,
 "nbformat_minor": 2
}
