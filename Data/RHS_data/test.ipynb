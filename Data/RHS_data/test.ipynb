{
 "cells": [
  {
   "cell_type": "code",
   "execution_count": 1,
   "metadata": {},
   "outputs": [],
   "source": [
    "import gaussian_random_fields as gr\n",
    "import random\n",
    "import numpy as np"
   ]
  },
  {
   "cell_type": "code",
   "execution_count": 2,
   "metadata": {},
   "outputs": [],
   "source": [
    "def random_data(N):\n",
    "    coef = 10*np.random.rand(2) - 5\n",
    "    return coef[0]*np.random.random((N,N)) + coef[1]\n",
    "\n",
    "def random_selected_points(N):\n",
    "    num = int(N/2)\n",
    "    data = np.zeros((N,N))\n",
    "    for _ in range(num):\n",
    "        i = np.random.randint(N)\n",
    "        j = np.random.randint(N)\n",
    "        data[i][j] = (10*np.random.rand() - 5)*random.random()\n",
    "    return data\n",
    "\n",
    "def Gaussian_random_field(N):\n",
    "    alpha = random.uniform(2.0,5.0)\n",
    "    return gr.gaussian_random_field(alpha=alpha, size=N)\n",
    "\n",
    "def trigonometric_function(xx, yy):\n",
    "    '''\n",
    "    xx, yy are grid point coordinates\n",
    "    -1 < x, y < 1\n",
    "    '''\n",
    "    coef = 10*np.random.rand(3) - 5\n",
    "    return coef[0]*np.sin(coef[1]*np.pi*xx)*np.sin(coef[2]*np.pi*yy)\n",
    "\n",
    "def polynomial_function(xx, yy):\n",
    "    '''\n",
    "    xx, yy are grid point coordinates\n",
    "    -1 < x, y < 1\n",
    "    '''\n",
    "    coef = 10*np.random.rand(4) - 5\n",
    "    return coef[0]*xx**2+coef[1]*yy**2+coef[2]*xx*yy+coef[3]\n",
    "\n",
    "def discontinuous_function(xx, yy):\n",
    "    '''\n",
    "    xx, yy are grid point coordinates\n",
    "    -1 < x, y < 1\n",
    "    '''\n",
    "    x_size, y_size = xx.shape\n",
    "    a = 20*np.random.random()-10\n",
    "    b = 2*random.random()-1 # [-1,1)\n",
    "    coef1 = 10*np.random.random((3,))-5\n",
    "    coef2 = 10*np.random.random((3,))-5\n",
    "    data = np.zeros_like(xx)\n",
    "    for i in range(x_size):\n",
    "        for j in range(y_size):\n",
    "            if(a*xx[i][j]+b > yy[i][j]):\n",
    "                data[i][j] = coef1[0]*np.sin(coef1[1]*np.pi*xx[i][j])*np.sin(coef1[2]*np.pi*yy[i][j])\n",
    "            else:\n",
    "                data[i][j] = coef2[0]*xx[i][j]**2+coef2[1]*yy[i][j]**2+coef2[2]*xx[i][j]*yy[i][j]\n",
    "    return data"
   ]
  },
  {
   "cell_type": "code",
   "execution_count": 3,
   "metadata": {},
   "outputs": [],
   "source": [
    "N = 2**5+1\n",
    "x = np.linspace(-1,1,N, dtype=np.float32) \n",
    "y = np.linspace(-1,1,N, dtype=np.float32)\n",
    "xx, yy = np.meshgrid(x, y, indexing='xy')"
   ]
  },
  {
   "cell_type": "code",
   "execution_count": 4,
   "metadata": {},
   "outputs": [],
   "source": [
    "a = np.zeros((2,N,N))"
   ]
  },
  {
   "cell_type": "code",
   "execution_count": 5,
   "metadata": {},
   "outputs": [
    {
     "data": {
      "text/plain": [
       "array([[0., 0., 0., ..., 0., 0., 0.],\n",
       "       [0., 0., 0., ..., 0., 0., 0.],\n",
       "       [0., 0., 0., ..., 0., 0., 0.],\n",
       "       ...,\n",
       "       [0., 0., 0., ..., 0., 0., 0.],\n",
       "       [0., 0., 0., ..., 0., 0., 0.],\n",
       "       [0., 0., 0., ..., 0., 0., 0.]])"
      ]
     },
     "execution_count": 5,
     "metadata": {},
     "output_type": "execute_result"
    }
   ],
   "source": [
    "a[0,:,:]"
   ]
  },
  {
   "cell_type": "code",
   "execution_count": 6,
   "metadata": {},
   "outputs": [
    {
     "data": {
      "text/plain": [
       "<matplotlib.image.AxesImage at 0x7f03d0cc1670>"
      ]
     },
     "execution_count": 6,
     "metadata": {},
     "output_type": "execute_result"
    },
    {
     "data": {
      "image/png": "[encoded data removed]",
      "text/plain": [
       "<Figure size 432x288 with 1 Axes>"
      ]
     },
     "metadata": {
      "needs_background": "light"
     },
     "output_type": "display_data"
    }
   ],
   "source": [
    "import matplotlib.pyplot as plt\n",
    "data = discontinuous_function(xx, yy)\n",
    "plt.imshow(data)"
   ]
  },
  {
   "cell_type": "code",
   "execution_count": 7,
   "metadata": {},
   "outputs": [],
   "source": [
    "def main(N, n_train, n_test):\n",
    "    '''N is the grid number along edges'''\n",
    "    dataset = {}\n",
    "    train_data = np.zeros((n_train, N, N))\n",
    "    test_data = np.zeros((n_test, N, N))\n",
    "    ntr, nte = int(n_train/6), int(n_test/6)\n",
    "\n",
    "    # random data in whole field\n",
    "    for i in range(ntr):\n",
    "        train_data[i,:,:] = random_data(N)\n",
    "    for j in range(nte):\n",
    "        test_data[j,:,:] = random_data(N)\n",
    "    \n",
    "    # random selected points for whole field\n",
    "    for i in range(ntr):\n",
    "        train_data[ntr+i,:,:] = random_selected_points(N)\n",
    "    for j in range(nte):\n",
    "        test_data[nte+j,:,:] = random_selected_points(N)\n",
    "\n",
    "    # Gaussian random field\n",
    "    for i in range(ntr):\n",
    "        train_data[2*ntr+i,:,:] = Gaussian_random_field(N)\n",
    "    for j in range(nte):\n",
    "        test_data[2*nte+j,:,:] = Gaussian_random_field(N)\n",
    "\n",
    "    # trigonometric function w randomness\n",
    "    x = np.linspace(-1,1,N, dtype=np.float32) \n",
    "    y = np.linspace(-1,1,N, dtype=np.float32)\n",
    "    xx, yy = np.meshgrid(x, y, indexing='xy')\n",
    "    for i in range(ntr):\n",
    "        train_data[3*ntr+i,:,:] = trigonometric_function(xx, yy)\n",
    "    for j in range(nte):\n",
    "        test_data[3*nte+j,:,:] = trigonometric_function(xx, yy)\n",
    "\n",
    "    # polynomial function w randomness\n",
    "    for i in range(ntr):\n",
    "        train_data[4*ntr+i,:,:] = polynomial_function(xx, yy)\n",
    "    for j in range(nte):\n",
    "        test_data[4*nte+j,:,:] = polynomial_function(xx, yy)\n",
    "\n",
    "    # discontinuous function w randomness\n",
    "    ntr1, nte1 = n_train-5*ntr, n_test-5*nte\n",
    "    for i in range(ntr1):\n",
    "        train_data[5*ntr+i,:,:] = discontinuous_function(xx, yy)\n",
    "    for j in range(nte1):\n",
    "        test_data[5*nte+j,:,:] = discontinuous_function(xx, yy)\n",
    "\n",
    "    dataset['train'] = train_data\n",
    "    dataset['test'] = test_data\n",
    "\n",
    "    return dataset"
   ]
  },
  {
   "cell_type": "code",
   "execution_count": 8,
   "metadata": {},
   "outputs": [],
   "source": [
    "dd = main(N, 1000, 200)"
   ]
  },
  {
   "cell_type": "code",
   "execution_count": 9,
   "metadata": {},
   "outputs": [
    {
     "data": {
      "text/plain": [
       "(1000, 33, 33)"
      ]
     },
     "execution_count": 9,
     "metadata": {},
     "output_type": "execute_result"
    }
   ],
   "source": [
    "dd['train'].shape"
   ]
  },
  {
   "cell_type": "code",
   "execution_count": 10,
   "metadata": {},
   "outputs": [
    {
     "data": {
      "text/plain": [
       "<matplotlib.image.AxesImage at 0x7f03d01da970>"
      ]
     },
     "execution_count": 10,
     "metadata": {},
     "output_type": "execute_result"
    },
    {
     "data": {
      "image/png": "[encoded data removed]",
      "text/plain": [
       "<Figure size 432x288 with 1 Axes>"
      ]
     },
     "metadata": {
      "needs_background": "light"
     },
     "output_type": "display_data"
    }
   ],
   "source": [
    "plt.imshow(dd['train'][928])"
   ]
  },
  {
   "cell_type": "code",
   "execution_count": 11,
   "metadata": {},
   "outputs": [
    {
     "data": {
      "text/plain": [
       "(200, 33, 33)"
      ]
     },
     "execution_count": 11,
     "metadata": {},
     "output_type": "execute_result"
    }
   ],
   "source": [
    "dd['test'].shape"
   ]
  },
  {
   "cell_type": "code",
   "execution_count": 12,
   "metadata": {},
   "outputs": [],
   "source": [
    "import h5py\n",
    "with h5py.File(\"test_data.h5\", \"w\") as hf:\n",
    "    for key, item in dd.items():\n",
    "        hf[key] = item"
   ]
  },
  {
   "cell_type": "code",
   "execution_count": 24,
   "metadata": {},
   "outputs": [],
   "source": [
    "h5 = h5py.File(\"poisson2d_rhs_16x16.h5\", \"r\")\n",
    "data = h5[\"train\"]"
   ]
  },
  {
   "cell_type": "code",
   "execution_count": 26,
   "metadata": {},
   "outputs": [
    {
     "data": {
      "text/plain": [
       "<matplotlib.image.AxesImage at 0x7f03ce981be0>"
      ]
     },
     "execution_count": 26,
     "metadata": {},
     "output_type": "execute_result"
    },
    {
     "data": {
      "image/png": "[encoded data removed]",
      "text/plain": [
       "<Figure size 432x288 with 1 Axes>"
      ]
     },
     "metadata": {
      "needs_background": "light"
     },
     "output_type": "display_data"
    }
   ],
   "source": [
    "plt.imshow(data[900])"
   ]
  }
 ],
 "metadata": {
  "kernelspec": {
   "display_name": "Python 3.8.13 ('pytorch11')",
   "language": "python",
   "name": "python3"
  },
  "language_info": {
   "codemirror_mode": {
    "name": "ipython",
    "version": 3
   },
   "file_extension": ".py",
   "mimetype": "text/x-python",
   "name": "python",
   "nbconvert_exporter": "python",
   "pygments_lexer": "ipython3",
   "version": "3.8.13"
  },
  "orig_nbformat": 4,
  "vscode": {
   "interpreter": {
    "hash": "926ad5c238a4420011e83b59655d6cd21b021d9ee1aa0438d38aa969cfe55744"
   }
  }
 },
 "nbformat": 4,
 "nbformat_minor": 2
}
