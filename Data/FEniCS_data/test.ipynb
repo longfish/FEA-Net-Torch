{
 "cells": [
  {
   "cell_type": "code",
   "execution_count": null,
   "metadata": {},
   "outputs": [],
   "source": [
    "import"
   ]
  }
 ],
 "metadata": {
  "kernelspec": {
   "display_name": "Python 3.8.13 ('fenicsproject')",
   "language": "python",
   "name": "python3"
  },
  "language_info": {
   "name": "python",
   "version": "3.8.13"
  },
  "orig_nbformat": 4,
  "vscode": {
   "interpreter": {
    "hash": "9317e4c36802a8e98f7b7f83bba50f266612d3fbd36b0b26563c22aeb2482809"
   }
  }
 },
 "nbformat": 4,
 "nbformat_minor": 2
}
