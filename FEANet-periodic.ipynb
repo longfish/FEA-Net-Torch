{
 "cells": [
  {
   "cell_type": "markdown",
   "metadata": {},
   "source": [
    "Solve for homogeneous Poisson problems using FEANet framework "
   ]
  },
  {
   "cell_type": "code",
   "execution_count": 1,
   "metadata": {},
   "outputs": [],
   "source": [
    "import torch\n",
    "import torch.nn as nn\n",
    "import torch.nn.functional as F\n",
    "\n",
    "from torch.autograd import Variable\n",
    "from torch.utils.data import Dataset\n",
    "from torch.utils.data import DataLoader\n",
    "from torchvision.transforms import ToTensor\n",
    "\n",
    "import os\n",
    "import h5py\n",
    "import meshio\n",
    "import scipy.io as sio\n",
    "import numpy as np\n",
    "import matplotlib.pyplot as plt\n",
    "import math\n",
    "import random\n",
    "\n",
    "from FEANet.mesh import MeshSquare\n",
    "from FEANet.model import KNet, FNet\n",
    "from FEANet.jacobi import JacobiBlockPBC\n",
    "from Utils import plot"
   ]
  },
  {
   "cell_type": "code",
   "execution_count": 2,
   "metadata": {},
   "outputs": [],
   "source": [
    "class SingleGrid():\n",
    "    '''\n",
    "    Perform weighted Jacobi iteration relaxation for a single grid.\n",
    "    Note: the n should be the number of intervals, e.g., \n",
    "          there are (n+1)*(n+1) grid points in total if the size is n\n",
    "          f has already been convoluted, i.e., f = fnet(ff) if ff is the sourcing term of PDE\n",
    "    '''\n",
    "    def __init__(self, n, f = None, size=2.0):\n",
    "        self.size = size # actual size of the plate\n",
    "        self.n = n \n",
    "        self.omega = 2/3.\n",
    "        self.grid = MeshSquare(size, nnode_edge=n+1)\n",
    "        self.InstantiateFEANet()\n",
    "        self.jac = JacobiBlockPBC(self.grid, self.Knet, self.omega)\n",
    "        self.v = torch.zeros((1, 1, n+1, n+1), requires_grad=False, dtype=torch.float32)\n",
    "\n",
    "        if(f is None):\n",
    "            f = torch.zeros((1, 1, n+1, n+1), requires_grad=False, dtype=torch.float32)\n",
    "        self.f = self.fnet(self.jac.pbc_boundary(f)) # due to padding = 1, the output size is n+3 rather than n+1\n",
    "\n",
    "    def InstantiateFEANet(self):\n",
    "        self.Knet = KNet(self.grid) # Initialize the stiffness network, given mesh\n",
    "        self.fnet = FNet(self.size/self.n) # Initialize the forcing term network, given mesh size\n",
    "        for param in self.Knet.parameters():\n",
    "            param.requires_grad = False\n",
    "        for param in self.fnet.parameters():\n",
    "            param.requires_grad = False\n",
    "\n",
    "    def Relax(self, initial_v, f, num_sweeps_down):\n",
    "        '''\n",
    "        Perform a fixed number of weighted Jacobi iteration\n",
    "        '''\n",
    "        v = initial_v\n",
    "        for i in range(num_sweeps_down):\n",
    "            v = self.jac.jacobi_convolution(v, f)\n",
    "        return v\n"
   ]
  },
  {
   "cell_type": "code",
   "execution_count": 3,
   "metadata": {},
   "outputs": [],
   "source": [
    "\n",
    "# Problem parameters\n",
    "n = 2**5\n",
    "\n",
    "x = torch.linspace(-1,1,n+1)\n",
    "y = torch.linspace(-1,1,n+1)\n",
    "xx, yy = torch.meshgrid(x, y, indexing='ij')\n",
    "\n",
    "k = 5.0\n",
    "l = -4.\n",
    "m = 3.\n",
    "\n",
    "rhs = k*torch.sin(l*torch.pi*(xx+0.5))*torch.cos(m*torch.pi*(yy)).reshape((1,1,n+1,n+1))\n",
    "prob = SingleGrid(n, rhs)"
   ]
  },
  {
   "cell_type": "code",
   "execution_count": 4,
   "metadata": {},
   "outputs": [
    {
     "name": "stdout",
     "output_type": "stream",
     "text": [
      "RHS:\n"
     ]
    },
    {
     "data": {
      "image/png": "[encoded data removed]",
      "text/plain": [
       "<Figure size 432x288 with 2 Axes>"
      ]
     },
     "metadata": {
      "needs_background": "light"
     },
     "output_type": "display_data"
    }
   ],
   "source": [
    "print(\"RHS:\")\n",
    "plot.plot_field(rhs.detach())"
   ]
  },
  {
   "cell_type": "code",
   "execution_count": 5,
   "metadata": {},
   "outputs": [
    {
     "name": "stdout",
     "output_type": "stream",
     "text": [
      "0 0.27434009313583374\n",
      "1 0.21556054055690765\n",
      "2 0.1693749725818634\n",
      "3 0.13308502733707428\n",
      "4 0.10457049310207367\n",
      "5 0.08216542750597\n",
      "6 0.06456082314252853\n",
      "7 0.050728149712085724\n",
      "8 0.039859235286712646\n",
      "9 0.03131908178329468\n",
      "10 0.024608712643384933\n",
      "11 0.019336096942424774\n",
      "12 0.015193185769021511\n",
      "13 0.011937922798097134\n",
      "14 0.009380128234624863\n",
      "15 0.0073703620582818985\n",
      "16 0.00579120684415102\n",
      "17 0.004550390876829624\n",
      "18 0.0035754332784563303\n",
      "19 0.0028093643486499786\n",
      "20 0.002207443118095398\n",
      "21 0.0017344796797260642\n",
      "22 0.0013628506567329168\n",
      "23 0.001070850994437933\n",
      "24 0.0008414099575020373\n",
      "25 0.0006611300632357597\n",
      "26 0.0005194767727516592\n",
      "27 0.0004081769147887826\n",
      "28 0.00032071961322799325\n",
      "29 0.00025200637173838913\n",
      "30 0.0001980090164579451\n",
      "31 0.00015558532322756946\n",
      "32 0.00012224809324834496\n",
      "33 9.605195373296738e-05\n",
      "34 7.547823042841628e-05\n",
      "35 5.93060722167138e-05\n",
      "36 4.6596687752753496e-05\n",
      "37 3.6613586416933686e-05\n",
      "38 2.876753751479555e-05\n",
      "39 2.260674773424398e-05\n",
      "40 1.7762178686098196e-05\n",
      "41 1.3956105249235407e-05\n",
      "42 1.0964575267280452e-05\n",
      "43 8.616450941190124e-06\n",
      "44 6.771802418370498e-06\n",
      "45 5.3219364417600445e-06\n",
      "46 4.179947609372903e-06\n"
     ]
    }
   ],
   "source": [
    "EPS = 5e-6\n",
    "n_jacobi = 0\n",
    "u_jacobi = torch.zeros((1, 1, n+1, n+1), requires_grad=False, dtype=torch.float32)\n",
    "u_jacobi_pbc = prob.jac.pbc_boundary(u_jacobi)\n",
    "\n",
    "residual = prob.f-prob.Knet(u_jacobi_pbc)\n",
    "u_jacobi = prob.jac.reset_boundary(u_jacobi)\n",
    "res = torch.sqrt(torch.sum(residual[:, :, 1:-1, 1:-1] ** 2)).item()\n",
    "res_jacobi = [res]\n",
    "print(n_jacobi, res)\n",
    "\n",
    "while (res > EPS and n_jacobi < 2000):\n",
    "    u_jacobi = prob.Relax(u_jacobi, prob.f, 1)\n",
    "    u_jacobi_pbc = prob.jac.pbc_boundary(u_jacobi)\n",
    "    residual = prob.f-prob.Knet(u_jacobi_pbc)\n",
    "    res = torch.sqrt(torch.sum(residual[:, :, 1:-1, 1:-1] ** 2)).item()\n",
    "    res_jacobi.append(res)\n",
    "    n_jacobi += 1\n",
    "    print(n_jacobi, res)"
   ]
  },
  {
   "cell_type": "code",
   "execution_count": 6,
   "metadata": {},
   "outputs": [
    {
     "name": "stdout",
     "output_type": "stream",
     "text": [
      "Solution converges after  46 Weighted Jacobi iterations\n",
      "Solution:\n"
     ]
    },
    {
     "data": {
      "image/png": "[encoded data removed]",
      "text/plain": [
       "<Figure size 432x288 with 1 Axes>"
      ]
     },
     "metadata": {
      "needs_background": "light"
     },
     "output_type": "display_data"
    },
    {
     "data": {
      "image/png": "[encoded data removed]",
      "text/plain": [
       "<Figure size 432x288 with 2 Axes>"
      ]
     },
     "metadata": {
      "needs_background": "light"
     },
     "output_type": "display_data"
    }
   ],
   "source": [
    "print(\"Solution converges after \", n_jacobi, \"Weighted Jacobi iterations\")\n",
    "\n",
    "plt.plot(res_jacobi)\n",
    "plt.yscale('log')\n",
    "\n",
    "print(\"Solution:\")\n",
    "plot.plot_field(u_jacobi.detach())\n"
   ]
  }
 ],
 "metadata": {
  "kernelspec": {
   "display_name": "Python 3.8.13 ('pytorch11')",
   "language": "python",
   "name": "python3"
  },
  "language_info": {
   "codemirror_mode": {
    "name": "ipython",
    "version": 3
   },
   "file_extension": ".py",
   "mimetype": "text/x-python",
   "name": "python",
   "nbconvert_exporter": "python",
   "pygments_lexer": "ipython3",
   "version": "3.8.13"
  },
  "orig_nbformat": 4,
  "vscode": {
   "interpreter": {
    "hash": "926ad5c238a4420011e83b59655d6cd21b021d9ee1aa0438d38aa969cfe55744"
   }
  }
 },
 "nbformat": 4,
 "nbformat_minor": 2
}
