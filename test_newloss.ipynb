{
 "cells": [
  {
   "cell_type": "code",
   "execution_count": 1,
   "metadata": {},
   "outputs": [],
   "source": [
    "import torch\n",
    "import torch.nn as nn\n",
    "import torch.nn.functional as F\n",
    "\n",
    "from torch.autograd import Variable\n",
    "from torch.utils.data import DataLoader\n",
    "from torchvision.transforms import ToTensor\n",
    "\n",
    "import os\n",
    "import scipy.io as sio\n",
    "import numpy as np\n",
    "import matplotlib.pyplot as plt\n",
    "import math\n",
    "import random\n",
    "\n",
    "from FEANet.mesh import MeshHandler\n",
    "from FEANet.geo import Geometry\n",
    "from FEANet.jacobi import JacobiBlock\n",
    "from FEANet.model import KNet, FNet\n",
    "\n",
    "from Utils import plot\n",
    "from Data.dataset import RHSDataSet"
   ]
  },
  {
   "cell_type": "code",
   "execution_count": 2,
   "metadata": {},
   "outputs": [
    {
     "data": {
      "image/png": "[encoded data removed]",
      "text/plain": [
       "<Figure size 432x288 with 1 Axes>"
      ]
     },
     "metadata": {
      "needs_background": "light"
     },
     "output_type": "display_data"
    }
   ],
   "source": [
    "kernel_i = 15\n",
    "n = 2**4\n",
    "mesh = MeshHandler(nnode_edge = n+1, outfile=\"Results/plate_mesh.vtk\")\n",
    "plot.plot_pattern(mesh, key=kernel_i)"
   ]
  },
  {
   "cell_type": "code",
   "execution_count": 3,
   "metadata": {},
   "outputs": [],
   "source": [
    "linear_tensor_R = torch.asarray([[1, 2, 1],\n",
    "                                 [2, 4, 2],\n",
    "                                 [1, 2, 1]], dtype=torch.float32) / 16.0\n",
    "linear_tensor_P = torch.asarray([[1, 2, 1],\n",
    "                                 [2, 4, 2],\n",
    "                                 [1, 2, 1]], dtype=torch.float32) / 4.0\n",
    "linear_ratio = torch.asarray([4.,1.], dtype=torch.float32)"
   ]
  },
  {
   "cell_type": "code",
   "execution_count": 4,
   "metadata": {},
   "outputs": [],
   "source": [
    "class SingleGrid():\n",
    "    '''\n",
    "    Perform weighted Jacobi iteration relaxation for a single grid.\n",
    "    Note: the n should be the number of intervals, e.g., \n",
    "          there are (n+1)*(n+1) grid points in total if the size is n\n",
    "          f has already been convoluted, i.e., f = fnet(ff) if ff is the sourcing term of PDE\n",
    "    '''\n",
    "    def __init__(self, size, n):\n",
    "        self.size = size # actual size of the plate\n",
    "        self.n = n \n",
    "        self.omega = 2/3.\n",
    "        self.property = [1, 20] # homogeneous problem\n",
    "        self.plate = Geometry(nnode_edge = n+1)\n",
    "        self.grid = MeshHandler(size, prop=self.property, nnode_edge=n+1)\n",
    "        self.v = torch.zeros((1, 1, n+1, n+1), requires_grad=False, dtype=torch.float32)\n",
    "        self.f = torch.zeros((1, 1, n+1, n+1), requires_grad=False, dtype=torch.float32)\n",
    "        self.InstantiateFEANet()\n",
    "        self.jac = JacobiBlock(self.Knet, self.grid, self.omega, self.plate.geometry_idx, self.plate.boundary_value)\n",
    "\n",
    "    def IsCoarsest(self):\n",
    "        return self.n == 2\n",
    "        \n",
    "    def InstantiateFEANet(self):\n",
    "        self.Knet = KNet(self.grid) # Initialize the stiffness network, given mesh\n",
    "        self.fnet = FNet(self.size/self.n) # Initialize the forcing term network, given mesh size\n",
    "        for param in self.Knet.parameters():\n",
    "            param.requires_grad = False\n",
    "        for param in self.fnet.parameters():\n",
    "            param.requires_grad = False\n",
    "\n",
    "    def Relax(self, v, f, num_sweeps_down):\n",
    "        '''\n",
    "        Perform a fixed number of weighted Jacobi iteration\n",
    "        '''\n",
    "        v = self.jac.jacobi_convolution(v, f, n_iter=num_sweeps_down)\n",
    "        return v\n",
    "\n",
    "\n",
    "class RestrictionNet(nn.Module):\n",
    "    '''Given an initial R kernel'''\n",
    "    def __init__(self, linear_tensor_R):\n",
    "        super(RestrictionNet, self).__init__()\n",
    "        self.n_channel = 16\n",
    "        self.net = nn.Conv2d(in_channels=self.n_channel,out_channels=1, kernel_size=3, stride=2, bias=False) # restriction\n",
    "        for i in range(self.n_channel):\n",
    "            self.net.state_dict()['weight'][0][i] = linear_tensor_R\n",
    "    def forward(self, x_split):\n",
    "        '''The input should have already been splitted'''\n",
    "        return self.net(x_split)\n",
    "\n",
    "class ProlongationNet(nn.Module):\n",
    "    '''Given an initial P kernel'''\n",
    "    def __init__(self, linear_tensor_P):\n",
    "        super(ProlongationNet, self).__init__()\n",
    "        self.n_channel = 16\n",
    "        self.net = nn.ConvTranspose2d(in_channels=self.n_channel,out_channels=1, kernel_size=3, stride=2, padding=1, bias=False) # interpolation\n",
    "        for i in range(self.n_channel):\n",
    "            self.net.state_dict()['weight'][i][0] = linear_tensor_P\n",
    "            \n",
    "    def forward(self, x_split): \n",
    "        '''The input should have already been splitted'''\n",
    "        return self.net(x_split)\n",
    "\n",
    "class MultiGrid(nn.Module):\n",
    "    '''Define the multigrid problem for 2D, n is the finest grid size'''\n",
    "    def __init__(self, n, linear_tensor_R, linear_tensor_P, linear_ratio):\n",
    "        super(MultiGrid, self).__init__()\n",
    "\n",
    "        # Problem parameters\n",
    "        self.size = 2\n",
    "        self.n = n # number of grid intervals for finest grid edges\n",
    "        self.L = int(np.log2(n)) # multigrid iteration\n",
    "        self.solution = []\n",
    "        \n",
    "        self.n_arr = self.SizeArray() # array to store grid size for each level\n",
    "        self.grids = self.GridDict() # dictionary of structure grids\n",
    "        \n",
    "        # Inter-grid communication network models\n",
    "        self.conv = RestrictionNet(linear_tensor_R)\n",
    "        self.deconv = ProlongationNet(linear_tensor_P)\n",
    "        self.w = nn.Parameter(linear_ratio)\n",
    "        \n",
    "        self.conv.requires_grad_(True)\n",
    "        self.deconv.requires_grad_(True)\n",
    "        self.w.requires_grad_(False)\n",
    "    \n",
    "    def GridDict(self):\n",
    "        grids = {}\n",
    "        for i in range(self.L):\n",
    "            grids[i] = SingleGrid(self.size, self.n_arr[i])\n",
    "        return grids\n",
    "\n",
    "    def SizeArray(self):\n",
    "        n_arr = []\n",
    "        for i in range(self.L):\n",
    "            n_arr.append(int(self.n/(2.**i)))\n",
    "        n_arr = np.array(n_arr)\n",
    "        return n_arr\n",
    "\n",
    "    def Restrict(self, rF):\n",
    "        '''\n",
    "        Perform restriction operation to down sample to next (coarser) level\n",
    "        Note: rF has already been splitted\n",
    "        '''\n",
    "        rFC = self.conv(rF[:, :, 1:-1, 1:-1].clone())\n",
    "        rFC = F.pad(rFC,(1,1,1,1),\"constant\",0) # pad the coarse-level residual with zeros\n",
    "        return rFC\n",
    "\n",
    "    def Interpolate(self, eFC):\n",
    "        '''\n",
    "        Perform interpolation and upsample to previous (finer) level \n",
    "        Note: eFC has already been splitted\n",
    "        '''\n",
    "        eF = self.deconv(eFC.clone())\n",
    "        return eF \n",
    "\n",
    "    def loss(self, x):\n",
    "        \"Compute the loss after m iterations\"\n",
    "        res1 = self.f - self.grids[0].Knet(x)\n",
    "        return torch.mean(torch.norm(res1[:, :, 1:-1, 1:-1].clone(), dim=(2,3)))\n",
    "\n",
    "    def random_sampling(self, v):\n",
    "        d1, d2, d3, d4 = v.shape\n",
    "        for i in range(d1):\n",
    "            for j in range(d2):\n",
    "                coef = 10*np.random.rand(2) - 5\n",
    "                v[i, j, :, :] = torch.from_numpy(coef[0]*np.random.random((d3,d4)) + coef[1])\n",
    "\n",
    "    def forward(self, F):\n",
    "        '''Input is RHS field F'''\n",
    "        self.f = self.grids[0].fnet(F) # assign the finest rhs \n",
    "        self.v = torch.zeros_like(F, requires_grad=False, dtype=torch.float32) # initial solution\n",
    "        self.random_sampling(self.v)\n",
    "        U = torch.clone(self.v)\n",
    "        return self.iterate(U, self.f)\n",
    "\n",
    "    def iterate(self, x, f):\n",
    "        '''Input x is the initial solution on the finest grid'''\n",
    "        n_batches = x.shape[0]\n",
    "        n_relax = 1 # number of relaxations\n",
    "        self.grids[0].v = x\n",
    "        self.grids[0].f = f\n",
    "        self.grids[0].v = self.grids[0].Relax(self.grids[0].v, self.grids[0].f, n_relax)\n",
    "\n",
    "        for j in range(0, self.L-1):\n",
    "            rF = self.grids[j].f-self.grids[j].Knet(self.grids[j].v)\n",
    "            rF = self.grids[j].Knet.split_x(rF)\n",
    "            self.grids[j+1].f = self.w[0]*self.Restrict(rF)\n",
    "            self.grids[j+1].v = torch.zeros((n_batches,1,self.n_arr[j+1]+1,self.n_arr[j+1]+1), dtype=torch.float32, requires_grad=False)\n",
    "            self.grids[j+1].v = self.grids[j+1].Relax(self.grids[j+1].v, self.grids[j+1].f, n_relax)\n",
    "\n",
    "        self.grids[self.L-1].v = self.grids[self.L-1].Relax(self.grids[self.L-1].v, self.grids[self.L-1].f, n_relax)\n",
    "\n",
    "        for j in range(self.L-2,-1,-1):\n",
    "            eFC = self.grids[j+1].Knet.split_x(self.grids[j+1].v)\n",
    "            eF_delta = self.w[1]*self.Interpolate(eFC)\n",
    "            self.grids[j].v = self.grids[j].v + eF_delta\n",
    "            self.grids[j].v = self.grids[j].Relax(self.grids[j].v, self.grids[j].f, n_relax)\n",
    "\n",
    "            # zero out the previous level solution\n",
    "            self.grids[j+1].v = torch.zeros((n_batches,1,self.n_arr[j+1]+1,self.n_arr[j+1]+1), dtype=torch.float32, requires_grad=False) \n",
    "\n",
    "        return self.grids[0].v "
   ]
  },
  {
   "cell_type": "code",
   "execution_count": 5,
   "metadata": {},
   "outputs": [],
   "source": [
    "model = MultiGrid(n, linear_tensor_R, linear_tensor_P, linear_ratio)"
   ]
  },
  {
   "cell_type": "code",
   "execution_count": 6,
   "metadata": {},
   "outputs": [
    {
     "name": "stdout",
     "output_type": "stream",
     "text": [
      "Ratio: tensor([4., 1.])\n",
      "Restriction kernel: tensor([[0.0625, 0.1250, 0.0625],\n",
      "        [0.1250, 0.2500, 0.1250],\n",
      "        [0.0625, 0.1250, 0.0625]], grad_fn=<SelectBackward0>)\n",
      "Restriction kernel shape: torch.Size([1, 16, 3, 3])\n",
      "Interpolation kernel: tensor([[0.2500, 0.5000, 0.2500],\n",
      "        [0.5000, 1.0000, 0.5000],\n",
      "        [0.2500, 0.5000, 0.2500]], grad_fn=<SelectBackward0>)\n",
      "Interpolation kernel shape: torch.Size([16, 1, 3, 3])\n"
     ]
    }
   ],
   "source": [
    "model_dir = 'Model/multigrid_rhs_res'\n",
    "if not os.path.exists(model_dir):\n",
    "    os.makedirs(model_dir)\n",
    "    \n",
    "optimizer = torch.optim.Adam(model.parameters(), lr=1e-3)\n",
    "mlist = list(model.parameters())\n",
    "print('Ratio:', mlist[0][:])\n",
    "print('Restriction kernel:', mlist[1][0][0])\n",
    "print('Restriction kernel shape:', mlist[1].shape)\n",
    "print('Interpolation kernel:', mlist[2][0][0])\n",
    "print('Interpolation kernel shape:', mlist[2].shape)"
   ]
  },
  {
   "cell_type": "code",
   "execution_count": 7,
   "metadata": {},
   "outputs": [
    {
     "data": {
      "text/plain": [
       "Text(0.5, 0, 'epoch')"
      ]
     },
     "execution_count": 7,
     "metadata": {},
     "output_type": "execute_result"
    },
    {
     "data": {
      "image/png": "[encoded data removed]",
      "text/plain": [
       "<Figure size 432x288 with 1 Axes>"
      ]
     },
     "metadata": {
      "needs_background": "light"
     },
     "output_type": "display_data"
    }
   ],
   "source": [
    "# load the training loss\n",
    "model_name = 'model_mg_interface_kernel'+str(kernel_i)\n",
    "qm_train = np.load(os.path.join(model_dir,model_name+'.npy'))\n",
    "plt.plot(qm_train)\n",
    "plt.ylabel('loss')\n",
    "plt.xlabel('epoch')"
   ]
  },
  {
   "cell_type": "code",
   "execution_count": 8,
   "metadata": {},
   "outputs": [
    {
     "data": {
      "text/plain": [
       "<All keys matched successfully>"
      ]
     },
     "execution_count": 8,
     "metadata": {},
     "output_type": "execute_result"
    }
   ],
   "source": [
    "# import the learned model\n",
    "model.load_state_dict(torch.load(os.path.join(model_dir,model_name+'.pth')))"
   ]
  },
  {
   "cell_type": "code",
   "execution_count": 9,
   "metadata": {},
   "outputs": [
    {
     "name": "stdout",
     "output_type": "stream",
     "text": [
      "Learned parameters:\n",
      "Ratio: tensor([4., 1.])\n",
      "Restriction kernel: tensor([[-0.0864,  0.1255, -0.0103],\n",
      "        [ 0.1241,  0.2500,  0.1566],\n",
      "        [-0.0165,  0.1487,  0.3970]], grad_fn=<SelectBackward0>)\n",
      "Interpolation kernel: tensor([[0.2942, 0.5086, 0.2585],\n",
      "        [0.5058, 0.9959, 0.4992],\n",
      "        [0.2598, 0.4983, 0.2513]], grad_fn=<SelectBackward0>)\n",
      "\n",
      "Previous parameters:\n",
      "Ratio: tensor([4., 1.])\n",
      "Restriction kernel: tensor([[0.0625, 0.1250, 0.0625],\n",
      "        [0.1250, 0.2500, 0.1250],\n",
      "        [0.0625, 0.1250, 0.0625]], grad_fn=<SelectBackward0>)\n",
      "Interpolation kernel: tensor([[0.2500, 0.5000, 0.2500],\n",
      "        [0.5000, 1.0000, 0.5000],\n",
      "        [0.2500, 0.5000, 0.2500]], grad_fn=<SelectBackward0>)\n"
     ]
    }
   ],
   "source": [
    "print('Learned parameters:')\n",
    "print('Ratio:', mlist[0][:])\n",
    "print('Restriction kernel:', mlist[1][0][kernel_i])\n",
    "print('Interpolation kernel:', mlist[2][kernel_i][0])\n",
    "\n",
    "print()\n",
    "\n",
    "print('Previous parameters:')\n",
    "print('Ratio:', mlist[0][:])\n",
    "print('Restriction kernel:', mlist[1][0][kernel_i-1])\n",
    "print('Interpolation kernel:', mlist[2][kernel_i-1][0])"
   ]
  },
  {
   "cell_type": "code",
   "execution_count": 10,
   "metadata": {},
   "outputs": [],
   "source": [
    "# Test the multigrid iteration\n",
    "class mgTest(MultiGrid):\n",
    "    '''Define the multigrid problem for 2D, n is the finest grid size'''\n",
    "    def __init__(self, inter_model, n = 64):\n",
    "        super(mgTest, self).__init__(n, linear_tensor_R, linear_tensor_P, linear_ratio)\n",
    "\n",
    "        self.size = 2\n",
    "        self.n = n # total number of grids for finest grid\n",
    "        self.L = int(np.log2(n)) # number of levels for V-cycle multigrid\n",
    "        self.x = np.linspace(-1,1,n+1, dtype=np.float32) # grid number is n+1\n",
    "        self.y = np.linspace(-1,1,n+1, dtype=np.float32)\n",
    "        self.xx, self.yy = np.meshgrid(self.x, self.y, indexing='xy')\n",
    "        self.solution = []\n",
    "\n",
    "        self.w = inter_model.w\n",
    "        self.conv = inter_model.conv\n",
    "        self.deconv = inter_model.deconv\n",
    "        self.conv.requires_grad_(False)\n",
    "        self.deconv.requires_grad_(False)\n",
    "        self.w.requires_grad_(False)\n",
    "        \n",
    "        self.n_arr = self.SizeArray() # array to store grid size for each level\n",
    "        self.grids = self.GridDict() # dictionary of structure grids\n",
    "        \n",
    "        ff = np.ones_like(self.xx)\n",
    "        self.grids[0].f = self.grids[0].fnet(torch.from_numpy(ff.reshape(1,1,n+1,n+1))) # assign the finest right hand side with the original rhs\n",
    "    \n",
    "    def solve(self):\n",
    "        '''Return error and residual array'''\n",
    "        EPS = 5e-5\n",
    "        n_Vcycle = 0\n",
    "        self.grids[0].v = torch.zeros((1, 1, self.n+1, self.n+1), requires_grad=False, dtype=torch.float32)\n",
    "        e_Vcycle, res = 1, 1\n",
    "        e_arr_Vcycle = [e_Vcycle]\n",
    "        res_arr_Vcycle = [res]\n",
    "        err_occured = False\n",
    "        while (res > EPS):\n",
    "            u_prev = self.grids[0].v \n",
    "            self.grids[0].v = self.iterate(self.grids[0].v,self.grids[0].f)\n",
    "            e_Vcycle = torch.sqrt(torch.sum((self.grids[0].v - u_prev) ** 2)).item() / torch.sqrt(torch.sum((self.grids[0].v) ** 2)).item()\n",
    "            e_arr_Vcycle.append(e_Vcycle)\n",
    "            residual = self.grids[0].f-self.grids[0].Knet(self.grids[0].v)\n",
    "            res = torch.sqrt(torch.sum(residual[:, :, 1:-1, 1:-1] ** 2)).item()\n",
    "            res_arr_Vcycle.append(res)\n",
    "            print(e_Vcycle, res)\n",
    "            n_Vcycle += 1\n",
    "            if(res == torch.inf or math.isnan(res)):\n",
    "                err_occured = True\n",
    "                break\n",
    "\n",
    "        if(err_occured):\n",
    "            print(\"The iteration doesn't converge!\")\n",
    "        else:\n",
    "            print(\"Solution converges after\", n_Vcycle, \"V-cycle iterations with relative error of\", e_Vcycle)\n",
    "        return e_arr_Vcycle, res_arr_Vcycle"
   ]
  },
  {
   "cell_type": "code",
   "execution_count": 11,
   "metadata": {},
   "outputs": [
    {
     "name": "stdout",
     "output_type": "stream",
     "text": [
      "1.0 0.10455120354890823\n",
      "0.02367435401381903 0.030201556161046028\n",
      "0.015404758663046738 0.01385458279401064\n",
      "0.003513417857498717 0.0072425841353833675\n",
      "0.0019544375426497566 0.003907394129782915\n",
      "0.0009519134736925682 0.002123358193784952\n",
      "0.0004984821863097808 0.001153145101852715\n",
      "0.0002633144152186423 0.0006249715224839747\n",
      "0.0001413973843567803 0.0003396513347979635\n",
      "7.257819906045175e-05 0.00018287634884472936\n",
      "3.738478863083456e-05 9.935638809110969e-05\n",
      "2.729123454621686e-05 5.501367195392959e-05\n",
      "9.843574795937991e-06 3.068756268476136e-05\n",
      "Solution converges after 13 V-cycle iterations with relative error of 9.843574795937991e-06\n"
     ]
    },
    {
     "data": {
      "text/plain": [
       "<matplotlib.legend.Legend at 0x7f1810238040>"
      ]
     },
     "execution_count": 11,
     "metadata": {},
     "output_type": "execute_result"
    },
    {
     "data": {
      "image/png": "[encoded data removed]",
      "text/plain": [
       "<Figure size 432x288 with 1 Axes>"
      ]
     },
     "metadata": {
      "needs_background": "light"
     },
     "output_type": "display_data"
    }
   ],
   "source": [
    "# Multigrid implementation\n",
    "n = 2**6\n",
    "prob_mg = mgTest(model, n)\n",
    "\n",
    "e_arr_Vcycle, res_arr_Vcycle = prob_mg.solve()\n",
    "\n",
    "plt.plot(e_arr_Vcycle, label='Error')\n",
    "plt.plot(res_arr_Vcycle, label='Residual')\n",
    "plt.yscale('log')\n",
    "plt.xlabel('# iteration')\n",
    "#plt.ylabel('Error')\n",
    "plt.legend()"
   ]
  },
  {
   "cell_type": "code",
   "execution_count": 12,
   "metadata": {},
   "outputs": [
    {
     "data": {
      "image/png": "[encoded data removed]",
      "text/plain": [
       "<Figure size 432x288 with 2 Axes>"
      ]
     },
     "metadata": {
      "needs_background": "light"
     },
     "output_type": "display_data"
    }
   ],
   "source": [
    "# Residual plots (except for boundaries)\n",
    "residual = prob_mg.grids[0].f-prob_mg.grids[0].Knet(prob_mg.grids[0].v)\n",
    "plot.plot_field(torch.abs(residual[:, :, 1:-1, 1:-1]),limit=[0,4e-6])"
   ]
  },
  {
   "cell_type": "code",
   "execution_count": 13,
   "metadata": {},
   "outputs": [
    {
     "name": "stdout",
     "output_type": "stream",
     "text": [
      "q is:  0.6324155148737746\n"
     ]
    }
   ],
   "source": [
    "def compute_q(res_arr):\n",
    "    return np.power(res_arr[9]/res_arr[6], 1.0/4)\n",
    "\n",
    "print(\"q is: \", compute_q(res_arr_Vcycle))"
   ]
  }
 ],
 "metadata": {
  "kernelspec": {
   "display_name": "Python 3.10.6 ('pytorch12')",
   "language": "python",
   "name": "python3"
  },
  "language_info": {
   "codemirror_mode": {
    "name": "ipython",
    "version": 3
   },
   "file_extension": ".py",
   "mimetype": "text/x-python",
   "name": "python",
   "nbconvert_exporter": "python",
   "pygments_lexer": "ipython3",
   "version": "3.10.6"
  },
  "orig_nbformat": 4,
  "vscode": {
   "interpreter": {
    "hash": "5da9782ea406a5140c8dbe3db2fbd9ad14122bed09b4b5553687a1204e8a9762"
   }
  }
 },
 "nbformat": 4,
 "nbformat_minor": 2
}
