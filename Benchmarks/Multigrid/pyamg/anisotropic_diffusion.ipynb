{
 "cells": [
  {
   "cell_type": "markdown",
   "metadata": {},
   "source": [
    "The first example of pyamg tutorial: a rotated anisotropic diffusion problem from the pyamg.gallery.\n",
    "\n",
    "First, a basic smoothed aggregation solver is constructed. Then, many of the options are modified to yield a more effective solver."
   ]
  },
  {
   "cell_type": "code",
   "execution_count": 1,
   "metadata": {},
   "outputs": [],
   "source": [
    "# ------------------------------------------------------------------\n",
    "# Step 1: import scipy and pyamg packages\n",
    "# ------------------------------------------------------------------\n",
    "import numpy as np\n",
    "import pyamg\n",
    "import matplotlib.pyplot as plt"
   ]
  },
  {
   "cell_type": "code",
   "execution_count": 2,
   "metadata": {},
   "outputs": [],
   "source": [
    "# ------------------------------------------------------------------\n",
    "# Step 2: setup up the system using pyamg.gallery\n",
    "# ------------------------------------------------------------------\n",
    "n = 200\n",
    "X, Y = np.meshgrid(np.linspace(0, 1, n), np.linspace(0, 1, n))\n",
    "stencil = pyamg.gallery.diffusion_stencil_2d(type='FE', epsilon=0.001, theta=np.pi / 3)\n",
    "A = pyamg.gallery.stencil_grid(stencil, (n, n), format='csr')\n",
    "b = np.random.rand(A.shape[0])                     # pick a random right hand side"
   ]
  },
  {
   "cell_type": "code",
   "execution_count": 3,
   "metadata": {},
   "outputs": [],
   "source": [
    "# ------------------------------------------------------------------\n",
    "# Step 3: setup of the multigrid hierarchy\n",
    "# ------------------------------------------------------------------\n",
    "ml = pyamg.smoothed_aggregation_solver(A)   # construct the multigrid hierarchy"
   ]
  },
  {
   "cell_type": "code",
   "execution_count": 4,
   "metadata": {},
   "outputs": [],
   "source": [
    "# ------------------------------------------------------------------\n",
    "# Step 4: solve the system\n",
    "# ------------------------------------------------------------------\n",
    "res1 = []\n",
    "x = ml.solve(b, tol=1e-12, residuals=res1)  # solve Ax=b to a tolerance of 1e-12\n"
   ]
  },
  {
   "cell_type": "code",
   "execution_count": 5,
   "metadata": {},
   "outputs": [
    {
     "name": "stdout",
     "output_type": "stream",
     "text": [
      "\n",
      "\n",
      "Details: Default AMG\n",
      "--------------------\n",
      "multilevel_solver\n",
      "Number of Levels:     5\n",
      "Operator Complexity:  1.125\n",
      "Grid Complexity:      1.127\n",
      "Coarse Solver:        'pinv2'\n",
      "  level   unknowns     nonzeros\n",
      "    0        40000       357604 [88.91%]\n",
      "    1         4489        39601 [ 9.85%]\n",
      "    2          529         4489 [ 1.12%]\n",
      "    3           64          484 [ 0.12%]\n",
      "    4            9           49 [ 0.01%]\n",
      "\n",
      "The residual norm is 0.1663995476828167\n"
     ]
    }
   ],
   "source": [
    "# ------------------------------------------------------------------\n",
    "# Step 5: print details\n",
    "# ------------------------------------------------------------------\n",
    "print(\"\\n\")\n",
    "print(\"Details: Default AMG\")\n",
    "print(\"--------------------\")\n",
    "print(ml)                                 # print hierarchy information\n",
    "\n",
    "print(\"The residual norm is {}\".format(np.linalg.norm(b - A * x)))  # compute norm of residual vector"
   ]
  },
  {
   "cell_type": "code",
   "execution_count": 6,
   "metadata": {},
   "outputs": [
    {
     "name": "stdout",
     "output_type": "stream",
     "text": [
      "\n",
      "\n",
      "The Multigrid Hierarchy\n",
      "-----------------------\n",
      "A_0:      40000x40000        P_0:      40000x4489      \n",
      "A_1:       4489x4489         P_1:       4489x529       \n",
      "A_2:        529x529          P_2:        529x64        \n",
      "A_3:         64x64           P_3:         64x9         \n",
      "A_4:          9x9         \n"
     ]
    }
   ],
   "source": [
    "# notice that there are 5 (or maybe 6) levels in the hierarchy\n",
    "#\n",
    "# we can look at the data in each of the levels\n",
    "# e.g. the multigrid components on the finest (0) level\n",
    "#      A: operator on level 0\n",
    "#      P: prolongation operator mapping from level 1 to level 0\n",
    "#      R: restriction operator mapping from level 0 to level 1\n",
    "#      B: near null-space modes for level 0\n",
    "#      presmoother: presmoothing function taking arguments (A,x,b)\n",
    "#      postsmoother: postsmoothing function taking arguments (A,x,b)\n",
    "print(\"\\n\")\n",
    "print(\"The Multigrid Hierarchy\")\n",
    "print(\"-----------------------\")\n",
    "for l in range(len(ml.levels)):\n",
    "    An = ml.levels[l].A.shape[0]\n",
    "    Am = ml.levels[l].A.shape[1]\n",
    "    if l == (len(ml.levels)-1):\n",
    "        print(f\"A_{l}: {An:>10}x{Am:<10}\")\n",
    "    else:\n",
    "        Pn = ml.levels[l].P.shape[0]\n",
    "        Pm = ml.levels[l].P.shape[1]\n",
    "        print(f\"A_{l}: {An:>10}x{Am:<10}   P_{l}: {Pn:>10}x{Pm:<10}\")"
   ]
  },
  {
   "cell_type": "code",
   "execution_count": 9,
   "metadata": {},
   "outputs": [
    {
     "name": "stdout",
     "output_type": "stream",
     "text": [
      "R_0:       4489x40000     \n",
      "R_1:        529x4489      \n",
      "R_2:         64x529       \n",
      "R_3:          9x64        \n"
     ]
    },
    {
     "ename": "AttributeError",
     "evalue": "'level' object has no attribute 'R'",
     "output_type": "error",
     "traceback": [
      "\u001b[0;31m---------------------------------------------------------------------------\u001b[0m",
      "\u001b[0;31mAttributeError\u001b[0m                            Traceback (most recent call last)",
      "\u001b[1;32m/home/cmeng12/Documents/Multichannel-FEANet/Benchmarks/Multigrid/pyamg/anisotropic_diffusion.ipynb Cell 11'\u001b[0m in \u001b[0;36m<cell line: 1>\u001b[0;34m()\u001b[0m\n\u001b[1;32m      <a href='vscode-notebook-cell:/home/cmeng12/Documents/Multichannel-FEANet/Benchmarks/Multigrid/pyamg/anisotropic_diffusion.ipynb#ch0000009?line=0'>1</a>\u001b[0m \u001b[39mfor\u001b[39;00m l \u001b[39min\u001b[39;00m \u001b[39mrange\u001b[39m(\u001b[39mlen\u001b[39m(ml\u001b[39m.\u001b[39mlevels)):\n\u001b[1;32m      <a href='vscode-notebook-cell:/home/cmeng12/Documents/Multichannel-FEANet/Benchmarks/Multigrid/pyamg/anisotropic_diffusion.ipynb#ch0000009?line=1'>2</a>\u001b[0m     \u001b[39m#Pn = ml.levels[l].P.shape[0]\u001b[39;00m\n\u001b[1;32m      <a href='vscode-notebook-cell:/home/cmeng12/Documents/Multichannel-FEANet/Benchmarks/Multigrid/pyamg/anisotropic_diffusion.ipynb#ch0000009?line=2'>3</a>\u001b[0m     \u001b[39m#Pm = ml.levels[l].P.shape[1]\u001b[39;00m\n\u001b[1;32m      <a href='vscode-notebook-cell:/home/cmeng12/Documents/Multichannel-FEANet/Benchmarks/Multigrid/pyamg/anisotropic_diffusion.ipynb#ch0000009?line=3'>4</a>\u001b[0m     \u001b[39m#print(f\"P_{l}: {Pn:>10}x{Pm:<10}\")\u001b[39;00m\n\u001b[0;32m----> <a href='vscode-notebook-cell:/home/cmeng12/Documents/Multichannel-FEANet/Benchmarks/Multigrid/pyamg/anisotropic_diffusion.ipynb#ch0000009?line=4'>5</a>\u001b[0m     Rn \u001b[39m=\u001b[39m ml\u001b[39m.\u001b[39;49mlevels[l]\u001b[39m.\u001b[39;49mR\u001b[39m.\u001b[39mshape[\u001b[39m0\u001b[39m]\n\u001b[1;32m      <a href='vscode-notebook-cell:/home/cmeng12/Documents/Multichannel-FEANet/Benchmarks/Multigrid/pyamg/anisotropic_diffusion.ipynb#ch0000009?line=5'>6</a>\u001b[0m     Rm \u001b[39m=\u001b[39m ml\u001b[39m.\u001b[39mlevels[l]\u001b[39m.\u001b[39mR\u001b[39m.\u001b[39mshape[\u001b[39m1\u001b[39m]\n\u001b[1;32m      <a href='vscode-notebook-cell:/home/cmeng12/Documents/Multichannel-FEANet/Benchmarks/Multigrid/pyamg/anisotropic_diffusion.ipynb#ch0000009?line=6'>7</a>\u001b[0m     \u001b[39mprint\u001b[39m(\u001b[39mf\u001b[39m\u001b[39m\"\u001b[39m\u001b[39mR_\u001b[39m\u001b[39m{\u001b[39;00ml\u001b[39m}\u001b[39;00m\u001b[39m: \u001b[39m\u001b[39m{\u001b[39;00mRn\u001b[39m:\u001b[39;00m\u001b[39m>10\u001b[39m\u001b[39m}\u001b[39;00m\u001b[39mx\u001b[39m\u001b[39m{\u001b[39;00mRm\u001b[39m:\u001b[39;00m\u001b[39m<10\u001b[39m\u001b[39m}\u001b[39;00m\u001b[39m\"\u001b[39m)\n",
      "\u001b[0;31mAttributeError\u001b[0m: 'level' object has no attribute 'R'"
     ]
    }
   ],
   "source": [
    "for l in range(len(ml.levels)):\n",
    "    #Pn = ml.levels[l].P.shape[0]\n",
    "    #Pm = ml.levels[l].P.shape[1]\n",
    "    #print(f\"P_{l}: {Pn:>10}x{Pm:<10}\")\n",
    "    Rn = ml.levels[l].R.shape[0]\n",
    "    Rm = ml.levels[l].R.shape[1]\n",
    "    print(f\"R_{l}: {Rn:>10}x{Rm:<10}\")"
   ]
  },
  {
   "cell_type": "code",
   "execution_count": 10,
   "metadata": {},
   "outputs": [],
   "source": [
    "# ------------------------------------------------------------------\n",
    "# Step 6: change the hierarchy\n",
    "# ------------------------------------------------------------------\n",
    "# we can also change the details of the hierarchy\n",
    "ml = pyamg.smoothed_aggregation_solver(A,  # the matrix\n",
    "                                       B=X.reshape(n * n, 1),             # the representation of the near null space (this is a poor choice)\n",
    "                                       BH=None,                           # the representation of the left near null space\n",
    "                                       symmetry='hermitian',              # indicate that the matrix is Hermitian\n",
    "                                       strength='evolution',              # change the strength of connection\n",
    "                                       aggregate='standard',              # use a standard aggregation method\n",
    "                                       smooth=('jacobi', {'omega': 4.0 / 3.0, 'degree': 2}),   # prolongation smoothing\n",
    "                                       presmoother=('block_gauss_seidel', {'sweep': 'symmetric'}),\n",
    "                                       postsmoother=('block_gauss_seidel', {'sweep': 'symmetric'}),\n",
    "                                       improve_candidates=[('block_gauss_seidel',\n",
    "                                                           {'sweep': 'symmetric', 'iterations': 4}), None],\n",
    "                                       max_levels=10,                     # maximum number of levels\n",
    "                                       max_coarse=5,                      # maximum number on a coarse level\n",
    "                                       keep=False)                        # keep extra operators around in the hierarchy (memory)"
   ]
  },
  {
   "cell_type": "code",
   "execution_count": 11,
   "metadata": {},
   "outputs": [
    {
     "name": "stdout",
     "output_type": "stream",
     "text": [
      "\n",
      "\n",
      "Details: Specialized AMG\n",
      "------------------------\n",
      "multilevel_solver\n",
      "Number of Levels:     6\n",
      "Operator Complexity:  2.159\n",
      "Grid Complexity:      1.201\n",
      "Coarse Solver:        'pinv2'\n",
      "  level   unknowns     nonzeros\n",
      "    0        40000       357604 [46.31%]\n",
      "    1         6700       226352 [29.31%]\n",
      "    2         1232       176222 [22.82%]\n",
      "    3          109        11829 [ 1.53%]\n",
      "    4           13          169 [ 0.02%]\n",
      "    5            2            4 [ 0.00%]\n",
      "\n",
      "The residual norm is 9.812288002410554e-11\n",
      "\n",
      "\n"
     ]
    }
   ],
   "source": [
    "# ------------------------------------------------------------------\n",
    "# Step 7: print details\n",
    "# ------------------------------------------------------------------\n",
    "res2 = []                                               # keep the residual history in the solve\n",
    "x = ml.solve(b, tol=1e-12, residuals=res2)              # solve Ax=b to a tolerance of 1e-12\n",
    "print(\"\\n\")\n",
    "print(\"Details: Specialized AMG\")\n",
    "print(\"------------------------\")\n",
    "print(ml)                                               # print hierarchy information\n",
    "print(\"The residual norm is {}\".format(np.linalg.norm(b - A * x)))  # compute norm of residual vector\n",
    "print(\"\\n\")"
   ]
  },
  {
   "cell_type": "code",
   "execution_count": 12,
   "metadata": {},
   "outputs": [
    {
     "data": {
      "text/plain": [
       "<matplotlib.legend.Legend at 0x7f56151d20a0>"
      ]
     },
     "execution_count": 12,
     "metadata": {},
     "output_type": "execute_result"
    },
    {
     "data": {
      "image/png": "[encoded data removed]",
      "text/plain": [
       "<Figure size 432x288 with 1 Axes>"
      ]
     },
     "metadata": {
      "needs_background": "light"
     },
     "output_type": "display_data"
    }
   ],
   "source": [
    "\n",
    "# ------------------------------------------------------------------\n",
    "# Step 8: plot convergence history\n",
    "# ------------------------------------------------------------------\n",
    "fig, ax = plt.subplots()\n",
    "ax.semilogy(res1, label='Default AMG solver')\n",
    "ax.semilogy(res2, label='Specialized AMG solver')\n",
    "ax.set_xlabel('Iteration')\n",
    "ax.set_ylabel('Relative Residual')\n",
    "ax.grid(True)\n",
    "plt.legend()"
   ]
  }
 ],
 "metadata": {
  "kernelspec": {
   "display_name": "Python 3.8.13 ('pytorch11')",
   "language": "python",
   "name": "python3"
  },
  "language_info": {
   "codemirror_mode": {
    "name": "ipython",
    "version": 3
   },
   "file_extension": ".py",
   "mimetype": "text/x-python",
   "name": "python",
   "nbconvert_exporter": "python",
   "pygments_lexer": "ipython3",
   "version": "3.8.13"
  },
  "orig_nbformat": 4,
  "vscode": {
   "interpreter": {
    "hash": "926ad5c238a4420011e83b59655d6cd21b021d9ee1aa0438d38aa969cfe55744"
   }
  }
 },
 "nbformat": 4,
 "nbformat_minor": 2
}
