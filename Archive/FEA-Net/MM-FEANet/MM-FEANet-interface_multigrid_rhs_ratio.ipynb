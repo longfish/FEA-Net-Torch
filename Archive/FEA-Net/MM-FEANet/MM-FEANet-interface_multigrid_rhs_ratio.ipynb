{
 "cells": [
  {
   "cell_type": "markdown",
   "metadata": {},
   "source": [
    "Learn the inter-grid operator ratio for interface problems using multigrid framework, dataset is constructed by changing RHS "
   ]
  },
  {
   "cell_type": "code",
   "execution_count": 1,
   "metadata": {},
   "outputs": [],
   "source": [
    "import torch\n",
    "import torch.nn as nn\n",
    "import torch.nn.functional as F\n",
    "\n",
    "from torch.autograd import Variable\n",
    "from torch.utils.data import Dataset\n",
    "from torch.utils.data import DataLoader\n",
    "from torchvision.transforms import ToTensor\n",
    "\n",
    "import os\n",
    "import h5py\n",
    "import scipy.io as sio\n",
    "import numpy as np\n",
    "import matplotlib.pyplot as plt\n",
    "import math\n",
    "import random\n",
    "\n",
    "from FEANet.mesh import MeshHandler\n",
    "from FEANet.geo import Geometry\n",
    "from FEANet.jacobi import JacobiBlock\n",
    "from FEANet.model import KNet, FNet\n",
    "from Utils import plot"
   ]
  },
  {
   "cell_type": "code",
   "execution_count": 2,
   "metadata": {},
   "outputs": [],
   "source": [
    "class RHSDataSet(Dataset):\n",
    "    def __init__(self, h5file, case='train', transform=None, target_transform=None):\n",
    "        \"\"\"\n",
    "        case = 'train' or 'test'\n",
    "        \"\"\"\n",
    "        h5 = h5py.File(h5file,'r')\n",
    "        self.data = np.array(h5[case], dtype=np.float32)\n",
    "        self.totensor = ToTensor()\n",
    "        self.transform = transform\n",
    "        self.target_transform = target_transform\n",
    "\n",
    "    def __len__(self):\n",
    "        return self.data.shape[0]\n",
    "\n",
    "    def __getitem__(self, idx):\n",
    "        rhs_tensor = self.totensor(self.data[idx])\n",
    "        if self.transform:\n",
    "            rhs_tensor = self.transform(rhs_tensor)\n",
    "        return rhs_tensor"
   ]
  },
  {
   "cell_type": "code",
   "execution_count": 3,
   "metadata": {},
   "outputs": [],
   "source": [
    "training_set = RHSDataSet('Data/poisson2d_rhs_17x17.h5', case='train')\n",
    "test_set = RHSDataSet('Data/poisson2d_rhs_17x17.h5', case='test')\n",
    "\n",
    "train_dataloader = DataLoader(training_set, batch_size=64, shuffle=True)\n",
    "test_dataloader = DataLoader(test_set, batch_size=64, shuffle=True)"
   ]
  },
  {
   "cell_type": "code",
   "execution_count": 4,
   "metadata": {},
   "outputs": [],
   "source": [
    "def random_sampling(v):\n",
    "    d1, d2, d3, d4 = v.shape\n",
    "    for i in range(d1):\n",
    "        for j in range(d2):\n",
    "            coef = 10*np.random.rand(2) - 5\n",
    "            v[i, j, :, :] = torch.from_numpy(coef[0]*np.random.random((d3,d4)) + coef[1])"
   ]
  },
  {
   "cell_type": "code",
   "execution_count": 5,
   "metadata": {},
   "outputs": [],
   "source": [
    "class SingleGrid():\n",
    "    '''\n",
    "    Perform weighted Jacobi iteration relaxation for a single grid.\n",
    "    Note: the n should be the number of intervals, e.g., \n",
    "          there are (n+1)*(n+1) grid points in total if the size is n\n",
    "          f has already been convoluted, i.e., f = fnet(ff) if ff is the sourcing term of PDE\n",
    "    '''\n",
    "    def __init__(self, size, n):\n",
    "        self.size = size # actual size of the plate\n",
    "        self.n = n \n",
    "        self.omega = 2/3.\n",
    "        self.property = [1, 20] # homogeneous problem\n",
    "        self.plate = Geometry(nnode_edge = n+1)\n",
    "        self.grid = MeshHandler(size, prop=self.property, nnode_edge=n+1)\n",
    "        self.v = torch.zeros((1, 1, n+1, n+1), requires_grad=False, dtype=torch.float32)\n",
    "        self.f = torch.zeros((1, 1, n+1, n+1), requires_grad=False, dtype=torch.float32)\n",
    "        self.InstantiateFEANet()\n",
    "        self.jac = JacobiBlock(self.Knet, self.grid, self.omega, self.plate.geometry_idx, self.plate.boundary_value)\n",
    "\n",
    "    def IsCoarsest(self):\n",
    "        return self.n == 2\n",
    "        \n",
    "    def InstantiateFEANet(self):\n",
    "        self.Knet = KNet(self.grid) # Initialize the stiffness network, given mesh\n",
    "        self.fnet = FNet(self.size/self.n) # Initialize the forcing term network, given mesh size\n",
    "        for param in self.Knet.parameters():\n",
    "            param.requires_grad = False\n",
    "        for param in self.fnet.parameters():\n",
    "            param.requires_grad = False\n",
    "\n",
    "    def Relax(self, v, f, num_sweeps_down):\n",
    "        '''\n",
    "        Perform a fixed number of weighted Jacobi iteration\n",
    "        '''\n",
    "        v = self.jac.jacobi_convolution(v, f, n_iter=num_sweeps_down)\n",
    "        return v\n"
   ]
  },
  {
   "cell_type": "code",
   "execution_count": 9,
   "metadata": {},
   "outputs": [],
   "source": [
    "class MultiGrid(nn.Module):\n",
    "    '''Define the multigrid problem for 2D, n is the finest grid size'''\n",
    "    def __init__(self, n = 64):\n",
    "        super(MultiGrid, self).__init__()\n",
    "\n",
    "        # Hyper parameters\n",
    "        self.m = 6 # number of iterations to compute q\n",
    "\n",
    "        # Problem parameters\n",
    "        self.size = 2\n",
    "        self.n = n # number of grid intervals for finest grid edges\n",
    "        self.L = int(np.log2(n)) # multigrid iteration\n",
    "        self.solution = []\n",
    "        \n",
    "        self.n_arr = self.SizeArray() # array to store grid size for each level\n",
    "        self.grids = self.GridDict() # dictionary of structure grids\n",
    "        \n",
    "        # Inter-grid communication network models\n",
    "        self.conv = nn.Conv2d(in_channels=1, out_channels=1, kernel_size=3, stride=2, bias=False) # restriction\n",
    "        restriction_kernel = torch.asarray([[1, 2, 1],\n",
    "                                            [2, 4, 2],\n",
    "                                            [1, 2, 1]], dtype=torch.float32) / 16.0\n",
    "        self.conv.weight = nn.Parameter(restriction_kernel.reshape(1,1,3,3))\n",
    "        self.conv.requires_grad_(False)\n",
    "\n",
    "        self.deconv = nn.ConvTranspose2d(in_channels=1, out_channels=1, kernel_size=3, stride=2, padding=1, bias=False) # interpolation\n",
    "        interpolation_kernel = torch.asarray([[1, 2, 1],\n",
    "                                              [2, 4, 2],\n",
    "                                              [1, 2, 1]], dtype=torch.float32) / 4.0\n",
    "        interpolation_kernel = interpolation_kernel #+ torch.randn((3,3))\n",
    "        self.deconv.weight = nn.Parameter(interpolation_kernel.reshape(1,1,3,3))\n",
    "        # self.deconv.requires_grad_(True)\n",
    "        self.deconv.requires_grad_(False)\n",
    "\n",
    "        self.w = nn.Parameter(torch.asarray([4.,1.], dtype=torch.float32))\n",
    "        self.w.requires_grad_(True)\n",
    "    \n",
    "    def GridDict(self):\n",
    "        grids = {}\n",
    "        for i in range(self.L):\n",
    "            grids[i] = SingleGrid(self.size, self.n_arr[i])\n",
    "        return grids\n",
    "\n",
    "    def SizeArray(self):\n",
    "        n_arr = []\n",
    "        for i in range(self.L):\n",
    "            n_arr.append(int(self.n/(2.**i)))\n",
    "        n_arr = np.array(n_arr)\n",
    "        return n_arr\n",
    "\n",
    "    def Restrict(self, rF):\n",
    "        '''\n",
    "        Perform restriction operation to down sample to next (coarser) level\n",
    "        Note: rF has already been splitted\n",
    "        '''\n",
    "        rFC = self.conv(rF[:, :, 1:-1, 1:-1].clone())\n",
    "        rFC = F.pad(rFC,(1,1,1,1),\"constant\",0) # pad the coarse-level residual with zeros\n",
    "        return rFC\n",
    "\n",
    "    def Interpolate(self, eFC):\n",
    "        '''\n",
    "        Perform interpolation and upsample to previous (finer) level \n",
    "        Note: eFC has already been splitted\n",
    "        '''\n",
    "        eF = self.deconv(eFC.clone())\n",
    "        return eF \n",
    "\n",
    "    def qm(self, x):\n",
    "        \"Compute the convergence factor after m iterations\"\n",
    "        res1 = self.f - self.grids[0].Knet(x)\n",
    "        res0 = self.f - self.grids[0].Knet(self.v)\n",
    "        return torch.mean(torch.pow(torch.norm(res1[:, :, 1:-1, 1:-1].clone(), dim=(2,3))/torch.norm(res0[:, :, 1:-1, 1:-1].clone(), dim=(2,3)).detach(), 1.0/self.m))\n",
    "    \n",
    "    def forward(self, F):\n",
    "        '''Input is RHS field F'''\n",
    "        self.f = self.grids[0].fnet(F) # assign the finest rhs \n",
    "        self.v = torch.zeros_like(F, requires_grad=False, dtype=torch.float32) # initial solution\n",
    "        random_sampling(self.v)\n",
    "        U = torch.clone(self.v)\n",
    "    \n",
    "        for i in range(self.m-1):\n",
    "            U = self.iterate(U).detach()\n",
    "        return self.iterate(U)\n",
    "\n",
    "    def iterate(self, x):\n",
    "        '''Input x is the initial solution on the finest grid'''\n",
    "        n_batches = x.shape[0]\n",
    "        n_relax = 1 # number of relaxations\n",
    "        self.grids[0].v = x\n",
    "        self.grids[0].f = self.f\n",
    "        self.grids[0].v = self.grids[0].Relax(self.grids[0].v, self.grids[0].f, n_relax)\n",
    "\n",
    "        for j in range(0, self.L-1):\n",
    "            rF = self.grids[j].f-self.grids[j].Knet(self.grids[j].v)\n",
    "            self.grids[j+1].f = self.w[0]*self.Restrict(rF)\n",
    "            self.grids[j+1].v = torch.zeros((n_batches,1,self.n_arr[j+1]+1,self.n_arr[j+1]+1), dtype=torch.float32, requires_grad=False)\n",
    "            self.grids[j+1].v = self.grids[j+1].Relax(self.grids[j+1].v, self.grids[j+1].f, n_relax)\n",
    "\n",
    "        self.grids[self.L-1].v = self.grids[self.L-1].Relax(self.grids[self.L-1].v, self.grids[self.L-1].f, n_relax)\n",
    "\n",
    "        for j in range(self.L-2,-1,-1):\n",
    "            error_delta = self.w[1]*self.Interpolate(self.grids[j+1].v)\n",
    "            self.grids[j].v = self.grids[j].v + error_delta\n",
    "            self.grids[j].v = self.grids[j].Relax(self.grids[j].v, self.grids[j].f, n_relax)\n",
    "\n",
    "            # zero out the previous level solution\n",
    "            self.grids[j+1].v = torch.zeros((n_batches,1,self.n_arr[j+1]+1,self.n_arr[j+1]+1), dtype=torch.float32, requires_grad=False) \n",
    "\n",
    "        return self.grids[0].v "
   ]
  },
  {
   "cell_type": "code",
   "execution_count": 10,
   "metadata": {},
   "outputs": [],
   "source": [
    "n = 2**4\n",
    "model = MultiGrid(n)\n",
    "rhs = next(iter(train_dataloader))"
   ]
  },
  {
   "cell_type": "code",
   "execution_count": 11,
   "metadata": {},
   "outputs": [
    {
     "name": "stdout",
     "output_type": "stream",
     "text": [
      "[Parameter containing:\n",
      "tensor([4., 1.], requires_grad=True), Parameter containing:\n",
      "tensor([[[[0.0625, 0.1250, 0.0625],\n",
      "          [0.1250, 0.2500, 0.1250],\n",
      "          [0.0625, 0.1250, 0.0625]]]]), Parameter containing:\n",
      "tensor([[[[0.2500, 0.5000, 0.2500],\n",
      "          [0.5000, 1.0000, 0.5000],\n",
      "          [0.2500, 0.5000, 0.2500]]]])]\n"
     ]
    }
   ],
   "source": [
    "print(list(model.parameters()))"
   ]
  },
  {
   "cell_type": "code",
   "execution_count": 13,
   "metadata": {},
   "outputs": [
    {
     "name": "stdout",
     "output_type": "stream",
     "text": [
      "0 0.06237572059035301\n",
      "1 0.02288946881890297\n",
      "2 0.008671721443533897\n",
      "3 0.003244717139750719\n",
      "4 0.0012120046885684133\n",
      "5 0.0004553644102998078\n",
      "6 0.0001727696944726631\n",
      "7 6.644657696597278e-05\n",
      "8 2.586844675533939e-05\n",
      "Solution converges after 9 multi-grid iterations \n"
     ]
    },
    {
     "data": {
      "image/png": "[encoded data removed]",
      "text/plain": [
       "<Figure size 432x288 with 1 Axes>"
      ]
     },
     "metadata": {
      "needs_background": "light"
     },
     "output_type": "display_data"
    }
   ],
   "source": [
    "EPS = 5e-5\n",
    "n_multigrid = 0\n",
    "u = torch.zeros((1, 1, n+1, n+1), requires_grad=False, dtype=torch.float32)\n",
    "res_arr = [1]\n",
    "res = 1\n",
    "model(rhs[10].unsqueeze(0))\n",
    "err_occured = False\n",
    "while (abs(res) > EPS):\n",
    "    u = model.iterate(u)\n",
    "    residual = model.f-model.grids[0].Knet(u)\n",
    "    res_old = res\n",
    "    res = torch.sqrt(torch.sum(residual[:, :, 1:-1, 1:-1] ** 2)).item()\n",
    "    res_arr.append(res)\n",
    "    print(n_multigrid, res)\n",
    "    n_multigrid += 1\n",
    "\n",
    "    if(res == torch.inf or math.isnan(res)):\n",
    "        err_occured = True\n",
    "        break\n",
    "\n",
    "if(err_occured):\n",
    "    print(\"The iteration doesn't converge!\")\n",
    "else:\n",
    "    print(\"Solution converges after\", n_multigrid, \"multi-grid iterations \")\n",
    "plt.plot(res_arr)\n",
    "plt.yscale('log')"
   ]
  },
  {
   "cell_type": "code",
   "execution_count": 14,
   "metadata": {},
   "outputs": [
    {
     "data": {
      "text/plain": [
       "Parameter containing:\n",
       "tensor([4., 1.], requires_grad=True)"
      ]
     },
     "execution_count": 14,
     "metadata": {},
     "output_type": "execute_result"
    }
   ],
   "source": [
    "model_dir = 'Model/multigrid_rhs'\n",
    "if not os.path.exists(model_dir):\n",
    "    os.makedirs(model_dir)\n",
    "    \n",
    "optimizer = torch.optim.Adam(model.parameters(), lr=1e-3)\n",
    "model.deconv.weight\n",
    "model.w"
   ]
  },
  {
   "cell_type": "code",
   "execution_count": 11,
   "metadata": {},
   "outputs": [],
   "source": [
    "def train_one_epoch():\n",
    "    running_loss = 0.\n",
    "    for i, data in enumerate(train_dataloader):\n",
    "        optimizer.zero_grad() # zero the gradients for every batch\n",
    "        u_out = model(data)\n",
    "        loss_q = model.qm(u_out)\n",
    "        \n",
    "        loss_q.backward()\n",
    "        optimizer.step()\n",
    "        running_loss += loss_q.item()\n",
    "    \n",
    "    last_loss = running_loss/(i+1)\n",
    "    return last_loss"
   ]
  },
  {
   "cell_type": "code",
   "execution_count": 22,
   "metadata": {},
   "outputs": [
    {
     "name": "stdout",
     "output_type": "stream",
     "text": [
      "0 0.2247431119903922\n",
      "1 0.2231322107836604\n",
      "2 0.22280019428581\n",
      "3 0.22826130036264658\n",
      "4 0.22450554370880127\n",
      "5 0.2260519778355956\n",
      "6 0.22406656946986914\n",
      "7 0.22443372756242752\n",
      "8 0.2244200436398387\n",
      "9 0.22220655903220177\n",
      "10 0.22545632999390364\n",
      "11 0.22494463808834553\n",
      "12 0.22349247802048922\n",
      "13 0.2270556502044201\n",
      "14 0.2238521696999669\n",
      "15 0.22476547304540873\n",
      "16 0.22364880796521902\n",
      "17 0.22711641993373632\n",
      "18 0.2245461717247963\n",
      "19 0.22569606266915798\n",
      "20 0.22335275169461966\n",
      "21 0.228502226062119\n",
      "22 0.22591398283839226\n",
      "23 0.22595532331615686\n",
      "24 0.22530644852668047\n",
      "25 0.2266649305820465\n",
      "26 0.22639547940343618\n",
      "27 0.22788951639086008\n",
      "28 0.2251609181985259\n",
      "29 0.22753821033984423\n",
      "30 0.2238112948834896\n",
      "31 0.228161983191967\n",
      "32 0.22795624565333128\n",
      "33 0.22849994339048862\n",
      "34 0.2236491944640875\n",
      "35 0.22842428367584944\n",
      "36 0.22515413630753756\n",
      "37 0.2283377619460225\n",
      "38 0.22981642838567495\n",
      "39 0.22585986368358135\n",
      "40 0.2275564968585968\n",
      "41 0.22618500515818596\n",
      "42 0.22932825423777103\n",
      "43 0.22551514115184546\n",
      "44 0.22964379284530878\n",
      "45 0.22681344021111727\n",
      "46 0.22938059736043215\n",
      "47 0.2260823417454958\n",
      "48 0.22687062341719866\n",
      "49 0.22702336311340332\n",
      "50 0.22636071033775806\n",
      "51 0.22661571484059095\n",
      "52 0.22476080525666475\n",
      "53 0.22745833918452263\n",
      "54 0.22765961196273565\n",
      "55 0.2311524050310254\n",
      "56 0.22717956267297268\n",
      "57 0.2276717573404312\n",
      "58 0.22723908629268408\n",
      "59 0.22789866849780083\n",
      "60 0.23029061313718557\n",
      "61 0.22728418000042439\n",
      "62 0.22805855236947536\n",
      "63 0.22707047779113054\n",
      "64 0.22603094298392534\n",
      "65 0.2286337437108159\n",
      "66 0.22494816221296787\n",
      "67 0.22876796405762434\n",
      "68 0.22958150878548622\n",
      "69 0.22564283572137356\n",
      "70 0.22995547857135534\n",
      "71 0.2290446748957038\n",
      "72 0.23059433232992887\n",
      "73 0.22769255563616753\n",
      "74 0.23078624717891216\n",
      "75 0.22882311884313822\n",
      "76 0.23050363548099995\n",
      "77 0.22701965179294348\n",
      "78 0.22959083132445812\n",
      "79 0.22950962465256453\n",
      "80 0.2296818532049656\n",
      "81 0.22764230612665415\n",
      "82 0.2313786782324314\n",
      "83 0.22803160548210144\n",
      "84 0.23037823662161827\n",
      "85 0.230574743822217\n",
      "86 0.22815970797091722\n",
      "87 0.2283443920314312\n",
      "88 0.23095559980720282\n",
      "89 0.22899046633392572\n",
      "90 0.2281838497146964\n",
      "91 0.2291065864264965\n",
      "92 0.229227427393198\n",
      "93 0.23073322046548128\n",
      "94 0.23050860688090324\n",
      "95 0.23013264406472445\n",
      "96 0.22922860737890005\n",
      "97 0.2306489096954465\n",
      "98 0.22900697216391563\n",
      "99 0.2312517622485757\n",
      "\n",
      "New value:\n"
     ]
    },
    {
     "data": {
      "text/plain": [
       "Parameter containing:\n",
       "tensor([4.2951, 0.9370], requires_grad=True)"
      ]
     },
     "execution_count": 22,
     "metadata": {},
     "output_type": "execute_result"
    }
   ],
   "source": [
    "num_epoch = 100\n",
    "best_vloss = 1_000_000.\n",
    "\n",
    "qm_train = []\n",
    "for epoch in range(num_epoch):\n",
    "    model.train(True)\n",
    "    avg_q = train_one_epoch()\n",
    "    print(epoch, avg_q)\n",
    "    \n",
    "    # Track best performance, and save the model's state\n",
    "    mpath = os.path.join(model_dir,'model_multigrid_interface_ratio.pth')\n",
    "    torch.save(model.state_dict(), mpath)\n",
    "    qm_train.append(avg_q)\n",
    "\n",
    "print(\"\\nNew value:\")\n",
    "model.conv.weight\n",
    "model.deconv.weight\n",
    "model.w"
   ]
  },
  {
   "cell_type": "code",
   "execution_count": 23,
   "metadata": {},
   "outputs": [
    {
     "data": {
      "text/plain": [
       "Text(0.5, 0, 'epoch')"
      ]
     },
     "execution_count": 23,
     "metadata": {},
     "output_type": "execute_result"
    },
    {
     "data": {
      "image/png": "[encoded data removed]",
      "text/plain": [
       "<Figure size 432x288 with 1 Axes>"
      ]
     },
     "metadata": {
      "needs_background": "light"
     },
     "output_type": "display_data"
    }
   ],
   "source": [
    "plt.plot(qm_train)\n",
    "plt.ylabel('q')\n",
    "plt.xlabel('epoch')"
   ]
  },
  {
   "cell_type": "code",
   "execution_count": 24,
   "metadata": {},
   "outputs": [
    {
     "data": {
      "text/plain": [
       "Parameter containing:\n",
       "tensor([4.2951, 0.9370], requires_grad=True)"
      ]
     },
     "execution_count": 24,
     "metadata": {},
     "output_type": "execute_result"
    }
   ],
   "source": [
    "# import the learned model\n",
    "model.load_state_dict(torch.load(os.path.join(model_dir,'model_multigrid_interface_ratio.pth')))\n",
    "model.w"
   ]
  },
  {
   "cell_type": "code",
   "execution_count": 15,
   "metadata": {},
   "outputs": [
    {
     "name": "stdout",
     "output_type": "stream",
     "text": [
      "0 0.0761592760682106\n",
      "1 0.019912810996174812\n",
      "2 0.006012131925672293\n",
      "3 0.0019053753931075335\n",
      "4 0.000618059013504535\n",
      "5 0.0002035615179920569\n",
      "6 6.774195207981393e-05\n",
      "7 2.26942738663638e-05\n",
      "Solution converges after 8 multi-grid iterations \n"
     ]
    }
   ],
   "source": [
    "EPS = 5e-5\n",
    "n_multigrid = 0\n",
    "n = 2**4\n",
    "u = torch.zeros((1, 1, n+1, n+1), requires_grad=False, dtype=torch.float32)\n",
    "res_arr = [1]\n",
    "res = 1\n",
    "model(rhs[0].unsqueeze(0))\n",
    "while (abs(res) > EPS):\n",
    "    u = model.iterate(u)\n",
    "    residual = model.f-model.grids[0].Knet(u)\n",
    "    res_old = res\n",
    "    res = torch.sqrt(torch.sum(residual[:, :, 1:-1, 1:-1] ** 2)).item()\n",
    "    res_arr.append(res)\n",
    "    print(n_multigrid, res)\n",
    "    n_multigrid += 1\n",
    "\n",
    "print(\"Solution converges after\", n_multigrid, \"multi-grid iterations \")"
   ]
  },
  {
   "cell_type": "code",
   "execution_count": 16,
   "metadata": {},
   "outputs": [
    {
     "data": {
      "image/png": "[encoded data removed]",
      "text/plain": [
       "<Figure size 432x288 with 1 Axes>"
      ]
     },
     "metadata": {
      "needs_background": "light"
     },
     "output_type": "display_data"
    },
    {
     "data": {
      "image/png": "[encoded data removed]",
      "text/plain": [
       "<Figure size 432x288 with 2 Axes>"
      ]
     },
     "metadata": {
      "needs_background": "light"
     },
     "output_type": "display_data"
    }
   ],
   "source": [
    "plt.plot(res_arr)\n",
    "plt.yscale('log')\n",
    "plot.plot_field(u.detach())"
   ]
  },
  {
   "cell_type": "code",
   "execution_count": 18,
   "metadata": {},
   "outputs": [],
   "source": [
    "# Test the multigrid iteration\n",
    "class Multigrid():\n",
    "    '''Define the multigrid problem for 2D, n is the finest grid size'''\n",
    "    def __init__(self, inter_model, n = 64):\n",
    "\n",
    "        self.size = 2\n",
    "        self.n = n # total number of grids for finest grid\n",
    "        self.L = int(np.log2(n)) # number of levels for V-cycle multigrid\n",
    "        self.x = np.linspace(-1,1,n+1, dtype=np.float32) # grid number is n+1\n",
    "        self.y = np.linspace(-1,1,n+1, dtype=np.float32)\n",
    "        self.xx, self.yy = np.meshgrid(self.x, self.y, indexing='xy')\n",
    "        self.solution = []\n",
    "\n",
    "        self.w = inter_model.w.detach()\n",
    "        self.restrict_kernel = inter_model.conv.weight.detach()\n",
    "        self.interpolate_kernel = inter_model.deconv.weight.detach()\n",
    "        \n",
    "        self.n_arr = self.SizeArray() # array to store grid size for each level\n",
    "        self.grids = self.GridDict() # dictionary of structure grids\n",
    "        \n",
    "        ff = np.ones_like(self.xx)\n",
    "        self.grids[0].f = self.grids[0].fnet(torch.from_numpy(ff.reshape(1,1,n+1,n+1))) # assign the finest right hand side with the original rhs\n",
    "\n",
    "    def GridDict(self):\n",
    "        grids = {}\n",
    "        for i in range(self.L):\n",
    "            grids[i] = SingleGrid(self.size, self.n_arr[i])\n",
    "        return grids\n",
    "\n",
    "    def SizeArray(self):\n",
    "        n_arr = []\n",
    "        for i in range(self.L):\n",
    "            n_arr.append(int(self.n/(2.**i)))\n",
    "        n_arr = np.array(n_arr)\n",
    "        return n_arr\n",
    "\n",
    "    def Restrict(self, f):\n",
    "        '''\n",
    "        Perform full weighting operation to down sample to next level\n",
    "        '''\n",
    "        f_res = f[:, :, 1:-1, 1:-1]\n",
    "        f_res = F.conv2d(f_res, self.restrict_kernel, stride=2)\n",
    "        #f_res = F.conv2d(f_res, self.restrict_kernel, stride=2)\n",
    "        return F.pad(f_res,(1,1,1,1),\"constant\",0) # pad with zeros\n",
    "\n",
    "    def Interpolate(self, v):\n",
    "        '''\n",
    "        Perform linear interpolation and upsample to previous level ==> Return size: (2*N - 1), Ex. 17 -> 33\n",
    "        '''\n",
    "        v = F.conv_transpose2d(v, self.interpolate_kernel, stride=2, padding=1)\n",
    "        #v = F.conv_transpose2d(v, self.interpolate_kernel, stride=2, padding=1)\n",
    "        return v\n",
    "\n",
    "    def Error(self,v):\n",
    "        '''\n",
    "        Compute the error between current approximation and exact solution\n",
    "        v should be a 1D vector\n",
    "        '''\n",
    "        return torch.linalg.norm(v.reshape(-1)-self.u_exact.reshape(-1), ord=torch.inf)\n",
    "    \n",
    "    def rec_V_cycle(self, l, v, f):\n",
    "        '''\n",
    "        Perform recursive V-cycle\n",
    "        Input: l, current level\n",
    "        '''\n",
    "        n_sample = 1\n",
    "        self.grids[l].v = v\n",
    "        self.grids[l].f = f\n",
    "        self.grids[l].v = self.grids[l].Relax(v, f, n_sample)\n",
    "        if(not self.grids[l].IsCoarsest()):\n",
    "            residual = self.grids[l].f-self.grids[l].Knet(self.grids[l].v)\n",
    "            self.grids[l+1].f = self.w[0]*self.Restrict(residual)\n",
    "            self.grids[l+1].v *= 0.\n",
    "            self.rec_V_cycle(l+1, self.grids[l+1].v, self.grids[l+1].f)\n",
    "            self.grids[l].v += self.w[1]*self.Interpolate(self.grids[l+1].v)\n",
    "            self.grids[l+1].v *= 0.\n",
    "        \n",
    "        self.grids[l].v = self.grids[l].Relax(self.grids[l].v,self.grids[l].f,n_sample) \n",
    "\n",
    "    def Solve(self):\n",
    "        '''Return error and residual array'''\n",
    "        EPS = 5e-5\n",
    "        n_Vcycle = 0\n",
    "        self.grids[0].v = torch.zeros((1, 1, self.n+1, self.n+1), requires_grad=False, dtype=torch.float32)\n",
    "        e_Vcycle, res = 1, 1\n",
    "        e_arr_Vcycle = [e_Vcycle]\n",
    "        res_arr_Vcycle = [res]\n",
    "        err_occured = False\n",
    "        while (res > EPS):\n",
    "            u_prev = self.grids[0].v \n",
    "            self.rec_V_cycle(0,self.grids[0].v,self.grids[0].f)\n",
    "            e_Vcycle = torch.sqrt(torch.sum((self.grids[0].v - u_prev) ** 2)).item() / torch.sqrt(torch.sum((self.grids[0].v) ** 2)).item()\n",
    "            e_arr_Vcycle.append(e_Vcycle)\n",
    "            residual = self.grids[0].f-self.grids[0].Knet(self.grids[0].v)\n",
    "            res = torch.sqrt(torch.sum(residual[:, :, 1:-1, 1:-1] ** 2)).item()\n",
    "            res_arr_Vcycle.append(res)\n",
    "            print(e_Vcycle, res)\n",
    "            n_Vcycle += 1\n",
    "            if(res == torch.inf or math.isnan(res)):\n",
    "                err_occured = True\n",
    "                break\n",
    "\n",
    "        if(err_occured):\n",
    "            print(\"The iteration doesn't converge!\")\n",
    "        else:\n",
    "            print(\"Solution converges after\", n_Vcycle, \"V-cycle iterations with relative error of\", e_Vcycle)\n",
    "        return e_arr_Vcycle, res_arr_Vcycle"
   ]
  },
  {
   "cell_type": "code",
   "execution_count": 21,
   "metadata": {},
   "outputs": [
    {
     "name": "stdout",
     "output_type": "stream",
     "text": [
      "1.0 0.09180138260126114\n",
      "0.028231458342136 0.030251162126660347\n",
      "0.00877138498662918 0.012433032505214214\n",
      "0.0032285981857128857 0.0055278572253882885\n",
      "0.0013901009479226289 0.0025204727426171303\n",
      "0.0006357373695377368 0.0011647288920357823\n",
      "0.00029598654453148624 0.0005410999292507768\n",
      "0.00013943754833960198 0.00025288789765909314\n",
      "6.133568527932066e-05 0.00011775077291531488\n",
      "2.882283588976016e-05 5.4840813390910625e-05\n",
      "1.841801136747259e-05 2.7273083105683327e-05\n",
      "Solution converges after 11 V-cycle iterations with relative error of 1.841801136747259e-05\n"
     ]
    },
    {
     "data": {
      "image/png": "[encoded data removed]",
      "text/plain": [
       "<Figure size 432x288 with 1 Axes>"
      ]
     },
     "metadata": {
      "needs_background": "light"
     },
     "output_type": "display_data"
    },
    {
     "data": {
      "image/png": "[encoded data removed]",
      "text/plain": [
       "<Figure size 432x288 with 2 Axes>"
      ]
     },
     "metadata": {
      "needs_background": "light"
     },
     "output_type": "display_data"
    }
   ],
   "source": [
    "# Multigrid implementation\n",
    "n = 2**5\n",
    "prob_mg = Multigrid(model, n)\n",
    "\n",
    "e_arr_Vcycle, res_arr_Vcycle = prob_mg.Solve()\n",
    "\n",
    "plt.plot(e_arr_Vcycle, label='Error')\n",
    "plt.plot(res_arr_Vcycle, label='Residual')\n",
    "plt.yscale('log')\n",
    "plt.xlabel('# iteration')\n",
    "#plt.ylabel('Error')\n",
    "plt.legend()\n",
    "\n",
    "plot.plot_field(prob_mg.grids[0].v.detach())"
   ]
  },
  {
   "cell_type": "code",
   "execution_count": 22,
   "metadata": {},
   "outputs": [
    {
     "name": "stdout",
     "output_type": "stream",
     "text": [
      "q is:  0.563877453102131\n"
     ]
    }
   ],
   "source": [
    "def compute_q(res_arr):\n",
    "    return np.power(res_arr[9]/res_arr[6], 1.0/4)\n",
    "\n",
    "print(\"q is: \", compute_q(res_arr_Vcycle))"
   ]
  }
 ],
 "metadata": {
  "kernelspec": {
   "display_name": "Python 3.8.13 ('pytorch11')",
   "language": "python",
   "name": "python3"
  },
  "language_info": {
   "codemirror_mode": {
    "name": "ipython",
    "version": 3
   },
   "file_extension": ".py",
   "mimetype": "text/x-python",
   "name": "python",
   "nbconvert_exporter": "python",
   "pygments_lexer": "ipython3",
   "version": "3.8.13"
  },
  "orig_nbformat": 4,
  "vscode": {
   "interpreter": {
    "hash": "926ad5c238a4420011e83b59655d6cd21b021d9ee1aa0438d38aa969cfe55744"
   }
  }
 },
 "nbformat": 4,
 "nbformat_minor": 2
}
