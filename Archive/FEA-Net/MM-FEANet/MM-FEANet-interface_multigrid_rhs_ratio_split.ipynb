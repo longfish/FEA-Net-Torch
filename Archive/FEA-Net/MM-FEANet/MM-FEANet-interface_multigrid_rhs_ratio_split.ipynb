{
 "cells": [
  {
   "cell_type": "markdown",
   "metadata": {},
   "source": [
    "Learn the inter-grid operator ratio for interface problems using multigrid framework,\n",
    "* Dataset is constructed by changing RHS \n",
    "* Restriction and Prolongation operations are followed by a split operation"
   ]
  },
  {
   "cell_type": "code",
   "execution_count": 1,
   "metadata": {},
   "outputs": [],
   "source": [
    "import torch\n",
    "import torch.nn as nn\n",
    "import torch.nn.functional as F\n",
    "\n",
    "from torch.autograd import Variable\n",
    "from torch.utils.data import Dataset\n",
    "from torch.utils.data import DataLoader\n",
    "from torchvision.transforms import ToTensor\n",
    "\n",
    "import os\n",
    "import h5py\n",
    "import scipy.io as sio\n",
    "import numpy as np\n",
    "import matplotlib.pyplot as plt\n",
    "import math\n",
    "import random\n",
    "\n",
    "from FEANet.mesh import MeshCircInterface\n",
    "from FEANet.geo import Geometry\n",
    "from FEANet.jacobi import JacobiBlock\n",
    "from FEANet.model import KNet, FNet\n",
    "from Utils import plot"
   ]
  },
  {
   "cell_type": "code",
   "execution_count": 2,
   "metadata": {},
   "outputs": [],
   "source": [
    "class RHSDataSet(Dataset):\n",
    "    def __init__(self, h5file, case='train', transform=None, target_transform=None):\n",
    "        \"\"\"\n",
    "        case = 'train' or 'test'\n",
    "        \"\"\"\n",
    "        h5 = h5py.File(h5file,'r')\n",
    "        self.data = np.array(h5[case], dtype=np.float32)\n",
    "        self.totensor = ToTensor()\n",
    "        self.transform = transform\n",
    "        self.target_transform = target_transform\n",
    "\n",
    "    def __len__(self):\n",
    "        return self.data.shape[0]\n",
    "\n",
    "    def __getitem__(self, idx):\n",
    "        rhs_tensor = self.totensor(self.data[idx])\n",
    "        if self.transform:\n",
    "            rhs_tensor = self.transform(rhs_tensor)\n",
    "        return rhs_tensor"
   ]
  },
  {
   "cell_type": "code",
   "execution_count": 3,
   "metadata": {},
   "outputs": [],
   "source": [
    "training_set = RHSDataSet('Data/poisson2d_rhs_17x17.h5', case='train')\n",
    "test_set = RHSDataSet('Data/poisson2d_rhs_17x17.h5', case='test')\n",
    "\n",
    "train_dataloader = DataLoader(training_set, batch_size=64, shuffle=True)\n",
    "test_dataloader = DataLoader(test_set, batch_size=64, shuffle=True)"
   ]
  },
  {
   "cell_type": "code",
   "execution_count": 4,
   "metadata": {},
   "outputs": [],
   "source": [
    "def random_sampling(v):\n",
    "    d1, d2, d3, d4 = v.shape\n",
    "    for i in range(d1):\n",
    "        for j in range(d2):\n",
    "            coef = 10*np.random.rand(2) - 5\n",
    "            v[i, j, :, :] = torch.from_numpy(coef[0]*np.random.random((d3,d4)) + coef[1])"
   ]
  },
  {
   "cell_type": "code",
   "execution_count": 5,
   "metadata": {},
   "outputs": [],
   "source": [
    "class SingleGrid():\n",
    "    '''\n",
    "    Perform weighted Jacobi iteration relaxation for a single grid.\n",
    "    Note: the n should be the number of intervals, e.g., \n",
    "          there are (n+1)*(n+1) grid points in total if the size is n\n",
    "          f has already been convoluted, i.e., f = fnet(ff) if ff is the sourcing term of PDE\n",
    "    '''\n",
    "    def __init__(self, size, n):\n",
    "        self.size = size # actual size of the plate\n",
    "        self.n = n \n",
    "        self.omega = 2/3.\n",
    "        self.property = [1, 20] # homogeneous problem\n",
    "        self.plate = Geometry(nnode_edge = n+1)\n",
    "        self.grid = MeshCircInterface(size, prop=self.property, nnode_edge=n+1)\n",
    "        self.v = torch.zeros((1, 1, n+1, n+1), requires_grad=False, dtype=torch.float32)\n",
    "        self.f = torch.zeros((1, 1, n+1, n+1), requires_grad=False, dtype=torch.float32)\n",
    "        self.InstantiateFEANet()\n",
    "        self.jac = JacobiBlock(self.Knet, self.grid, self.omega, self.plate.geometry_idx, self.plate.boundary_value)\n",
    "\n",
    "    def IsCoarsest(self):\n",
    "        return self.n == 2\n",
    "        \n",
    "    def InstantiateFEANet(self):\n",
    "        self.Knet = KNet(self.grid) # Initialize the stiffness network, given mesh\n",
    "        self.fnet = FNet(self.size/self.n) # Initialize the forcing term network, given mesh size\n",
    "        for param in self.Knet.parameters():\n",
    "            param.requires_grad = False\n",
    "        for param in self.fnet.parameters():\n",
    "            param.requires_grad = False\n",
    "\n",
    "    def Relax(self, v, f, num_sweeps_down):\n",
    "        '''\n",
    "        Perform a fixed number of weighted Jacobi iteration\n",
    "        '''\n",
    "        v = self.jac.jacobi_convolution(v, f, n_iter=num_sweeps_down)\n",
    "        return v\n"
   ]
  },
  {
   "cell_type": "code",
   "execution_count": 6,
   "metadata": {},
   "outputs": [],
   "source": [
    "class RestrictionNet(nn.Module):\n",
    "    def __init__(self):\n",
    "        super(RestrictionNet, self).__init__()\n",
    "        self.n_channel = 16\n",
    "        self.net = nn.Conv2d(in_channels=self.n_channel,out_channels=1, kernel_size=3, stride=2, bias=False) # restriction\n",
    "        for i in range(self.n_channel):\n",
    "            self.net.state_dict()['weight'][0][i] = torch.asarray([[1, 2, 1],\n",
    "                                                                    [2, 4, 2],\n",
    "                                                                    [1, 2, 1]], dtype=torch.float32) / 16.0\n",
    "    def forward(self, x_split):\n",
    "        '''The input should have already been splitted'''\n",
    "        return self.net(x_split)"
   ]
  },
  {
   "cell_type": "code",
   "execution_count": 7,
   "metadata": {},
   "outputs": [],
   "source": [
    "class ProlongationNet(nn.Module):\n",
    "    def __init__(self):\n",
    "        super(ProlongationNet, self).__init__()\n",
    "        self.n_channel = 16\n",
    "        self.net = nn.ConvTranspose2d(in_channels=self.n_channel,out_channels=1, kernel_size=3, stride=2, padding=1, bias=False) # interpolation\n",
    "        for i in range(self.n_channel):\n",
    "            self.net.state_dict()['weight'][i][0] = torch.asarray([[1, 2, 1],\n",
    "                                                                    [2, 4, 2],\n",
    "                                                                    [1, 2, 1]], dtype=torch.float32) / 4.0\n",
    "    def forward(self, x_split): \n",
    "        '''The input should have already been splitted'''\n",
    "        return self.net(x_split)"
   ]
  },
  {
   "cell_type": "code",
   "execution_count": 8,
   "metadata": {},
   "outputs": [],
   "source": [
    "class MultiGrid(nn.Module):\n",
    "    '''Define the multigrid problem for 2D, n is the finest grid size'''\n",
    "    def __init__(self, n = 64):\n",
    "        super(MultiGrid, self).__init__()\n",
    "\n",
    "        # Hyper parameters\n",
    "        self.m = 6 # number of iterations to compute q\n",
    "\n",
    "        # Problem parameters\n",
    "        self.size = 2\n",
    "        self.n = n # number of grid intervals for finest grid edges\n",
    "        self.L = int(np.log2(n)) # multigrid iteration\n",
    "        self.solution = []\n",
    "        \n",
    "        self.n_arr = self.SizeArray() # array to store grid size for each level\n",
    "        self.grids = self.GridDict() # dictionary of structure grids\n",
    "        \n",
    "        # Inter-grid communication network models\n",
    "        self.conv = RestrictionNet()\n",
    "        self.deconv = ProlongationNet()\n",
    "        self.w = nn.Parameter(torch.asarray([5.,2.], dtype=torch.float32))\n",
    "        \n",
    "        self.conv.requires_grad_(False)\n",
    "        self.deconv.requires_grad_(False)\n",
    "        self.w.requires_grad_(True)\n",
    "    \n",
    "    def GridDict(self):\n",
    "        grids = {}\n",
    "        for i in range(self.L):\n",
    "            grids[i] = SingleGrid(self.size, self.n_arr[i])\n",
    "        return grids\n",
    "\n",
    "    def SizeArray(self):\n",
    "        n_arr = []\n",
    "        for i in range(self.L):\n",
    "            n_arr.append(int(self.n/(2.**i)))\n",
    "        n_arr = np.array(n_arr)\n",
    "        return n_arr\n",
    "\n",
    "    def Restrict(self, rF):\n",
    "        '''\n",
    "        Perform restriction operation to down sample to next (coarser) level\n",
    "        Note: rF has already been splitted\n",
    "        '''\n",
    "        rFC = self.conv(rF[:, :, 1:-1, 1:-1].clone())\n",
    "        rFC = F.pad(rFC,(1,1,1,1),\"constant\",0) # pad the coarse-level residual with zeros\n",
    "        return rFC\n",
    "\n",
    "    def Interpolate(self, eFC):\n",
    "        '''\n",
    "        Perform interpolation and upsample to previous (finer) level \n",
    "        Note: eFC has already been splitted\n",
    "        '''\n",
    "        eF = self.deconv(eFC.clone())\n",
    "        return eF \n",
    "\n",
    "    def qm(self, x):\n",
    "        \"Compute the convergence factor after m iterations\"\n",
    "        res1 = self.f - self.grids[0].Knet(x)\n",
    "        res0 = self.f - self.grids[0].Knet(self.v)\n",
    "        return torch.mean(torch.pow(torch.norm(res1[:, :, 1:-1, 1:-1].clone(), dim=(2,3))/torch.norm(res0[:, :, 1:-1, 1:-1].clone(), dim=(2,3)).detach(), 1.0/self.m))\n",
    "    \n",
    "    def forward(self, F):\n",
    "        '''Input is RHS field F'''\n",
    "        self.f = self.grids[0].fnet(F) # assign the finest rhs \n",
    "        self.v = torch.zeros_like(F, requires_grad=False, dtype=torch.float32) # initial solution\n",
    "        random_sampling(self.v)\n",
    "        U = torch.clone(self.v)\n",
    "    \n",
    "        for i in range(self.m-1):\n",
    "            U = self.iterate(U).detach()\n",
    "        return self.iterate(U)\n",
    "\n",
    "    def iterate(self, x):\n",
    "        '''Input x is the initial solution on the finest grid'''\n",
    "        n_batches = x.shape[0]\n",
    "        n_relax = 1 # number of relaxations\n",
    "        self.grids[0].v = x\n",
    "        self.grids[0].f = self.f\n",
    "        self.grids[0].v = self.grids[0].Relax(self.grids[0].v, self.grids[0].f, n_relax)\n",
    "\n",
    "        for j in range(0, self.L-1):\n",
    "            rF = self.grids[j].f-self.grids[j].Knet(self.grids[j].v)\n",
    "            rF = self.grids[j].Knet.split_x(rF)\n",
    "            self.grids[j+1].f = self.w[0]*self.Restrict(rF)\n",
    "            self.grids[j+1].v = torch.zeros((n_batches,1,self.n_arr[j+1]+1,self.n_arr[j+1]+1), dtype=torch.float32, requires_grad=False)\n",
    "            self.grids[j+1].v = self.grids[j+1].Relax(self.grids[j+1].v, self.grids[j+1].f, n_relax)\n",
    "\n",
    "        self.grids[self.L-1].v = self.grids[self.L-1].Relax(self.grids[self.L-1].v, self.grids[self.L-1].f, n_relax)\n",
    "\n",
    "        for j in range(self.L-2,-1,-1):\n",
    "            eFC = self.grids[j+1].Knet.split_x(self.grids[j+1].v)\n",
    "            eF_delta = self.w[1]*self.Interpolate(eFC)\n",
    "            self.grids[j].v = self.grids[j].v + eF_delta\n",
    "            self.grids[j].v = self.grids[j].Relax(self.grids[j].v, self.grids[j].f, n_relax)\n",
    "\n",
    "            # zero out the previous level solution\n",
    "            self.grids[j+1].v = torch.zeros((n_batches,1,self.n_arr[j+1]+1,self.n_arr[j+1]+1), dtype=torch.float32, requires_grad=False) \n",
    "\n",
    "        return self.grids[0].v "
   ]
  },
  {
   "cell_type": "code",
   "execution_count": 9,
   "metadata": {},
   "outputs": [],
   "source": [
    "n = 2**4\n",
    "model = MultiGrid(n)\n",
    "rhs = next(iter(train_dataloader))"
   ]
  },
  {
   "cell_type": "code",
   "execution_count": 10,
   "metadata": {},
   "outputs": [
    {
     "name": "stdout",
     "output_type": "stream",
     "text": [
      "0 7.876640796661377\n",
      "1 107.99286651611328\n",
      "2 1407.93310546875\n",
      "3 18274.578125\n",
      "4 237108.734375\n",
      "5 3076310.0\n",
      "6 39912912.0\n",
      "7 517843520.0\n",
      "8 6718687232.0\n",
      "9 87169851392.0\n",
      "10 1130973888512.0\n",
      "11 14673525080064.0\n",
      "12 190378837803008.0\n",
      "13 2470035960365056.0\n",
      "14 3.2047001558319104e+16\n",
      "15 4.157879155456737e+17\n",
      "16 5.394563036415525e+18\n",
      "17 inf\n",
      "The iteration doesn't converge!\n"
     ]
    },
    {
     "data": {
      "text/plain": [
       "Text(0, 0.5, 'Residual')"
      ]
     },
     "execution_count": 10,
     "metadata": {},
     "output_type": "execute_result"
    },
    {
     "data": {
      "image/png": "[encoded data removed]",
      "text/plain": [
       "<Figure size 432x288 with 1 Axes>"
      ]
     },
     "metadata": {
      "needs_background": "light"
     },
     "output_type": "display_data"
    }
   ],
   "source": [
    "EPS = 5e-5\n",
    "n_multigrid = 0\n",
    "u = torch.zeros((1, 1, n+1, n+1), requires_grad=False, dtype=torch.float32)\n",
    "res_arr = [1]\n",
    "res = 1\n",
    "model(rhs[1].unsqueeze(0))\n",
    "err_occured = False\n",
    "while (abs(res) > EPS):\n",
    "    u = model.iterate(u)\n",
    "    residual = model.f-model.grids[0].Knet(u)\n",
    "    res_old = res\n",
    "    res = torch.sqrt(torch.sum(residual[:, :, 1:-1, 1:-1] ** 2)).item()\n",
    "    res_arr.append(res)\n",
    "    print(n_multigrid, res)\n",
    "    n_multigrid += 1\n",
    "\n",
    "    if(res == torch.inf or math.isnan(res)):\n",
    "        err_occured = True\n",
    "        break\n",
    "\n",
    "if(err_occured):\n",
    "    print(\"The iteration doesn't converge!\")\n",
    "else:\n",
    "    print(\"Solution converges after\", n_multigrid, \"multi-grid iterations \")\n",
    "plt.plot(res_arr)\n",
    "plt.yscale('log')\n",
    "plt.xlabel('# iteration')\n",
    "plt.ylabel('Residual')"
   ]
  },
  {
   "cell_type": "code",
   "execution_count": 11,
   "metadata": {},
   "outputs": [
    {
     "name": "stdout",
     "output_type": "stream",
     "text": [
      "Restriction kernel: tensor([[0.0625, 0.1250, 0.0625],\n",
      "        [0.1250, 0.2500, 0.1250],\n",
      "        [0.0625, 0.1250, 0.0625]])\n",
      "Interpolation kernel: tensor([[0.2500, 0.5000, 0.2500],\n",
      "        [0.5000, 1.0000, 0.5000],\n",
      "        [0.2500, 0.5000, 0.2500]])\n",
      "Ratio: tensor([5., 2.], grad_fn=<SliceBackward0>)\n"
     ]
    }
   ],
   "source": [
    "model_dir = 'Model/multigrid_rhs'\n",
    "if not os.path.exists(model_dir):\n",
    "    os.makedirs(model_dir)\n",
    "    \n",
    "optimizer = torch.optim.Adam(model.parameters(), lr=1e-3)\n",
    "print('Restriction kernel:', model.conv.net.weight[0][0])\n",
    "print('Interpolation kernel:', model.deconv.net.weight[0][0])\n",
    "print('Ratio:', model.w[:])"
   ]
  },
  {
   "cell_type": "code",
   "execution_count": 12,
   "metadata": {},
   "outputs": [],
   "source": [
    "def train_one_epoch():\n",
    "    running_loss = 0.\n",
    "    for i, data in enumerate(train_dataloader):\n",
    "        optimizer.zero_grad() # zero the gradients for every batch\n",
    "        u_out = model(data)\n",
    "        loss_q = model.qm(u_out)\n",
    "        \n",
    "        loss_q.backward()\n",
    "        optimizer.step()\n",
    "        running_loss += loss_q.item()\n",
    "    \n",
    "    last_loss = running_loss/(i+1)\n",
    "    return last_loss"
   ]
  },
  {
   "cell_type": "code",
   "execution_count": 13,
   "metadata": {},
   "outputs": [
    {
     "name": "stdout",
     "output_type": "stream",
     "text": [
      "0 6.62147644162178\n",
      "1 6.397497326135635\n",
      "2 6.203428506851196\n",
      "3 5.945985287427902\n",
      "4 5.740116983652115\n",
      "5 5.582089304924011\n",
      "6 5.470616191625595\n",
      "7 5.186893790960312\n",
      "8 4.943385004997253\n"
     ]
    },
    {
     "ename": "KeyboardInterrupt",
     "evalue": "",
     "output_type": "error",
     "traceback": [
      "\u001b[0;31m---------------------------------------------------------------------------\u001b[0m",
      "\u001b[0;31mKeyboardInterrupt\u001b[0m                         Traceback (most recent call last)",
      "\u001b[1;32m/home/cmeng12/Documents/Multigrid-FEA-Net/MM-FEANet-interface_multigrid_rhs_ratio_split.ipynb Cell 14\u001b[0m in \u001b[0;36m<cell line: 5>\u001b[0;34m()\u001b[0m\n\u001b[1;32m      <a href='vscode-notebook-cell:/home/cmeng12/Documents/Multigrid-FEA-Net/MM-FEANet-interface_multigrid_rhs_ratio_split.ipynb#X20sZmlsZQ%3D%3D?line=4'>5</a>\u001b[0m \u001b[39mfor\u001b[39;00m epoch \u001b[39min\u001b[39;00m \u001b[39mrange\u001b[39m(num_epoch):\n\u001b[1;32m      <a href='vscode-notebook-cell:/home/cmeng12/Documents/Multigrid-FEA-Net/MM-FEANet-interface_multigrid_rhs_ratio_split.ipynb#X20sZmlsZQ%3D%3D?line=5'>6</a>\u001b[0m     model\u001b[39m.\u001b[39mtrain(\u001b[39mTrue\u001b[39;00m)\n\u001b[0;32m----> <a href='vscode-notebook-cell:/home/cmeng12/Documents/Multigrid-FEA-Net/MM-FEANet-interface_multigrid_rhs_ratio_split.ipynb#X20sZmlsZQ%3D%3D?line=6'>7</a>\u001b[0m     avg_q \u001b[39m=\u001b[39m train_one_epoch()\n\u001b[1;32m      <a href='vscode-notebook-cell:/home/cmeng12/Documents/Multigrid-FEA-Net/MM-FEANet-interface_multigrid_rhs_ratio_split.ipynb#X20sZmlsZQ%3D%3D?line=7'>8</a>\u001b[0m     \u001b[39mprint\u001b[39m(epoch, avg_q)\n\u001b[1;32m     <a href='vscode-notebook-cell:/home/cmeng12/Documents/Multigrid-FEA-Net/MM-FEANet-interface_multigrid_rhs_ratio_split.ipynb#X20sZmlsZQ%3D%3D?line=9'>10</a>\u001b[0m     \u001b[39m# Track best performance, and save the model's state\u001b[39;00m\n",
      "\u001b[1;32m/home/cmeng12/Documents/Multigrid-FEA-Net/MM-FEANet-interface_multigrid_rhs_ratio_split.ipynb Cell 14\u001b[0m in \u001b[0;36mtrain_one_epoch\u001b[0;34m()\u001b[0m\n\u001b[1;32m      <a href='vscode-notebook-cell:/home/cmeng12/Documents/Multigrid-FEA-Net/MM-FEANet-interface_multigrid_rhs_ratio_split.ipynb#X20sZmlsZQ%3D%3D?line=2'>3</a>\u001b[0m \u001b[39mfor\u001b[39;00m i, data \u001b[39min\u001b[39;00m \u001b[39menumerate\u001b[39m(train_dataloader):\n\u001b[1;32m      <a href='vscode-notebook-cell:/home/cmeng12/Documents/Multigrid-FEA-Net/MM-FEANet-interface_multigrid_rhs_ratio_split.ipynb#X20sZmlsZQ%3D%3D?line=3'>4</a>\u001b[0m     optimizer\u001b[39m.\u001b[39mzero_grad() \u001b[39m# zero the gradients for every batch\u001b[39;00m\n\u001b[0;32m----> <a href='vscode-notebook-cell:/home/cmeng12/Documents/Multigrid-FEA-Net/MM-FEANet-interface_multigrid_rhs_ratio_split.ipynb#X20sZmlsZQ%3D%3D?line=4'>5</a>\u001b[0m     u_out \u001b[39m=\u001b[39m model(data)\n\u001b[1;32m      <a href='vscode-notebook-cell:/home/cmeng12/Documents/Multigrid-FEA-Net/MM-FEANet-interface_multigrid_rhs_ratio_split.ipynb#X20sZmlsZQ%3D%3D?line=5'>6</a>\u001b[0m     loss_q \u001b[39m=\u001b[39m model\u001b[39m.\u001b[39mqm(u_out)\n\u001b[1;32m      <a href='vscode-notebook-cell:/home/cmeng12/Documents/Multigrid-FEA-Net/MM-FEANet-interface_multigrid_rhs_ratio_split.ipynb#X20sZmlsZQ%3D%3D?line=7'>8</a>\u001b[0m     loss_q\u001b[39m.\u001b[39mbackward()\n",
      "File \u001b[0;32m~/miniconda3/envs/pytorch12/lib/python3.10/site-packages/torch/nn/modules/module.py:1130\u001b[0m, in \u001b[0;36mModule._call_impl\u001b[0;34m(self, *input, **kwargs)\u001b[0m\n\u001b[1;32m   1126\u001b[0m \u001b[39m# If we don't have any hooks, we want to skip the rest of the logic in\u001b[39;00m\n\u001b[1;32m   1127\u001b[0m \u001b[39m# this function, and just call forward.\u001b[39;00m\n\u001b[1;32m   1128\u001b[0m \u001b[39mif\u001b[39;00m \u001b[39mnot\u001b[39;00m (\u001b[39mself\u001b[39m\u001b[39m.\u001b[39m_backward_hooks \u001b[39mor\u001b[39;00m \u001b[39mself\u001b[39m\u001b[39m.\u001b[39m_forward_hooks \u001b[39mor\u001b[39;00m \u001b[39mself\u001b[39m\u001b[39m.\u001b[39m_forward_pre_hooks \u001b[39mor\u001b[39;00m _global_backward_hooks\n\u001b[1;32m   1129\u001b[0m         \u001b[39mor\u001b[39;00m _global_forward_hooks \u001b[39mor\u001b[39;00m _global_forward_pre_hooks):\n\u001b[0;32m-> 1130\u001b[0m     \u001b[39mreturn\u001b[39;00m forward_call(\u001b[39m*\u001b[39;49m\u001b[39minput\u001b[39;49m, \u001b[39m*\u001b[39;49m\u001b[39m*\u001b[39;49mkwargs)\n\u001b[1;32m   1131\u001b[0m \u001b[39m# Do not call functions when jit is used\u001b[39;00m\n\u001b[1;32m   1132\u001b[0m full_backward_hooks, non_full_backward_hooks \u001b[39m=\u001b[39m [], []\n",
      "\u001b[1;32m/home/cmeng12/Documents/Multigrid-FEA-Net/MM-FEANet-interface_multigrid_rhs_ratio_split.ipynb Cell 14\u001b[0m in \u001b[0;36mMultiGrid.forward\u001b[0;34m(self, F)\u001b[0m\n\u001b[1;32m     <a href='vscode-notebook-cell:/home/cmeng12/Documents/Multigrid-FEA-Net/MM-FEANet-interface_multigrid_rhs_ratio_split.ipynb#X20sZmlsZQ%3D%3D?line=67'>68</a>\u001b[0m U \u001b[39m=\u001b[39m torch\u001b[39m.\u001b[39mclone(\u001b[39mself\u001b[39m\u001b[39m.\u001b[39mv)\n\u001b[1;32m     <a href='vscode-notebook-cell:/home/cmeng12/Documents/Multigrid-FEA-Net/MM-FEANet-interface_multigrid_rhs_ratio_split.ipynb#X20sZmlsZQ%3D%3D?line=69'>70</a>\u001b[0m \u001b[39mfor\u001b[39;00m i \u001b[39min\u001b[39;00m \u001b[39mrange\u001b[39m(\u001b[39mself\u001b[39m\u001b[39m.\u001b[39mm\u001b[39m-\u001b[39m\u001b[39m1\u001b[39m):\n\u001b[0;32m---> <a href='vscode-notebook-cell:/home/cmeng12/Documents/Multigrid-FEA-Net/MM-FEANet-interface_multigrid_rhs_ratio_split.ipynb#X20sZmlsZQ%3D%3D?line=70'>71</a>\u001b[0m     U \u001b[39m=\u001b[39m \u001b[39mself\u001b[39;49m\u001b[39m.\u001b[39;49miterate(U)\u001b[39m.\u001b[39mdetach()\n\u001b[1;32m     <a href='vscode-notebook-cell:/home/cmeng12/Documents/Multigrid-FEA-Net/MM-FEANet-interface_multigrid_rhs_ratio_split.ipynb#X20sZmlsZQ%3D%3D?line=71'>72</a>\u001b[0m \u001b[39mreturn\u001b[39;00m \u001b[39mself\u001b[39m\u001b[39m.\u001b[39miterate(U)\n",
      "\u001b[1;32m/home/cmeng12/Documents/Multigrid-FEA-Net/MM-FEANet-interface_multigrid_rhs_ratio_split.ipynb Cell 14\u001b[0m in \u001b[0;36mMultiGrid.iterate\u001b[0;34m(self, x)\u001b[0m\n\u001b[1;32m     <a href='vscode-notebook-cell:/home/cmeng12/Documents/Multigrid-FEA-Net/MM-FEANet-interface_multigrid_rhs_ratio_split.ipynb#X20sZmlsZQ%3D%3D?line=81'>82</a>\u001b[0m \u001b[39mfor\u001b[39;00m j \u001b[39min\u001b[39;00m \u001b[39mrange\u001b[39m(\u001b[39m0\u001b[39m, \u001b[39mself\u001b[39m\u001b[39m.\u001b[39mL\u001b[39m-\u001b[39m\u001b[39m1\u001b[39m):\n\u001b[1;32m     <a href='vscode-notebook-cell:/home/cmeng12/Documents/Multigrid-FEA-Net/MM-FEANet-interface_multigrid_rhs_ratio_split.ipynb#X20sZmlsZQ%3D%3D?line=82'>83</a>\u001b[0m     rF \u001b[39m=\u001b[39m \u001b[39mself\u001b[39m\u001b[39m.\u001b[39mgrids[j]\u001b[39m.\u001b[39mf\u001b[39m-\u001b[39m\u001b[39mself\u001b[39m\u001b[39m.\u001b[39mgrids[j]\u001b[39m.\u001b[39mKnet(\u001b[39mself\u001b[39m\u001b[39m.\u001b[39mgrids[j]\u001b[39m.\u001b[39mv)\n\u001b[0;32m---> <a href='vscode-notebook-cell:/home/cmeng12/Documents/Multigrid-FEA-Net/MM-FEANet-interface_multigrid_rhs_ratio_split.ipynb#X20sZmlsZQ%3D%3D?line=83'>84</a>\u001b[0m     rF \u001b[39m=\u001b[39m \u001b[39mself\u001b[39;49m\u001b[39m.\u001b[39;49mgrids[j]\u001b[39m.\u001b[39;49mKnet\u001b[39m.\u001b[39;49msplit_x(rF)\n\u001b[1;32m     <a href='vscode-notebook-cell:/home/cmeng12/Documents/Multigrid-FEA-Net/MM-FEANet-interface_multigrid_rhs_ratio_split.ipynb#X20sZmlsZQ%3D%3D?line=84'>85</a>\u001b[0m     \u001b[39mself\u001b[39m\u001b[39m.\u001b[39mgrids[j\u001b[39m+\u001b[39m\u001b[39m1\u001b[39m]\u001b[39m.\u001b[39mf \u001b[39m=\u001b[39m \u001b[39mself\u001b[39m\u001b[39m.\u001b[39mw[\u001b[39m0\u001b[39m]\u001b[39m*\u001b[39m\u001b[39mself\u001b[39m\u001b[39m.\u001b[39mRestrict(rF)\n\u001b[1;32m     <a href='vscode-notebook-cell:/home/cmeng12/Documents/Multigrid-FEA-Net/MM-FEANet-interface_multigrid_rhs_ratio_split.ipynb#X20sZmlsZQ%3D%3D?line=85'>86</a>\u001b[0m     \u001b[39mself\u001b[39m\u001b[39m.\u001b[39mgrids[j\u001b[39m+\u001b[39m\u001b[39m1\u001b[39m]\u001b[39m.\u001b[39mv \u001b[39m=\u001b[39m torch\u001b[39m.\u001b[39mzeros((n_batches,\u001b[39m1\u001b[39m,\u001b[39mself\u001b[39m\u001b[39m.\u001b[39mn_arr[j\u001b[39m+\u001b[39m\u001b[39m1\u001b[39m]\u001b[39m+\u001b[39m\u001b[39m1\u001b[39m,\u001b[39mself\u001b[39m\u001b[39m.\u001b[39mn_arr[j\u001b[39m+\u001b[39m\u001b[39m1\u001b[39m]\u001b[39m+\u001b[39m\u001b[39m1\u001b[39m), dtype\u001b[39m=\u001b[39mtorch\u001b[39m.\u001b[39mfloat32, requires_grad\u001b[39m=\u001b[39m\u001b[39mFalse\u001b[39;00m)\n",
      "File \u001b[0;32m~/Documents/Multigrid-FEA-Net/FEANet/model.py:33\u001b[0m, in \u001b[0;36mKNet.split_x\u001b[0;34m(self, x)\u001b[0m\n\u001b[1;32m     31\u001b[0m \u001b[39mdef\u001b[39;00m \u001b[39msplit_x\u001b[39m(\u001b[39mself\u001b[39m, x):\n\u001b[1;32m     32\u001b[0m     \u001b[39m'''Split the field x based on the material phase'''\u001b[39;00m\n\u001b[0;32m---> 33\u001b[0m     x_split \u001b[39m=\u001b[39m \u001b[39mself\u001b[39;49m\u001b[39m.\u001b[39;49mnet1(x)\n\u001b[1;32m     34\u001b[0m     x_split \u001b[39m=\u001b[39m x_split\u001b[39m*\u001b[39m\u001b[39mself\u001b[39m\u001b[39m.\u001b[39mglobal_pattern\n\u001b[1;32m     35\u001b[0m     \u001b[39mreturn\u001b[39;00m x_split\n",
      "File \u001b[0;32m~/miniconda3/envs/pytorch12/lib/python3.10/site-packages/torch/nn/modules/module.py:1130\u001b[0m, in \u001b[0;36mModule._call_impl\u001b[0;34m(self, *input, **kwargs)\u001b[0m\n\u001b[1;32m   1126\u001b[0m \u001b[39m# If we don't have any hooks, we want to skip the rest of the logic in\u001b[39;00m\n\u001b[1;32m   1127\u001b[0m \u001b[39m# this function, and just call forward.\u001b[39;00m\n\u001b[1;32m   1128\u001b[0m \u001b[39mif\u001b[39;00m \u001b[39mnot\u001b[39;00m (\u001b[39mself\u001b[39m\u001b[39m.\u001b[39m_backward_hooks \u001b[39mor\u001b[39;00m \u001b[39mself\u001b[39m\u001b[39m.\u001b[39m_forward_hooks \u001b[39mor\u001b[39;00m \u001b[39mself\u001b[39m\u001b[39m.\u001b[39m_forward_pre_hooks \u001b[39mor\u001b[39;00m _global_backward_hooks\n\u001b[1;32m   1129\u001b[0m         \u001b[39mor\u001b[39;00m _global_forward_hooks \u001b[39mor\u001b[39;00m _global_forward_pre_hooks):\n\u001b[0;32m-> 1130\u001b[0m     \u001b[39mreturn\u001b[39;00m forward_call(\u001b[39m*\u001b[39;49m\u001b[39minput\u001b[39;49m, \u001b[39m*\u001b[39;49m\u001b[39m*\u001b[39;49mkwargs)\n\u001b[1;32m   1131\u001b[0m \u001b[39m# Do not call functions when jit is used\u001b[39;00m\n\u001b[1;32m   1132\u001b[0m full_backward_hooks, non_full_backward_hooks \u001b[39m=\u001b[39m [], []\n",
      "File \u001b[0;32m~/miniconda3/envs/pytorch12/lib/python3.10/site-packages/torch/nn/modules/conv.py:457\u001b[0m, in \u001b[0;36mConv2d.forward\u001b[0;34m(self, input)\u001b[0m\n\u001b[1;32m    456\u001b[0m \u001b[39mdef\u001b[39;00m \u001b[39mforward\u001b[39m(\u001b[39mself\u001b[39m, \u001b[39minput\u001b[39m: Tensor) \u001b[39m-\u001b[39m\u001b[39m>\u001b[39m Tensor:\n\u001b[0;32m--> 457\u001b[0m     \u001b[39mreturn\u001b[39;00m \u001b[39mself\u001b[39;49m\u001b[39m.\u001b[39;49m_conv_forward(\u001b[39minput\u001b[39;49m, \u001b[39mself\u001b[39;49m\u001b[39m.\u001b[39;49mweight, \u001b[39mself\u001b[39;49m\u001b[39m.\u001b[39;49mbias)\n",
      "File \u001b[0;32m~/miniconda3/envs/pytorch12/lib/python3.10/site-packages/torch/nn/modules/conv.py:453\u001b[0m, in \u001b[0;36mConv2d._conv_forward\u001b[0;34m(self, input, weight, bias)\u001b[0m\n\u001b[1;32m    449\u001b[0m \u001b[39mif\u001b[39;00m \u001b[39mself\u001b[39m\u001b[39m.\u001b[39mpadding_mode \u001b[39m!=\u001b[39m \u001b[39m'\u001b[39m\u001b[39mzeros\u001b[39m\u001b[39m'\u001b[39m:\n\u001b[1;32m    450\u001b[0m     \u001b[39mreturn\u001b[39;00m F\u001b[39m.\u001b[39mconv2d(F\u001b[39m.\u001b[39mpad(\u001b[39minput\u001b[39m, \u001b[39mself\u001b[39m\u001b[39m.\u001b[39m_reversed_padding_repeated_twice, mode\u001b[39m=\u001b[39m\u001b[39mself\u001b[39m\u001b[39m.\u001b[39mpadding_mode),\n\u001b[1;32m    451\u001b[0m                     weight, bias, \u001b[39mself\u001b[39m\u001b[39m.\u001b[39mstride,\n\u001b[1;32m    452\u001b[0m                     _pair(\u001b[39m0\u001b[39m), \u001b[39mself\u001b[39m\u001b[39m.\u001b[39mdilation, \u001b[39mself\u001b[39m\u001b[39m.\u001b[39mgroups)\n\u001b[0;32m--> 453\u001b[0m \u001b[39mreturn\u001b[39;00m F\u001b[39m.\u001b[39;49mconv2d(\u001b[39minput\u001b[39;49m, weight, bias, \u001b[39mself\u001b[39;49m\u001b[39m.\u001b[39;49mstride,\n\u001b[1;32m    454\u001b[0m                 \u001b[39mself\u001b[39;49m\u001b[39m.\u001b[39;49mpadding, \u001b[39mself\u001b[39;49m\u001b[39m.\u001b[39;49mdilation, \u001b[39mself\u001b[39;49m\u001b[39m.\u001b[39;49mgroups)\n",
      "\u001b[0;31mKeyboardInterrupt\u001b[0m: "
     ]
    }
   ],
   "source": [
    "num_epoch = 300\n",
    "best_vloss = 1_000_000.\n",
    "\n",
    "qm_train = []\n",
    "for epoch in range(num_epoch):\n",
    "    model.train(True)\n",
    "    avg_q = train_one_epoch()\n",
    "    print(epoch, avg_q)\n",
    "    \n",
    "    # Track best performance, and save the model's state\n",
    "    mpath = os.path.join(model_dir,'model_multigrid_interface_ratio.pth')\n",
    "    torch.save(model.state_dict(), mpath)\n",
    "    qm_train.append(avg_q)"
   ]
  },
  {
   "cell_type": "code",
   "execution_count": 15,
   "metadata": {},
   "outputs": [
    {
     "name": "stdout",
     "output_type": "stream",
     "text": [
      "New ratio: tensor([4.1108, 0.9840], grad_fn=<SliceBackward0>)\n"
     ]
    },
    {
     "data": {
      "text/plain": [
       "Text(0.5, 0, 'epoch')"
      ]
     },
     "execution_count": 15,
     "metadata": {},
     "output_type": "execute_result"
    },
    {
     "data": {
      "image/png": "[encoded data removed]",
      "text/plain": [
       "<Figure size 432x288 with 1 Axes>"
      ]
     },
     "metadata": {
      "needs_background": "light"
     },
     "output_type": "display_data"
    }
   ],
   "source": [
    "print('New ratio:', model.w[:])\n",
    "plt.plot(qm_train)\n",
    "plt.ylabel('q')\n",
    "plt.xlabel('epoch')"
   ]
  },
  {
   "cell_type": "code",
   "execution_count": 16,
   "metadata": {},
   "outputs": [
    {
     "data": {
      "text/plain": [
       "Parameter containing:\n",
       "tensor([4.1108, 0.9840], requires_grad=True)"
      ]
     },
     "execution_count": 16,
     "metadata": {},
     "output_type": "execute_result"
    }
   ],
   "source": [
    "# import the learned model\n",
    "model.load_state_dict(torch.load(os.path.join(model_dir,'model_multigrid_interface_ratio.pth')))\n",
    "model.w"
   ]
  },
  {
   "cell_type": "code",
   "execution_count": 17,
   "metadata": {},
   "outputs": [
    {
     "name": "stdout",
     "output_type": "stream",
     "text": [
      "0 0.15215571224689484\n",
      "1 0.054416924715042114\n",
      "2 0.02104109153151512\n",
      "3 0.008035090751945972\n",
      "4 0.003045672085136175\n",
      "5 0.00115576246753335\n",
      "6 0.0004414913128130138\n",
      "7 0.00016977806808426976\n",
      "8 6.603574001928791e-05\n",
      "9 2.5853567422018386e-05\n",
      "Solution converges after 10 multi-grid iterations \n"
     ]
    }
   ],
   "source": [
    "EPS = 5e-5\n",
    "n_multigrid = 0\n",
    "n = 2**4\n",
    "u = torch.zeros((1, 1, n+1, n+1), requires_grad=False, dtype=torch.float32)\n",
    "res_arr = [1]\n",
    "res = 1\n",
    "model(rhs[0].unsqueeze(0))\n",
    "while (abs(res) > EPS):\n",
    "    u = model.iterate(u)\n",
    "    residual = model.f-model.grids[0].Knet(u)\n",
    "    res_old = res\n",
    "    res = torch.sqrt(torch.sum(residual[:, :, 1:-1, 1:-1] ** 2)).item()\n",
    "    res_arr.append(res)\n",
    "    print(n_multigrid, res)\n",
    "    n_multigrid += 1\n",
    "\n",
    "print(\"Solution converges after\", n_multigrid, \"multi-grid iterations \")"
   ]
  },
  {
   "cell_type": "code",
   "execution_count": 18,
   "metadata": {},
   "outputs": [
    {
     "data": {
      "image/png": "[encoded data removed]",
      "text/plain": [
       "<Figure size 432x288 with 1 Axes>"
      ]
     },
     "metadata": {
      "needs_background": "light"
     },
     "output_type": "display_data"
    },
    {
     "data": {
      "image/png": "[encoded data removed]",
      "text/plain": [
       "<Figure size 432x288 with 2 Axes>"
      ]
     },
     "metadata": {
      "needs_background": "light"
     },
     "output_type": "display_data"
    }
   ],
   "source": [
    "plt.plot(res_arr)\n",
    "plt.yscale('log')\n",
    "plot.plot_field(u.detach())"
   ]
  },
  {
   "cell_type": "code",
   "execution_count": 19,
   "metadata": {},
   "outputs": [],
   "source": [
    "# Test the multigrid iteration\n",
    "class Multigrid():\n",
    "    '''Define the multigrid problem for 2D, n is the finest grid size'''\n",
    "    def __init__(self, inter_model, n = 64):\n",
    "\n",
    "        self.size = 2\n",
    "        self.n = n # total number of grids for finest grid\n",
    "        self.L = int(np.log2(n)) # number of levels for V-cycle multigrid\n",
    "        self.x = np.linspace(-1,1,n+1, dtype=np.float32) # grid number is n+1\n",
    "        self.y = np.linspace(-1,1,n+1, dtype=np.float32)\n",
    "        self.xx, self.yy = np.meshgrid(self.x, self.y, indexing='xy')\n",
    "        self.solution = []\n",
    "\n",
    "        self.w = inter_model.w.detach()\n",
    "        self.conv = inter_model.conv\n",
    "        self.deconv = inter_model.deconv\n",
    "        self.conv.requires_grad_(False)\n",
    "        self.deconv.requires_grad_(False)\n",
    "        \n",
    "        self.n_arr = self.SizeArray() # array to store grid size for each level\n",
    "        self.grids = self.GridDict() # dictionary of structure grids\n",
    "        \n",
    "        ff = np.ones_like(self.xx)\n",
    "        self.grids[0].f = self.grids[0].fnet(torch.from_numpy(ff.reshape(1,1,n+1,n+1))) # assign the finest right hand side with the original rhs\n",
    "\n",
    "    def GridDict(self):\n",
    "        grids = {}\n",
    "        for i in range(self.L):\n",
    "            grids[i] = SingleGrid(self.size, self.n_arr[i])\n",
    "        return grids\n",
    "\n",
    "    def SizeArray(self):\n",
    "        n_arr = []\n",
    "        for i in range(self.L):\n",
    "            n_arr.append(int(self.n/(2.**i)))\n",
    "        n_arr = np.array(n_arr)\n",
    "        return n_arr\n",
    "\n",
    "    def Restrict(self, rF):\n",
    "        '''\n",
    "        Perform restriction operation to down sample to next (coarser) level\n",
    "        Note: rF has already been splitted\n",
    "        '''\n",
    "        rFC = self.conv(rF[:, :, 1:-1, 1:-1].clone())\n",
    "        rFC = F.pad(rFC,(1,1,1,1),\"constant\",0) # pad the coarse-level residual with zeros\n",
    "        return rFC\n",
    "\n",
    "    def Interpolate(self, eFC):\n",
    "        '''\n",
    "        Perform interpolation and upsample to previous (finer) level \n",
    "        Note: eFC has already been splitted\n",
    "        '''\n",
    "        eF = self.deconv(eFC.clone())\n",
    "        return eF \n",
    "\n",
    "    def Error(self,v):\n",
    "        '''\n",
    "        Compute the error between current approximation and exact solution\n",
    "        v should be a 1D vector\n",
    "        '''\n",
    "        return torch.linalg.norm(v.reshape(-1)-self.u_exact.reshape(-1), ord=torch.inf)\n",
    "    \n",
    "    def rec_V_cycle(self, l, v, f):\n",
    "        '''\n",
    "        Perform recursive V-cycle\n",
    "        Input: l, current level\n",
    "        '''\n",
    "        n_sample = 1\n",
    "        self.grids[l].v = v\n",
    "        self.grids[l].f = f\n",
    "        self.grids[l].v = self.grids[l].Relax(v, f, n_sample)\n",
    "        if(not self.grids[l].IsCoarsest()):\n",
    "            residual = self.grids[l].f-self.grids[l].Knet(self.grids[l].v)\n",
    "            residual = self.grids[l].Knet.split_x(residual)\n",
    "            self.grids[l+1].f = self.w[0]*self.Restrict(residual)\n",
    "            self.grids[l+1].v *= 0.\n",
    "            self.rec_V_cycle(l+1, self.grids[l+1].v, self.grids[l+1].f)\n",
    "            eFC = self.grids[l+1].Knet.split_x(self.grids[l+1].v)\n",
    "            self.grids[l].v += self.w[1]*self.Interpolate(eFC)\n",
    "            self.grids[l+1].v *= 0.\n",
    "        \n",
    "        self.grids[l].v = self.grids[l].Relax(self.grids[l].v,self.grids[l].f,n_sample) \n",
    "\n",
    "    def Solve(self):\n",
    "        '''Return error and residual array'''\n",
    "        EPS = 5e-5\n",
    "        n_Vcycle = 0\n",
    "        self.grids[0].v = torch.zeros((1, 1, self.n+1, self.n+1), requires_grad=False, dtype=torch.float32)\n",
    "        e_Vcycle, res = 1, 1\n",
    "        e_arr_Vcycle = [e_Vcycle]\n",
    "        res_arr_Vcycle = [res]\n",
    "        err_occured = False\n",
    "        while (res > EPS):\n",
    "            u_prev = self.grids[0].v \n",
    "            self.rec_V_cycle(0,self.grids[0].v,self.grids[0].f)\n",
    "            e_Vcycle = torch.sqrt(torch.sum((self.grids[0].v - u_prev) ** 2)).item() / torch.sqrt(torch.sum((self.grids[0].v) ** 2)).item()\n",
    "            e_arr_Vcycle.append(e_Vcycle)\n",
    "            residual = self.grids[0].f-self.grids[0].Knet(self.grids[0].v)\n",
    "            res = torch.sqrt(torch.sum(residual[:, :, 1:-1, 1:-1] ** 2)).item()\n",
    "            res_arr_Vcycle.append(res)\n",
    "            print(e_Vcycle, res)\n",
    "            n_Vcycle += 1\n",
    "            if(res == torch.inf or math.isnan(res)):\n",
    "                err_occured = True\n",
    "                break\n",
    "\n",
    "        if(err_occured):\n",
    "            print(\"The iteration doesn't converge!\")\n",
    "        else:\n",
    "            print(\"Solution converges after\", n_Vcycle, \"V-cycle iterations with relative error of\", e_Vcycle)\n",
    "        return e_arr_Vcycle, res_arr_Vcycle"
   ]
  },
  {
   "cell_type": "code",
   "execution_count": 20,
   "metadata": {},
   "outputs": [
    {
     "name": "stdout",
     "output_type": "stream",
     "text": [
      "1.0 0.09703924506902695\n",
      "0.02483156891740659 0.02700534649193287\n",
      "0.008440645856477014 0.011128471232950687\n",
      "0.0025611263374668925 0.004846785683184862\n",
      "0.001134118277094218 0.002169479848816991\n",
      "0.0005085681061344524 0.0009826291352510452\n",
      "0.00023492830719294344 0.0004489283310249448\n",
      "0.00010636958051740793 0.0002055365330306813\n",
      "4.9948901424646275e-05 9.436738037038594e-05\n",
      "2.744190509262492e-05 4.4615186197916046e-05\n",
      "Solution converges after 10 V-cycle iterations with relative error of 2.744190509262492e-05\n"
     ]
    },
    {
     "data": {
      "image/png": "[encoded data removed]",
      "text/plain": [
       "<Figure size 432x288 with 1 Axes>"
      ]
     },
     "metadata": {
      "needs_background": "light"
     },
     "output_type": "display_data"
    },
    {
     "data": {
      "image/png": "[encoded data removed]",
      "text/plain": [
       "<Figure size 432x288 with 2 Axes>"
      ]
     },
     "metadata": {
      "needs_background": "light"
     },
     "output_type": "display_data"
    }
   ],
   "source": [
    "# Multigrid implementation\n",
    "n = 2**5\n",
    "prob_mg = Multigrid(model, n)\n",
    "\n",
    "e_arr_Vcycle, res_arr_Vcycle = prob_mg.Solve()\n",
    "\n",
    "plt.plot(e_arr_Vcycle, label='Error')\n",
    "plt.plot(res_arr_Vcycle, label='Residual')\n",
    "plt.yscale('log')\n",
    "plt.xlabel('# iteration')\n",
    "#plt.ylabel('Error')\n",
    "plt.legend()\n",
    "\n",
    "plot.plot_field(prob_mg.grids[0].v.detach())"
   ]
  },
  {
   "cell_type": "code",
   "execution_count": 21,
   "metadata": {},
   "outputs": [
    {
     "name": "stdout",
     "output_type": "stream",
     "text": [
      "q is:  0.556683136588597\n"
     ]
    }
   ],
   "source": [
    "def compute_q(res_arr):\n",
    "    return np.power(res_arr[9]/res_arr[6], 1.0/4)\n",
    "\n",
    "print(\"q is: \", compute_q(res_arr_Vcycle))"
   ]
  }
 ],
 "metadata": {
  "kernelspec": {
   "display_name": "Python 3.10.6 ('pytorch12')",
   "language": "python",
   "name": "python3"
  },
  "language_info": {
   "codemirror_mode": {
    "name": "ipython",
    "version": 3
   },
   "file_extension": ".py",
   "mimetype": "text/x-python",
   "name": "python",
   "nbconvert_exporter": "python",
   "pygments_lexer": "ipython3",
   "version": "3.10.6"
  },
  "orig_nbformat": 4,
  "vscode": {
   "interpreter": {
    "hash": "5da9782ea406a5140c8dbe3db2fbd9ad14122bed09b4b5553687a1204e8a9762"
   }
  }
 },
 "nbformat": 4,
 "nbformat_minor": 2
}
