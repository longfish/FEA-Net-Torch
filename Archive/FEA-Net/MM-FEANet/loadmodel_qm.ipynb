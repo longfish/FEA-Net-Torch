{
 "cells": [
  {
   "cell_type": "code",
   "execution_count": 58,
   "metadata": {},
   "outputs": [],
   "source": [
    "import torch\n",
    "import torch.nn as nn\n",
    "import torch.nn.functional as F\n",
    "\n",
    "from torch.autograd import Variable\n",
    "from torch.utils.data import DataLoader\n",
    "from torchvision.transforms import ToTensor\n",
    "\n",
    "import os\n",
    "import scipy.io as sio\n",
    "import numpy as np\n",
    "import matplotlib.pyplot as plt\n",
    "import math\n",
    "import random\n",
    "\n",
    "from FEANet.mesh import MeshHandler\n",
    "from FEANet.geo import Geometry\n",
    "from FEANet.jacobi import JacobiBlock\n",
    "from FEANet.model import KNet, FNet\n",
    "from FEANet.multigrid import MultiGrid\n",
    "\n",
    "from Utils import plot\n",
    "from Data.dataset import RHSDataSet"
   ]
  },
  {
   "cell_type": "code",
   "execution_count": 59,
   "metadata": {},
   "outputs": [],
   "source": [
    "linear_tensor_R = torch.asarray([[1, 2, 1],\n",
    "                                 [2, 4, 2],\n",
    "                                 [1, 2, 1]], dtype=torch.float32) / 16.0\n",
    "linear_tensor_P = torch.asarray([[1, 2, 1],\n",
    "                                 [2, 4, 2],\n",
    "                                 [1, 2, 1]], dtype=torch.float32) / 4.0\n",
    "linear_ratio = torch.asarray([4.,1.], dtype=torch.float32)"
   ]
  },
  {
   "cell_type": "code",
   "execution_count": 60,
   "metadata": {},
   "outputs": [],
   "source": [
    "n = 2**4\n",
    "model = MultiGrid(n, linear_tensor_R, linear_tensor_P, linear_ratio)"
   ]
  },
  {
   "cell_type": "code",
   "execution_count": 61,
   "metadata": {},
   "outputs": [
    {
     "name": "stdout",
     "output_type": "stream",
     "text": [
      "Ratio: tensor([4., 1.])\n",
      "Restriction kernel: tensor([[0.0625, 0.1250, 0.0625],\n",
      "        [0.1250, 0.2500, 0.1250],\n",
      "        [0.0625, 0.1250, 0.0625]], grad_fn=<SelectBackward0>)\n",
      "Restriction kernel shape: torch.Size([1, 16, 3, 3])\n",
      "Interpolation kernel: tensor([[0.2500, 0.5000, 0.2500],\n",
      "        [0.5000, 1.0000, 0.5000],\n",
      "        [0.2500, 0.5000, 0.2500]], grad_fn=<SelectBackward0>)\n",
      "Interpolation kernel shape: torch.Size([16, 1, 3, 3])\n"
     ]
    }
   ],
   "source": [
    "model_dir = 'Model/multigrid_rhs_qm'\n",
    "if not os.path.exists(model_dir):\n",
    "    os.makedirs(model_dir)\n",
    "    \n",
    "optimizer = torch.optim.Adam(model.parameters(), lr=1e-3)\n",
    "mlist = list(model.parameters())\n",
    "print('Ratio:', mlist[0][:])\n",
    "print('Restriction kernel:', mlist[1][0][0])\n",
    "print('Restriction kernel shape:', mlist[1].shape)\n",
    "print('Interpolation kernel:', mlist[2][0][0])\n",
    "print('Interpolation kernel shape:', mlist[2].shape)"
   ]
  },
  {
   "cell_type": "code",
   "execution_count": 62,
   "metadata": {},
   "outputs": [
    {
     "data": {
      "image/png": "[encoded data removed]",
      "text/plain": [
       "<Figure size 432x288 with 1 Axes>"
      ]
     },
     "metadata": {
      "needs_background": "light"
     },
     "output_type": "display_data"
    }
   ],
   "source": [
    "kernel_i = 12\n",
    "mesh = MeshHandler(nnode_edge = n+1, outfile=\"Results/plate_mesh.vtk\")\n",
    "plot.plot_pattern(mesh, key=kernel_i)"
   ]
  },
  {
   "cell_type": "code",
   "execution_count": 63,
   "metadata": {},
   "outputs": [
    {
     "data": {
      "text/plain": [
       "Text(0.5, 0, 'epoch')"
      ]
     },
     "execution_count": 63,
     "metadata": {},
     "output_type": "execute_result"
    },
    {
     "data": {
      "image/png": "[encoded data removed]",
      "text/plain": [
       "<Figure size 432x288 with 1 Axes>"
      ]
     },
     "metadata": {
      "needs_background": "light"
     },
     "output_type": "display_data"
    }
   ],
   "source": [
    "# load the training loss\n",
    "model_name = 'model_multigrid_interface_kernel'+str(kernel_i)\n",
    "qm_train = np.load(os.path.join(model_dir,model_name+'.npy'))\n",
    "plt.plot(qm_train)\n",
    "plt.ylabel('q')\n",
    "plt.xlabel('epoch')"
   ]
  },
  {
   "cell_type": "code",
   "execution_count": 64,
   "metadata": {},
   "outputs": [
    {
     "data": {
      "text/plain": [
       "<All keys matched successfully>"
      ]
     },
     "execution_count": 64,
     "metadata": {},
     "output_type": "execute_result"
    }
   ],
   "source": [
    "# import the learned model\n",
    "model.load_state_dict(torch.load(os.path.join(model_dir,model_name+'.pth')))"
   ]
  },
  {
   "cell_type": "code",
   "execution_count": 65,
   "metadata": {},
   "outputs": [
    {
     "name": "stdout",
     "output_type": "stream",
     "text": [
      "Learned parameters:\n",
      "Ratio: tensor([4., 1.])\n",
      "Restriction kernel: tensor([[-0.7691,  0.3702,  0.2362],\n",
      "        [ 0.3732,  0.2500,  0.3662],\n",
      "        [ 0.2361,  0.3684, -0.3561]], grad_fn=<SelectBackward0>)\n",
      "Interpolation kernel: tensor([[0.2668, 0.5094, 0.2778],\n",
      "        [0.5096, 0.9845, 0.5173],\n",
      "        [0.2777, 0.5171, 0.3441]], grad_fn=<SelectBackward0>)\n",
      "\n",
      "Previous parameters:\n",
      "Ratio: tensor([4., 1.])\n",
      "Restriction kernel: tensor([[0.0625, 0.1250, 0.0625],\n",
      "        [0.1250, 0.2500, 0.1250],\n",
      "        [0.0625, 0.1250, 0.0625]], grad_fn=<SelectBackward0>)\n",
      "Interpolation kernel: tensor([[0.2500, 0.5000, 0.2500],\n",
      "        [0.5000, 1.0000, 0.5000],\n",
      "        [0.2500, 0.5000, 0.2500]], grad_fn=<SelectBackward0>)\n"
     ]
    }
   ],
   "source": [
    "print('Learned parameters:')\n",
    "print('Ratio:', mlist[0][:])\n",
    "print('Restriction kernel:', mlist[1][0][kernel_i])\n",
    "print('Interpolation kernel:', mlist[2][kernel_i][0])\n",
    "\n",
    "print()\n",
    "\n",
    "print('Previous parameters:')\n",
    "print('Ratio:', mlist[0][:])\n",
    "print('Restriction kernel:', mlist[1][0][kernel_i-1])\n",
    "print('Interpolation kernel:', mlist[2][kernel_i-1][0])"
   ]
  }
 ],
 "metadata": {
  "kernelspec": {
   "display_name": "Python 3.8.13 ('pytorch11')",
   "language": "python",
   "name": "python3"
  },
  "language_info": {
   "codemirror_mode": {
    "name": "ipython",
    "version": 3
   },
   "file_extension": ".py",
   "mimetype": "text/x-python",
   "name": "python",
   "nbconvert_exporter": "python",
   "pygments_lexer": "ipython3",
   "version": "3.8.13"
  },
  "orig_nbformat": 4,
  "vscode": {
   "interpreter": {
    "hash": "926ad5c238a4420011e83b59655d6cd21b021d9ee1aa0438d38aa969cfe55744"
   }
  }
 },
 "nbformat": 4,
 "nbformat_minor": 2
}
