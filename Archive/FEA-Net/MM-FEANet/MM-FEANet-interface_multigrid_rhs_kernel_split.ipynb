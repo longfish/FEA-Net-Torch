{
 "cells": [
  {
   "cell_type": "markdown",
   "metadata": {},
   "source": [
    "Learn the inter-grid operator ratio for interface problems using multigrid framework,\n",
    "* Dataset is constructed by changing RHS \n",
    "* Restriction and Prolongation operations are followed by a split operation\n",
    "* Kernels for some part of fields are learned "
   ]
  },
  {
   "cell_type": "code",
   "execution_count": 1,
   "metadata": {},
   "outputs": [],
   "source": [
    "import torch\n",
    "import torch.nn as nn\n",
    "import torch.nn.functional as F\n",
    "\n",
    "from torch.autograd import Variable\n",
    "from torch.utils.data import DataLoader\n",
    "from torchvision.transforms import ToTensor\n",
    "\n",
    "import os\n",
    "import scipy.io as sio\n",
    "import numpy as np\n",
    "import matplotlib.pyplot as plt\n",
    "import math\n",
    "import random\n",
    "\n",
    "from FEANet.mesh import MeshCircInterface\n",
    "from FEANet.geo import Geometry\n",
    "from FEANet.jacobi import JacobiBlock\n",
    "from FEANet.model import KNet, FNet\n",
    "from FEANet.multigrid import MultiGrid\n",
    "\n",
    "from Utils import plot\n",
    "from Data.dataset import RHSDataSet"
   ]
  },
  {
   "cell_type": "code",
   "execution_count": 2,
   "metadata": {},
   "outputs": [],
   "source": [
    "training_set = RHSDataSet('Data/poisson2d_rhs_17x17.h5', case='train')\n",
    "test_set = RHSDataSet('Data/poisson2d_rhs_17x17.h5', case='test')\n",
    "\n",
    "train_dataloader = DataLoader(training_set, batch_size=64, shuffle=True)\n",
    "test_dataloader = DataLoader(test_set, batch_size=64, shuffle=True)"
   ]
  },
  {
   "cell_type": "code",
   "execution_count": 3,
   "metadata": {},
   "outputs": [],
   "source": [
    "linear_tensor_R = torch.asarray([[1, 2, 1],\n",
    "                                 [2, 4, 2],\n",
    "                                 [1, 2, 1]], dtype=torch.float32) / 16.0\n",
    "linear_tensor_P = torch.asarray([[1, 2, 1],\n",
    "                                 [2, 4, 2],\n",
    "                                 [1, 2, 1]], dtype=torch.float32) / 4.0\n",
    "linear_ratio = torch.asarray([4.,1.], dtype=torch.float32)"
   ]
  },
  {
   "cell_type": "code",
   "execution_count": 22,
   "metadata": {},
   "outputs": [],
   "source": [
    "n = 2**4\n",
    "model = MultiGrid(n, linear_tensor_R, linear_tensor_P, linear_ratio)\n",
    "rhs = next(iter(train_dataloader))"
   ]
  },
  {
   "cell_type": "code",
   "execution_count": 5,
   "metadata": {},
   "outputs": [
    {
     "name": "stdout",
     "output_type": "stream",
     "text": [
      "0 0.1326604038476944\n",
      "1 0.04196629300713539\n",
      "2 0.014928971417248249\n",
      "3 0.005340782459825277\n",
      "4 0.0019021622138097882\n",
      "5 0.0006756899529136717\n",
      "6 0.0002401418169029057\n",
      "7 8.536999666830525e-05\n",
      "8 3.083799674641341e-05\n",
      "Solution converges after 9 multi-grid iterations \n"
     ]
    },
    {
     "data": {
      "image/png": "[encoded data removed]",
      "text/plain": [
       "<Figure size 432x288 with 1 Axes>"
      ]
     },
     "metadata": {
      "needs_background": "light"
     },
     "output_type": "display_data"
    }
   ],
   "source": [
    "EPS = 5e-5\n",
    "n_multigrid = 0\n",
    "u = torch.zeros((1, 1, n+1, n+1), requires_grad=False, dtype=torch.float32)\n",
    "res_arr = [1]\n",
    "res = 1\n",
    "model(rhs[1].unsqueeze(0))\n",
    "err_occured = False\n",
    "while (abs(res) > EPS):\n",
    "    u = model.iterate(u, model.f)\n",
    "    residual = model.f-model.grids[0].Knet(u)\n",
    "    res_old = res\n",
    "    res = torch.sqrt(torch.sum(residual[:, :, 1:-1, 1:-1] ** 2)).item()\n",
    "    res_arr.append(res)\n",
    "    print(n_multigrid, res)\n",
    "    n_multigrid += 1\n",
    "\n",
    "    if(res == torch.inf or math.isnan(res)):\n",
    "        err_occured = True\n",
    "        break\n",
    "\n",
    "if(err_occured):\n",
    "    print(\"The iteration doesn't converge!\")\n",
    "else:\n",
    "    print(\"Solution converges after\", n_multigrid, \"multi-grid iterations \")\n",
    "plt.plot(res_arr)\n",
    "plt.yscale('log')"
   ]
  },
  {
   "cell_type": "code",
   "execution_count": 6,
   "metadata": {},
   "outputs": [
    {
     "name": "stdout",
     "output_type": "stream",
     "text": [
      "Ratio: tensor([4., 1.])\n",
      "Restriction kernel: tensor([[0.0625, 0.1250, 0.0625],\n",
      "        [0.1250, 0.2500, 0.1250],\n",
      "        [0.0625, 0.1250, 0.0625]], grad_fn=<SelectBackward0>)\n",
      "Restriction kernel shape: torch.Size([1, 16, 3, 3])\n",
      "Interpolation kernel: tensor([[0.2500, 0.5000, 0.2500],\n",
      "        [0.5000, 1.0000, 0.5000],\n",
      "        [0.2500, 0.5000, 0.2500]], grad_fn=<SelectBackward0>)\n",
      "Interpolation kernel shape: torch.Size([16, 1, 3, 3])\n"
     ]
    }
   ],
   "source": [
    "model_dir = 'Model/multigrid_rhs'\n",
    "if not os.path.exists(model_dir):\n",
    "    os.makedirs(model_dir)\n",
    "    \n",
    "optimizer = torch.optim.Adam(model.parameters(), lr=1e-3)\n",
    "mlist = list(model.parameters())\n",
    "print('Ratio:', mlist[0][:])\n",
    "print('Restriction kernel:', mlist[1][0][0])\n",
    "print('Restriction kernel shape:', mlist[1].shape)\n",
    "print('Interpolation kernel:', mlist[2][0][0])\n",
    "print('Interpolation kernel shape:', mlist[2].shape)"
   ]
  },
  {
   "cell_type": "code",
   "execution_count": 7,
   "metadata": {},
   "outputs": [],
   "source": [
    "def freeze_kernels(para_list, list):\n",
    "    '''Freeze the kernels in list, second and third term are R and P'''\n",
    "    for i in list:\n",
    "        para_list[1].grad[:,i] = torch.zeros_like(para_list[1].grad[:,i])\n",
    "        para_list[2].grad[i,:] = torch.zeros_like(para_list[2].grad[i,:])\n",
    "        \n",
    "\n",
    "def rewrite_kernels(para_list, list, kernels):\n",
    "    '''Overwrite the kernels in list to be 'kernels', second and third term are R and P '''\n",
    "    for i in list:\n",
    "        para_list[1].grad[:,i] = kernels[0]\n",
    "        para_list[2].grad[i,:] = kernels[1]"
   ]
  },
  {
   "cell_type": "code",
   "execution_count": 35,
   "metadata": {},
   "outputs": [
    {
     "data": {
      "image/png": "[encoded data removed]",
      "text/plain": [
       "<Figure size 432x288 with 1 Axes>"
      ]
     },
     "metadata": {
      "needs_background": "light"
     },
     "output_type": "display_data"
    }
   ],
   "source": [
    "kernel_i = 15\n",
    "mesh = MeshCircInterface(nnode_edge = n+1, outfile=\"Results/plate_mesh.vtk\")\n",
    "plot.plot_pattern(mesh, key=kernel_i)"
   ]
  },
  {
   "cell_type": "code",
   "execution_count": 9,
   "metadata": {},
   "outputs": [],
   "source": [
    "freeze_list = [0,1,2,3,4,5,6,7,8,9,10,11,12,13,14,15] # freeze a kernel\n",
    "freeze_list.remove(kernel_i)\n",
    "\n",
    "def train_one_epoch():\n",
    "    running_loss = 0.\n",
    "    for i, data in enumerate(train_dataloader):\n",
    "        optimizer.zero_grad() # zero the gradients for every batch\n",
    "        u_out = model(data)\n",
    "        loss_q = model.qm(u_out)\n",
    "        \n",
    "        loss_q.backward()\n",
    "        para_list = list(model.parameters())\n",
    "        # freeze parts of the grad to be zeros, e.g., param.grad[:,1:] = torch.zeros_like(param.grad[:,1:])\n",
    "        freeze_kernels(para_list, freeze_list)\n",
    "        optimizer.step()\n",
    "        # overwrite the new param to be the original weight\n",
    "        rewrite_kernels(para_list, freeze_list, [linear_tensor_R, linear_tensor_P])\n",
    "        running_loss += loss_q.item()\n",
    "    \n",
    "    last_loss = running_loss/(i+1)\n",
    "    return last_loss"
   ]
  },
  {
   "cell_type": "code",
   "execution_count": 10,
   "metadata": {},
   "outputs": [
    {
     "name": "stdout",
     "output_type": "stream",
     "text": [
      "0 0.4124090801924467\n",
      "1 0.4091663081198931\n",
      "2 0.41115173883736134\n",
      "3 0.41129491850733757\n",
      "4 0.4082997813820839\n",
      "5 0.4084157273173332\n",
      "6 0.4128912277519703\n",
      "7 0.41430182568728924\n",
      "8 0.4166264273226261\n",
      "9 0.4181202668696642\n",
      "10 0.4213654976338148\n",
      "11 0.4213080443441868\n",
      "12 0.42022303119301796\n",
      "13 0.4198250863701105\n",
      "14 0.419424818828702\n",
      "15 0.41859192587435246\n",
      "16 0.4218413569033146\n",
      "17 0.4221613109111786\n",
      "18 0.42282105050981045\n",
      "19 0.42202272824943066\n",
      "20 0.42383774369955063\n",
      "21 0.4220106601715088\n",
      "22 0.4245730973780155\n",
      "23 0.42392262257635593\n",
      "24 0.42265479266643524\n",
      "25 0.426440404728055\n",
      "26 0.4222059827297926\n",
      "27 0.42440039850771427\n",
      "28 0.4265905823558569\n",
      "29 0.4239603728055954\n",
      "30 0.4251532256603241\n",
      "31 0.4255652166903019\n",
      "32 0.4265528693795204\n",
      "33 0.42599559016525745\n",
      "34 0.42823530174791813\n",
      "35 0.427732415497303\n",
      "36 0.4294474758207798\n",
      "37 0.42873576655983925\n",
      "38 0.4272795394062996\n",
      "39 0.43027617409825325\n",
      "40 0.42990936525166035\n",
      "41 0.4293745420873165\n",
      "42 0.42956483736634254\n",
      "43 0.42951101064682007\n",
      "44 0.4285819064825773\n",
      "45 0.43031855672597885\n",
      "46 0.4296854566782713\n",
      "47 0.429760230705142\n",
      "48 0.43072169087827206\n",
      "49 0.4310048259794712\n",
      "50 0.4308095667511225\n",
      "51 0.42879005521535873\n",
      "52 0.42981419153511524\n",
      "53 0.43091945722699165\n",
      "54 0.42892009764909744\n",
      "55 0.430779792368412\n",
      "56 0.43019023537635803\n",
      "57 0.4308278542011976\n",
      "58 0.4304812289774418\n",
      "59 0.4305283650755882\n",
      "60 0.43000176548957825\n",
      "61 0.43012830801308155\n",
      "62 0.42971607856452465\n",
      "63 0.4283066261559725\n",
      "64 0.4307896587997675\n",
      "65 0.4296376369893551\n",
      "66 0.4295643363147974\n",
      "67 0.43001803755760193\n",
      "68 0.4289224073290825\n",
      "69 0.4289368912577629\n",
      "70 0.43214485235512257\n",
      "71 0.4281233176589012\n",
      "72 0.42922295071184635\n",
      "73 0.4275085646659136\n",
      "74 0.4322292748838663\n",
      "75 0.4320323131978512\n",
      "76 0.4300277940928936\n",
      "77 0.43106076307594776\n",
      "78 0.4292278550565243\n",
      "79 0.4308592937886715\n",
      "80 0.4308380223810673\n",
      "81 0.43022583797574043\n",
      "82 0.42964737862348557\n",
      "83 0.43279153294861317\n",
      "84 0.4296568389981985\n",
      "85 0.42839222215116024\n",
      "86 0.43015643395483494\n",
      "87 0.431421909481287\n",
      "88 0.4296898730099201\n",
      "89 0.43088629469275475\n",
      "90 0.42967740073800087\n",
      "91 0.43036844953894615\n",
      "92 0.4300748500972986\n",
      "93 0.431230328977108\n",
      "94 0.42927307076752186\n",
      "95 0.42975839599967003\n",
      "96 0.4310105424374342\n",
      "97 0.4326607510447502\n",
      "98 0.4288403522223234\n",
      "99 0.43260932713747025\n",
      "100 0.4314268659800291\n",
      "101 0.42957501858472824\n",
      "102 0.4275989215821028\n",
      "103 0.4302263390272856\n",
      "104 0.42871667072176933\n",
      "105 0.4322530124336481\n",
      "106 0.4309592004865408\n",
      "107 0.43002729304134846\n",
      "108 0.4317923318594694\n",
      "109 0.43116637505590916\n",
      "110 0.4303707927465439\n",
      "111 0.4298590514808893\n",
      "112 0.431162815541029\n",
      "113 0.4321792759001255\n",
      "114 0.4322510454803705\n",
      "115 0.4309719167649746\n",
      "116 0.4319089464843273\n",
      "117 0.4310658909380436\n",
      "118 0.43093656189739704\n",
      "119 0.4288670662790537\n",
      "120 0.4310494586825371\n",
      "121 0.43039991334080696\n",
      "122 0.4301339201629162\n",
      "123 0.432322496548295\n",
      "124 0.43020868115127087\n",
      "125 0.4301790874451399\n",
      "126 0.42937369272112846\n",
      "127 0.43011669628322124\n",
      "128 0.43080180138349533\n",
      "129 0.43057702109217644\n",
      "130 0.4304766245186329\n",
      "131 0.4287154544144869\n",
      "132 0.43067990988492966\n",
      "133 0.42774342373013496\n",
      "134 0.4285161327570677\n",
      "135 0.4269394092261791\n",
      "136 0.4298133905977011\n",
      "137 0.4303128030151129\n",
      "138 0.429641954600811\n",
      "139 0.4300269316881895\n",
      "140 0.4302911013364792\n",
      "141 0.42987170442938805\n",
      "142 0.43034379929304123\n",
      "143 0.4324430897831917\n",
      "144 0.4308125004172325\n",
      "145 0.42969221994280815\n",
      "146 0.4296852480620146\n",
      "147 0.42780981585383415\n",
      "148 0.4307610969990492\n",
      "149 0.43137840181589127\n",
      "150 0.42876582965254784\n",
      "151 0.4304747208952904\n",
      "152 0.4282815046608448\n",
      "153 0.4320135321468115\n",
      "154 0.4302850104868412\n",
      "155 0.4308940898627043\n",
      "156 0.42990357242524624\n",
      "157 0.4313875399529934\n",
      "158 0.42939657904207706\n",
      "159 0.42967070639133453\n",
      "160 0.43349974788725376\n",
      "161 0.4294310696423054\n",
      "162 0.42952145263552666\n",
      "163 0.42987710796296597\n",
      "164 0.429482689127326\n",
      "165 0.4285410437732935\n",
      "166 0.43187757954001427\n",
      "167 0.4310870375484228\n",
      "168 0.43121943436563015\n",
      "169 0.42996708303689957\n",
      "170 0.43084931932389736\n",
      "171 0.42760891281068325\n",
      "172 0.4285048618912697\n",
      "173 0.4302876237779856\n",
      "174 0.42768117412924767\n",
      "175 0.43125514686107635\n",
      "176 0.4310733266174793\n",
      "177 0.43113476410508156\n",
      "178 0.4293035939335823\n",
      "179 0.4300370868295431\n",
      "180 0.43227290362119675\n",
      "181 0.4312937241047621\n",
      "182 0.4308598693460226\n",
      "183 0.4313179459422827\n",
      "184 0.43236003816127777\n",
      "185 0.4306152295321226\n",
      "186 0.43118372187018394\n",
      "187 0.43251859210431576\n",
      "188 0.42979127541184425\n",
      "189 0.42955376766622066\n",
      "190 0.4330517929047346\n",
      "191 0.42842226289212704\n",
      "192 0.4299215227365494\n",
      "193 0.42878223955631256\n",
      "194 0.428939338773489\n",
      "195 0.42852586694061756\n",
      "196 0.43063451535999775\n",
      "197 0.4309859462082386\n",
      "198 0.4293936751782894\n",
      "199 0.4311035741120577\n",
      "200 0.4290483947843313\n",
      "201 0.43089351430535316\n",
      "202 0.4308654833585024\n",
      "203 0.42937005683779716\n",
      "204 0.42873599752783775\n",
      "205 0.4292576480656862\n",
      "206 0.4300308879464865\n",
      "207 0.43137367255985737\n",
      "208 0.4303198419511318\n",
      "209 0.42944062128663063\n",
      "210 0.4269684627652168\n",
      "211 0.42909517884254456\n",
      "212 0.43031854555010796\n",
      "213 0.4309435784816742\n",
      "214 0.4298597704619169\n",
      "215 0.42813990637660027\n",
      "216 0.4294511992484331\n",
      "217 0.4314744807779789\n",
      "218 0.42930011078715324\n",
      "219 0.4289928264915943\n",
      "220 0.4292071033269167\n",
      "221 0.4315409678965807\n",
      "222 0.43027129769325256\n",
      "223 0.4301456119865179\n",
      "224 0.43089886754751205\n",
      "225 0.43050237745046616\n",
      "226 0.42915432155132294\n",
      "227 0.43046147748827934\n",
      "228 0.4290802702307701\n",
      "229 0.42982591688632965\n",
      "230 0.42924810014665127\n",
      "231 0.4303558375686407\n",
      "232 0.42981562577188015\n",
      "233 0.43169776909053326\n",
      "234 0.43183213472366333\n",
      "235 0.4320344515144825\n",
      "236 0.43183522671461105\n",
      "237 0.4296272248029709\n",
      "238 0.42998168617486954\n",
      "239 0.43075036257505417\n",
      "240 0.4312002342194319\n",
      "241 0.42916448786854744\n",
      "242 0.4289530199021101\n",
      "243 0.4312114231288433\n",
      "244 0.43060077354311943\n",
      "245 0.4295872878283262\n",
      "246 0.42752149887382984\n",
      "247 0.4292116202414036\n",
      "248 0.4284117314964533\n",
      "249 0.4292705077677965\n",
      "250 0.4312827084213495\n",
      "251 0.4311591349542141\n",
      "252 0.4290849193930626\n",
      "253 0.4287167564034462\n",
      "254 0.42797236889600754\n",
      "255 0.4302805755287409\n",
      "256 0.42744203843176365\n",
      "257 0.430724723264575\n",
      "258 0.429844755679369\n",
      "259 0.4301664400845766\n",
      "260 0.43042902648448944\n",
      "261 0.4299598652869463\n",
      "262 0.4307372085750103\n",
      "263 0.4304002206772566\n",
      "264 0.42949202843010426\n",
      "265 0.43138655088841915\n",
      "266 0.42897756583988667\n",
      "267 0.43090767972171307\n",
      "268 0.42876853980123997\n",
      "269 0.43203695490956306\n",
      "270 0.42941707745194435\n",
      "271 0.4282821547240019\n",
      "272 0.4308724105358124\n",
      "273 0.4319703206419945\n",
      "274 0.43049308471381664\n",
      "275 0.430252306163311\n",
      "276 0.4312898311764002\n",
      "277 0.431633822619915\n",
      "278 0.43003501929342747\n",
      "279 0.4296173248440027\n",
      "280 0.427937351167202\n",
      "281 0.43147541396319866\n",
      "282 0.4301911760121584\n",
      "283 0.4301532004028559\n",
      "284 0.4299390520900488\n",
      "285 0.43125432170927525\n",
      "286 0.4317198619246483\n",
      "287 0.43021073192358017\n",
      "288 0.43153376318514347\n",
      "289 0.43013891391456127\n",
      "290 0.43221197836101055\n",
      "291 0.43255414441227913\n",
      "292 0.4331205580383539\n",
      "293 0.43163264729082584\n",
      "294 0.4304300956428051\n",
      "295 0.43170095048844814\n",
      "296 0.4295261614024639\n",
      "297 0.4304112419486046\n",
      "298 0.4279038906097412\n",
      "299 0.4290523696690798\n"
     ]
    }
   ],
   "source": [
    "num_epoch = 300\n",
    "best_vloss = 1_000_000.\n",
    "model_name = 'model_multigrid_interface_kernel'+str(kernel_i)\n",
    "\n",
    "qm_train = []\n",
    "for epoch in range(num_epoch):\n",
    "    model.train(True)\n",
    "    avg_q = train_one_epoch()\n",
    "    print(epoch, avg_q)\n",
    "    \n",
    "    # Track best performance, and save the model's state\n",
    "    mpath = os.path.join(model_dir,model_name+'.pth')\n",
    "    torch.save(model.state_dict(), mpath)\n",
    "    qm_train.append(avg_q)"
   ]
  },
  {
   "cell_type": "code",
   "execution_count": 11,
   "metadata": {},
   "outputs": [
    {
     "data": {
      "text/plain": [
       "Text(0.5, 0, 'epoch')"
      ]
     },
     "execution_count": 11,
     "metadata": {},
     "output_type": "execute_result"
    },
    {
     "data": {
      "image/png": "[encoded data removed]",
      "text/plain": [
       "<Figure size 432x288 with 1 Axes>"
      ]
     },
     "metadata": {
      "needs_background": "light"
     },
     "output_type": "display_data"
    }
   ],
   "source": [
    "plt.plot(qm_train)\n",
    "plt.ylabel('q')\n",
    "plt.xlabel('epoch')"
   ]
  },
  {
   "cell_type": "code",
   "execution_count": 12,
   "metadata": {},
   "outputs": [],
   "source": [
    "# save the list\n",
    "np.save(os.path.join(model_dir,model_name+'.npy'),qm_train)"
   ]
  },
  {
   "cell_type": "code",
   "execution_count": 13,
   "metadata": {},
   "outputs": [
    {
     "name": "stdout",
     "output_type": "stream",
     "text": [
      "Learned parameters:\n",
      "Ratio: tensor([4., 1.])\n",
      "Restriction kernel: tensor([[-0.0640,  0.4036,  0.0600],\n",
      "        [ 0.4058, -0.0180, -0.4031],\n",
      "        [ 0.0560, -0.4006,  0.4563]], grad_fn=<SelectBackward0>)\n",
      "Interpolation kernel: tensor([[0.1251, 0.3368, 0.2730],\n",
      "        [0.3370, 0.9780, 0.5284],\n",
      "        [0.2737, 0.5284, 0.2871]], grad_fn=<SelectBackward0>)\n",
      "\n",
      "Previous parameters:\n",
      "Ratio: tensor([4., 1.])\n",
      "Restriction kernel: tensor([[0.0625, 0.1250, 0.0625],\n",
      "        [0.1250, 0.2500, 0.1250],\n",
      "        [0.0625, 0.1250, 0.0625]], grad_fn=<SelectBackward0>)\n",
      "Interpolation kernel: tensor([[0.2500, 0.5000, 0.2500],\n",
      "        [0.5000, 1.0000, 0.5000],\n",
      "        [0.2500, 0.5000, 0.2500]], grad_fn=<SelectBackward0>)\n"
     ]
    }
   ],
   "source": [
    "print('Learned parameters:')\n",
    "print('Ratio:', mlist[0][:])\n",
    "print('Restriction kernel:', mlist[1][0][kernel_i])\n",
    "print('Interpolation kernel:', mlist[2][kernel_i][0])\n",
    "\n",
    "print()\n",
    "\n",
    "print('Previous parameters:')\n",
    "print('Ratio:', mlist[0][:])\n",
    "print('Restriction kernel:', mlist[1][0][kernel_i-1])\n",
    "print('Interpolation kernel:', mlist[2][kernel_i-1][0])\n"
   ]
  },
  {
   "cell_type": "code",
   "execution_count": 14,
   "metadata": {},
   "outputs": [
    {
     "data": {
      "text/plain": [
       "<All keys matched successfully>"
      ]
     },
     "execution_count": 14,
     "metadata": {},
     "output_type": "execute_result"
    }
   ],
   "source": [
    "# import the learned model\n",
    "model.load_state_dict(torch.load(os.path.join(model_dir,model_name+'.pth')))"
   ]
  },
  {
   "cell_type": "code",
   "execution_count": 15,
   "metadata": {},
   "outputs": [
    {
     "name": "stdout",
     "output_type": "stream",
     "text": [
      "0 0.015273932367563248\n",
      "1 0.003673573723062873\n",
      "2 0.000956073694396764\n",
      "3 0.0002963732404168695\n",
      "4 0.00010006792581407353\n",
      "5 3.877382187056355e-05\n",
      "Solution converges after 6 multi-grid iterations \n"
     ]
    }
   ],
   "source": [
    "EPS = 5e-5\n",
    "n_multigrid = 0\n",
    "n = 2**4\n",
    "u = torch.zeros((1, 1, n+1, n+1), requires_grad=False, dtype=torch.float32)\n",
    "res_arr = [1]\n",
    "res = 1\n",
    "model(rhs[0].unsqueeze(0))\n",
    "while (abs(res) > EPS):\n",
    "    u = model.iterate(u, model.f)\n",
    "    residual = model.f-model.grids[0].Knet(u)\n",
    "    res_old = res\n",
    "    res = torch.sqrt(torch.sum(residual[:, :, 1:-1, 1:-1] ** 2)).item()\n",
    "    res_arr.append(res)\n",
    "    print(n_multigrid, res)\n",
    "    n_multigrid += 1\n",
    "\n",
    "print(\"Solution converges after\", n_multigrid, \"multi-grid iterations \")"
   ]
  },
  {
   "cell_type": "code",
   "execution_count": 16,
   "metadata": {},
   "outputs": [
    {
     "data": {
      "image/png": "[encoded data removed]",
      "text/plain": [
       "<Figure size 432x288 with 1 Axes>"
      ]
     },
     "metadata": {
      "needs_background": "light"
     },
     "output_type": "display_data"
    },
    {
     "data": {
      "image/png": "[encoded data removed]",
      "text/plain": [
       "<Figure size 432x288 with 2 Axes>"
      ]
     },
     "metadata": {
      "needs_background": "light"
     },
     "output_type": "display_data"
    }
   ],
   "source": [
    "plt.plot(res_arr)\n",
    "plt.yscale('log')\n",
    "plot.plot_field(u.detach())"
   ]
  },
  {
   "cell_type": "code",
   "execution_count": 17,
   "metadata": {},
   "outputs": [],
   "source": [
    "# Test the multigrid iteration\n",
    "class mgTest(MultiGrid):\n",
    "    '''Define the multigrid problem for 2D, n is the finest grid size'''\n",
    "    def __init__(self, inter_model, n = 64):\n",
    "        super(mgTest, self).__init__(n, linear_tensor_R, linear_tensor_P, linear_ratio)\n",
    "\n",
    "        self.size = 2\n",
    "        self.n = n # total number of grids for finest grid\n",
    "        self.L = int(np.log2(n)) # number of levels for V-cycle multigrid\n",
    "        self.x = np.linspace(-1,1,n+1, dtype=np.float32) # grid number is n+1\n",
    "        self.y = np.linspace(-1,1,n+1, dtype=np.float32)\n",
    "        self.xx, self.yy = np.meshgrid(self.x, self.y, indexing='xy')\n",
    "        self.solution = []\n",
    "\n",
    "        self.w = inter_model.w\n",
    "        self.conv = inter_model.conv\n",
    "        self.deconv = inter_model.deconv\n",
    "        self.conv.requires_grad_(False)\n",
    "        self.deconv.requires_grad_(False)\n",
    "        self.w.requires_grad_(False)\n",
    "        \n",
    "        self.n_arr = self.SizeArray() # array to store grid size for each level\n",
    "        self.grids = self.GridDict() # dictionary of structure grids\n",
    "        \n",
    "        ff = np.ones_like(self.xx)\n",
    "        self.grids[0].f = self.grids[0].fnet(torch.from_numpy(ff.reshape(1,1,n+1,n+1))) # assign the finest right hand side with the original rhs\n",
    "    \n",
    "    def solve(self):\n",
    "        '''Return error and residual array'''\n",
    "        EPS = 5e-5\n",
    "        n_Vcycle = 0\n",
    "        self.grids[0].v = torch.zeros((1, 1, self.n+1, self.n+1), requires_grad=False, dtype=torch.float32)\n",
    "        e_Vcycle, res = 1, 1\n",
    "        e_arr_Vcycle = [e_Vcycle]\n",
    "        res_arr_Vcycle = [res]\n",
    "        err_occured = False\n",
    "        while (res > EPS):\n",
    "            u_prev = self.grids[0].v \n",
    "            self.grids[0].v = self.iterate(self.grids[0].v,self.grids[0].f)\n",
    "            e_Vcycle = torch.sqrt(torch.sum((self.grids[0].v - u_prev) ** 2)).item() / torch.sqrt(torch.sum((self.grids[0].v) ** 2)).item()\n",
    "            e_arr_Vcycle.append(e_Vcycle)\n",
    "            residual = self.grids[0].f-self.grids[0].Knet(self.grids[0].v)\n",
    "            res = torch.sqrt(torch.sum(residual[:, :, 1:-1, 1:-1] ** 2)).item()\n",
    "            res_arr_Vcycle.append(res)\n",
    "            print(e_Vcycle, res)\n",
    "            n_Vcycle += 1\n",
    "            if(res == torch.inf or math.isnan(res)):\n",
    "                err_occured = True\n",
    "                break\n",
    "\n",
    "        if(err_occured):\n",
    "            print(\"The iteration doesn't converge!\")\n",
    "        else:\n",
    "            print(\"Solution converges after\", n_Vcycle, \"V-cycle iterations with relative error of\", e_Vcycle)\n",
    "        return e_arr_Vcycle, res_arr_Vcycle"
   ]
  },
  {
   "cell_type": "code",
   "execution_count": 18,
   "metadata": {},
   "outputs": [
    {
     "name": "stdout",
     "output_type": "stream",
     "text": [
      "1.0 0.2196723222732544\n",
      "0.13568742016615365 0.10745691508054733\n",
      "0.010800155746203239 0.04197189211845398\n",
      "0.01084669423916994 0.01574108749628067\n",
      "0.006434960817433404 0.006281557958573103\n",
      "0.0026707032837097883 0.0027424637228250504\n",
      "0.0009375146515031678 0.0012710219016298652\n",
      "0.0002876110667384199 0.0006152925197966397\n",
      "0.00010461017968001269 0.00030641574994660914\n",
      "4.321059751473084e-05 0.00015683141828048974\n",
      "2.193815018749287e-05 7.935235043987632e-05\n",
      "1.2603100262115692e-05 4.2276053136447445e-05\n",
      "Solution converges after 12 V-cycle iterations with relative error of 1.2603100262115692e-05\n"
     ]
    },
    {
     "data": {
      "image/png": "[encoded data removed]",
      "text/plain": [
       "<Figure size 432x288 with 1 Axes>"
      ]
     },
     "metadata": {
      "needs_background": "light"
     },
     "output_type": "display_data"
    },
    {
     "data": {
      "image/png": "[encoded data removed]",
      "text/plain": [
       "<Figure size 432x288 with 2 Axes>"
      ]
     },
     "metadata": {
      "needs_background": "light"
     },
     "output_type": "display_data"
    }
   ],
   "source": [
    "# Multigrid implementation\n",
    "n = 2**6\n",
    "prob_mg = mgTest(model, n)\n",
    "\n",
    "e_arr_Vcycle, res_arr_Vcycle = prob_mg.solve()\n",
    "\n",
    "plt.plot(e_arr_Vcycle, label='Error')\n",
    "plt.plot(res_arr_Vcycle, label='Residual')\n",
    "plt.yscale('log')\n",
    "plt.xlabel('# iteration')\n",
    "#plt.ylabel('Error')\n",
    "plt.legend()\n",
    "\n",
    "plot.plot_field(prob_mg.grids[0].v.detach())"
   ]
  },
  {
   "cell_type": "code",
   "execution_count": 19,
   "metadata": {},
   "outputs": [
    {
     "name": "stdout",
     "output_type": "stream",
     "text": [
      "q is:  0.5781526868294178\n"
     ]
    }
   ],
   "source": [
    "def compute_q(res_arr):\n",
    "    return np.power(res_arr[9]/res_arr[6], 1.0/4)\n",
    "\n",
    "print(\"q is: \", compute_q(res_arr_Vcycle))"
   ]
  }
 ],
 "metadata": {
  "kernelspec": {
   "display_name": "Python 3.8.13 ('pytorch11')",
   "language": "python",
   "name": "python3"
  },
  "language_info": {
   "codemirror_mode": {
    "name": "ipython",
    "version": 3
   },
   "file_extension": ".py",
   "mimetype": "text/x-python",
   "name": "python",
   "nbconvert_exporter": "python",
   "pygments_lexer": "ipython3",
   "version": "3.8.13"
  },
  "orig_nbformat": 4,
  "vscode": {
   "interpreter": {
    "hash": "926ad5c238a4420011e83b59655d6cd21b021d9ee1aa0438d38aa969cfe55744"
   }
  }
 },
 "nbformat": 4,
 "nbformat_minor": 2
}
