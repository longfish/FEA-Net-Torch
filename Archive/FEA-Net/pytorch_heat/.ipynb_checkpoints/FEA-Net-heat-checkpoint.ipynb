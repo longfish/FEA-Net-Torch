{
 "cells": [
  {
   "cell_type": "markdown",
   "metadata": {},
   "source": [
    "This is the PyTorch version of FEA-Net trying to implement the forward prediction step by directly using the FEA filter.\n",
    "\n",
    "Some of the codes comes from:  \n",
    "[1] https://github.com/ymlasu/FEA-Net   \n",
    "[2] https://zenodo.org/record/2660730   "
   ]
  },
  {
   "cell_type": "code",
   "execution_count": 1,
   "metadata": {
    "vscode": {
     "languageId": "python"
    }
   },
   "outputs": [],
   "source": [
    "import numpy as np"
   ]
  },
  {
   "cell_type": "code",
   "execution_count": 2,
   "metadata": {
    "vscode": {
     "languageId": "python"
    }
   },
   "outputs": [
    {
     "ename": "ModuleNotFoundError",
     "evalue": "No module named 'torch'",
     "output_type": "error",
     "traceback": [
      "\u001b[0;31m---------------------------------------------------------------------------\u001b[0m",
      "\u001b[0;31mModuleNotFoundError\u001b[0m                       Traceback (most recent call last)",
      "Input \u001b[0;32mIn [2]\u001b[0m, in \u001b[0;36m<cell line: 2>\u001b[0;34m()\u001b[0m\n\u001b[1;32m      1\u001b[0m \u001b[38;5;28;01mimport\u001b[39;00m \u001b[38;5;21;01mnumpy\u001b[39;00m \u001b[38;5;28;01mas\u001b[39;00m \u001b[38;5;21;01mnp\u001b[39;00m\n\u001b[0;32m----> 2\u001b[0m \u001b[38;5;28;01mimport\u001b[39;00m \u001b[38;5;21;01mtorch\u001b[39;00m\n\u001b[1;32m      3\u001b[0m \u001b[38;5;28;01mimport\u001b[39;00m \u001b[38;5;21;01mtorch\u001b[39;00m\u001b[38;5;21;01m.\u001b[39;00m\u001b[38;5;21;01mnn\u001b[39;00m \u001b[38;5;28;01mas\u001b[39;00m \u001b[38;5;21;01mnn\u001b[39;00m\n\u001b[1;32m      4\u001b[0m \u001b[38;5;28;01mimport\u001b[39;00m \u001b[38;5;21;01mtorch\u001b[39;00m\u001b[38;5;21;01m.\u001b[39;00m\u001b[38;5;21;01mnn\u001b[39;00m\u001b[38;5;21;01m.\u001b[39;00m\u001b[38;5;21;01mfunctional\u001b[39;00m \u001b[38;5;28;01mas\u001b[39;00m \u001b[38;5;21;01mF\u001b[39;00m\n",
      "\u001b[0;31mModuleNotFoundError\u001b[0m: No module named 'torch'"
     ]
    }
   ],
   "source": [
    "import numpy as np\n",
    "import torch\n",
    "import torch.nn as nn\n",
    "import torch.nn.functional as F\n",
    "from functools import reduce"
   ]
  },
  {
   "cell_type": "code",
   "execution_count": null,
   "metadata": {
    "vscode": {
     "languageId": "python"
    }
   },
   "outputs": [
    {
     "ename": "",
     "evalue": "",
     "output_type": "error",
     "traceback": [
      "\u001b[1;31m内核已被中止。查看 Jupyter <a href='command:jupyter.viewOutput'>日志</a>了解更多细节。\n",
      "错误：/usr/bin/python: No module named ipykernel_launcher..."
     ]
    }
   ],
   "source": [
    "D = 1 # diffusity\n",
    "nstep = 60 # number of time steps\n",
    "dt = 1#./nstep "
   ]
  },
  {
   "cell_type": "code",
   "execution_count": null,
   "metadata": {
    "vscode": {
     "languageId": "python"
    }
   },
   "outputs": [
    {
     "ename": "",
     "evalue": "",
     "output_type": "error",
     "traceback": [
      "\u001b[1;31m内核已被中止。查看 Jupyter <a href='command:jupyter.viewOutput'>日志</a>了解更多细节。\n",
      "错误：/usr/bin/python: No module named ipykernel_launcher..."
     ]
    }
   ],
   "source": [
    "def apply_n_times(f, n):\n",
    "    \"\"\"Returns a new function which is f folded n times: f(f(f(f(...f(f(n))...))))\n",
    "\n",
    "    Usage\n",
    "    -----\n",
    "\n",
    "    apply_n_times(lambda x: x**2, 3)(2) == 256\n",
    "    \"\"\"\n",
    "\n",
    "    def f_folded_n_times(x):\n",
    "        return reduce(lambda fx, _: f(fx), range(n), x)\n",
    "    return f_folded_n_times"
   ]
  },
  {
   "cell_type": "code",
   "execution_count": null,
   "metadata": {
    "vscode": {
     "languageId": "python"
    }
   },
   "outputs": [
    {
     "ename": "",
     "evalue": "",
     "output_type": "error",
     "traceback": [
      "\u001b[1;31m内核已被中止。查看 Jupyter <a href='command:jupyter.viewOutput'>日志</a>了解更多细节。\n",
      "错误：/usr/bin/python: No module named ipykernel_launcher..."
     ]
    }
   ],
   "source": [
    "def normal_distributed_tensor(size, dtype=torch.float32, requires_grad=False):\n",
    "    return torch.tensor(np.random.normal(size=(size, size)).reshape((1, 1, size, size)),\n",
    "                        dtype=dtype,\n",
    "                        requires_grad=requires_grad)"
   ]
  },
  {
   "cell_type": "code",
   "execution_count": null,
   "metadata": {
    "vscode": {
     "languageId": "python"
    }
   },
   "outputs": [
    {
     "ename": "",
     "evalue": "",
     "output_type": "error",
     "traceback": [
      "\u001b[1;31m内核已被中止。查看 Jupyter <a href='command:jupyter.viewOutput'>日志</a>了解更多细节。\n",
      "错误：/usr/bin/python: No module named ipykernel_launcher..."
     ]
    }
   ],
   "source": [
    "def _reset_boundary_(u, boundary_index, boundary_values):\n",
    "    \"\"\" Reset values at the boundary of the domain\n",
    "\n",
    "\n",
    "    Parameters\n",
    "    ----------\n",
    "    u : tensor-like, shape = [*, *, n, n]\n",
    "        variable to reset.\n",
    "\n",
    "    boundary_index : tensor-like, shape = [*, *, n, n]\n",
    "        matrix describing the domain: 1.0 for inner points 0.0 elsewhere.\n",
    "\n",
    "    boundary_values : tensor-like, shape = [*, *, n, n]\n",
    "        matrix describing the domain: desired values for boundary points 0.0 elsewhere.\n",
    "\n",
    "    Returns\n",
    "    -------\n",
    "    u : tensor-like, shape = [*, *, n, n]\n",
    "        resetted values.\n",
    "\n",
    "\n",
    "    \"\"\"\n",
    "\n",
    "    return u * boundary_index + boundary_values"
   ]
  },
  {
   "cell_type": "code",
   "execution_count": null,
   "metadata": {
    "vscode": {
     "languageId": "python"
    }
   },
   "outputs": [
    {
     "ename": "",
     "evalue": "",
     "output_type": "error",
     "traceback": [
      "\u001b[1;31m内核已被中止。查看 Jupyter <a href='command:jupyter.viewOutput'>日志</a>了解更多细节。\n",
      "错误：/usr/bin/python: No module named ipykernel_launcher..."
     ]
    }
   ],
   "source": [
    "def _jacobi_iteration_step_(u, boundary_index, boundary_values, forcing_term):\n",
    "    \"\"\" Jacobi method iteration step, defined as a convolution.\n",
    "    Resets the boundary.\n",
    "\n",
    "\n",
    "    Parameters\n",
    "    ----------\n",
    "    u : tensor-like, shape = [*, *, n, n]\n",
    "        variable to reset.\n",
    "\n",
    "    boundary_index : tensor-like, shape = [*, *, n, n]\n",
    "        matrix describing the domain: 1.0 for inner points 0.0 elsewhere.\n",
    "\n",
    "    boundary_values : tensor-like, shape = [*, *, n, n]\n",
    "        matrix describing the domain: desired values for boundary points 0.0 elsewhere.\n",
    "\n",
    "    forcing_term : tensor-like, shape = [*, *, n, n]\n",
    "        matrix describing the forcing term (rhs, e.g., source term).\n",
    "\n",
    "\n",
    "    Returns\n",
    "    -------\n",
    "    u : tensor-like, shape = [*, *, n, n]\n",
    "        resetted values.\n",
    "    \"\"\"\n",
    "\n",
    "    ''' Construct the stiffness neural network layer '''\n",
    "    Knet = nn.Conv2d(1, 1, 3, padding = 1, bias = False)    \n",
    "    K_weights_np = np.array([[1./9.-D*dt/3., 4./9.-D*dt/3., 1./9.-D*dt/3.],\n",
    "                            [4./9.-D*dt/3., 16./9.+8*D*dt/3., 4./9.-D*dt/3.],\n",
    "                            [1./9.-D*dt/3., 4./9.-D*dt/3., 1./9.-D*dt/3.]], dtype=np.float32).reshape(1,1,3,3)\n",
    "    #K_weights_np = np.array([[-D/3., -D/3., -D/3.],\n",
    "    #                        [-D/3., 8*D/3., -D/3.],\n",
    "    #                        [-D/3., -D/3., -D/3.]], dtype=np.float32).reshape(1,1,3,3)\n",
    "\n",
    "    K_weights = torch.from_numpy(K_weights_np)\n",
    "    Knet.weight = nn.Parameter(K_weights)\n",
    "\n",
    "    # The final model will be defined as a convolutional network, but this step\n",
    "    # is fixed.\n",
    "    for param in Knet.parameters():\n",
    "        param.requires_grad = False\n",
    "\n",
    "    ''' Construct the forcing term neural network layer '''\n",
    "    fnet = nn.Conv2d(1, 1, 3, padding = 1, bias = False)    \n",
    "    f_weights_np = np.array([[1./9., 4./9., 1./9.],\n",
    "                            [4./9., 16./9., 4./9.],\n",
    "                            [1./9., 4./9., 1./9.]], dtype=np.float32).reshape(1,1,3,3)\n",
    "    f_weights = torch.from_numpy(f_weights_np)\n",
    "    fnet.weight = nn.Parameter(f_weights)\n",
    "\n",
    "    # The final model will be defined as a convolutional network, but this step\n",
    "    # is fixed.\n",
    "    for param in fnet.parameters():\n",
    "        param.requires_grad = False\n",
    "\n",
    "    # note in case: if a.shape = (1,1,1,3), b.shape = (1,2,2,3), c = b/a\n",
    "    # then c.shape = (1,2,2,3)\n",
    "\n",
    "    # perform iteration step, u_new = omega/d_mat*residual + u\n",
    "    # residual = f - K*u (* is convolution operator here)\n",
    "    omega = 2/3.\n",
    "    d_mat = K_weights[0,0,1,1] # d matrix is a scalar for static heat problem\n",
    "    u_new = omega/d_mat*(fnet(forcing_term)-Knet(u))+u\n",
    "\n",
    "    return _reset_boundary_(u_new, boundary_index, boundary_values)\n"
   ]
  },
  {
   "cell_type": "code",
   "execution_count": null,
   "metadata": {
    "vscode": {
     "languageId": "python"
    }
   },
   "outputs": [
    {
     "ename": "",
     "evalue": "",
     "output_type": "error",
     "traceback": [
      "\u001b[1;31m内核已被中止。查看 Jupyter <a href='command:jupyter.viewOutput'>日志</a>了解更多细节。\n",
      "错误：/usr/bin/python: No module named ipykernel_launcher..."
     ]
    }
   ],
   "source": [
    "def jacobi_method(boundary_index, boundary_values, forcing_term, initial_u = None, k = 1000):\n",
    "    \"\"\" Compute jacobi method solution by convolution\n",
    "\n",
    "\n",
    "    Parameters\n",
    "    ----------\n",
    "    boundary_index : tensor-like, shape = [*, *, n, n]\n",
    "        matrix describing the domain: 1.0 for inner points 0.0 elsewhere.\n",
    "\n",
    "    boundary_values : tensor-like, shape = [*, *, n, n]\n",
    "        matrix describing the domain: desired values for boundary points 0.0 elsewhere.\n",
    "\n",
    "    forcing_term : tensor-like, shape = [*, *, n, n]\n",
    "        matrix describing the forcing term.\n",
    "\n",
    "    initial_u : tensor-like, shape = [*, *, n, n]\n",
    "        Initial values.\n",
    "\n",
    "    Returns\n",
    "    -------\n",
    "    u : tensor-like, shape = [*, *, n, n]\n",
    "        solution matrix.\n",
    "    \"\"\"\n",
    "    N = boundary_index.size()[3]\n",
    "\n",
    "    if initial_u is None:\n",
    "        u = torch.zeros(1, 1, N, N)\n",
    "    else:\n",
    "        u = initial_u\n",
    "\n",
    "    u = _reset_boundary_(u, boundary_index, boundary_values)\n",
    "\n",
    "    def step(u_k):\n",
    "        return _jacobi_iteration_step_(u_k, boundary_index, boundary_values, forcing_term)\n",
    "\n",
    "    return apply_n_times(step, k)(u)"
   ]
  },
  {
   "cell_type": "code",
   "execution_count": null,
   "metadata": {
    "vscode": {
     "languageId": "python"
    }
   },
   "outputs": [
    {
     "ename": "",
     "evalue": "",
     "output_type": "error",
     "traceback": [
      "\u001b[1;31m内核已被中止。查看 Jupyter <a href='command:jupyter.viewOutput'>日志</a>了解更多细节。\n",
      "错误：/usr/bin/python: No module named ipykernel_launcher..."
     ]
    }
   ],
   "source": [
    "# define two geometries\n",
    "def square_geometry(size):\n",
    "    \"\"\"Defines a square geometry of given size (as a single positive integer)\n",
    "    The boundary-values are set randomly from a uniform distribtion in the interval [-1, 1].\n",
    "\n",
    "    Example:\n",
    "\n",
    "    b1 b1 b2\n",
    "    b4 0  b2\n",
    "    b4 b3 b3\n",
    "\n",
    "    Returns:\n",
    "        (geometry, boundary_index)\n",
    "    \"\"\"\n",
    "\n",
    "    # Define geometry, 1.0 inner points; 0.0 elsewhre\n",
    "    B_idx = torch.ones(1, 1, size ,size )\n",
    "    B_idx[0, 0,  0,  :] = torch.zeros(size)\n",
    "    B_idx[0, 0, -1,  :] = torch.zeros(size)\n",
    "    B_idx[0, 0,  :,  0] = torch.zeros(size)\n",
    "    B_idx[0, 0,  :, -1] = torch.zeros(size)\n",
    "\n",
    "    # Define boundary values\n",
    "    B = torch.zeros_like(B_idx)\n",
    "\n",
    "    '''\n",
    "    # Randomly set the boundary values\n",
    "    B[0, 0,  0, :] = np.random.uniform(-1, 1)\n",
    "    B[0, 0,  :,-1] = np.random.uniform(-1, 1)\n",
    "    B[0, 0, -1, :] = np.random.uniform(-1, 1)\n",
    "    B[0, 0, 1:, 0] = np.random.uniform(-1, 1) # we don't want to overwrite the first value\n",
    "    '''\n",
    "\n",
    "    # Set the boundary value\n",
    "    B[0, 0,  0, :] = 1.0\n",
    "    #B[0, 0,  :,-1] = 0.0\n",
    "    #B[0, 0, -1, :] = 0.0\n",
    "    #B[0, 0, 1:, 0] = 0.0 \n",
    "\n",
    "    return B_idx, B\n",
    "\n",
    "\n",
    "def l_shaped_geometry(size, l_cutout_size=None):\n",
    "    \"\"\"Defines a L-shaped geometry of given size (as a single positive integer), and\n",
    "    l_cutout_size (think of creating the L-shape as cutting out a smaller square piece)\n",
    "\n",
    "    l_cutout_size is by default size/2\n",
    "\n",
    "    Returns:\n",
    "        (geometry, boundary_index)\n",
    "    \"\"\"\n",
    "\n",
    "    l_cutout_size = l_cutout_size or int(np.floor(size / 2))\n",
    "\n",
    "    B_idx, B = square_geometry(size)\n",
    "\n",
    "    _, cutout = square_geometry(l_cutout_size)\n",
    "    B[0, 0, :l_cutout_size, :l_cutout_size] = cutout\n",
    "    B[0, 0, :l_cutout_size - 1, :l_cutout_size - 1] = np.random.uniform(0, 1)\n",
    "\n",
    "    B_idx[0, 0, :l_cutout_size, :l_cutout_size] = torch.zeros(1)\n",
    "\n",
    "    return B_idx, B"
   ]
  },
  {
   "cell_type": "code",
   "execution_count": null,
   "metadata": {
    "vscode": {
     "languageId": "python"
    }
   },
   "outputs": [
    {
     "ename": "",
     "evalue": "",
     "output_type": "error",
     "traceback": [
      "\u001b[1;31m内核已被中止。查看 Jupyter <a href='command:jupyter.viewOutput'>日志</a>了解更多细节。\n",
      "错误：/usr/bin/python: No module named ipykernel_launcher..."
     ]
    }
   ],
   "source": [
    "# define a problem class\n",
    "class DirichletProblem:\n",
    "    \"\"\"Define a Dirichlet problem instance\n",
    "\n",
    "    The groud truth solution is computed on instantiation.\n",
    "\n",
    "    Parameters\n",
    "    ----------\n",
    "    B_idx : tensor-like, shape = [1, 1, N, N]\n",
    "        variable to reset.\n",
    "\n",
    "    B : tensor-like, shape = [1, 1, N, N], optional\n",
    "\n",
    "    f : tensor-like, shape = [1, 1, N, N], optional\n",
    "        variable to reset.\n",
    "\n",
    "    k_ground_truth : int, optional, default 1000\n",
    "        Number of iterations to used to obtain ground truth solution\n",
    "        with Jacobi method.\n",
    "\n",
    "    N  : int, optional, default 16\n",
    "         Used to define the domain as....\n",
    "\n",
    "    inital_u : tensor-like, shape = [1, 1, N, N], optional\n",
    "               Default = torch.rand(1, 1, N, N, requires_grad=True)\n",
    "               Initial solution\n",
    "\n",
    "    inital_u_jacobi : tensor-like, shape = [1, 1, N, N], optional\n",
    "               Default = torch.rand(1, 1, N, N, requires_grad=True)\n",
    "\n",
    "    Returns\n",
    "    -------\n",
    "    self : object\n",
    "        Returns an instance of self.\n",
    "    \"\"\"\n",
    "\n",
    "    def __init__(self,\n",
    "                 B_idx=None,\n",
    "                 B=None,\n",
    "                 f=None,\n",
    "                 k_ground_truth=20000,\n",
    "                 initial_ground_truth=None,\n",
    "                 initial_u=None,\n",
    "                 domain_type=\"square\",\n",
    "                 N=16):\n",
    "\n",
    "        # Initialize Geometry and Boundary Conditions\n",
    "        if B_idx is None:\n",
    "            if domain_type.lower() == \"square\":\n",
    "                self.B_idx, self.B = square_geometry(N)\n",
    "            elif domain_type.lower() == \"l_shape\":\n",
    "                self.B_idx, self.B = l_shaped_geometry(N)\n",
    "            else:\n",
    "                raise ValueError('no such domain_type known, try either `square` or `l_shape`')\n",
    "\n",
    "        # Initialize f\n",
    "        if f is None:\n",
    "            self.f = torch.zeros(1, 1, N, N)\n",
    "        else:\n",
    "            self.f = f\n",
    "\n",
    "        # Initialize parameters to compute ground truth solution\n",
    "        if initial_ground_truth is None:\n",
    "            self.initial_ground_truth = normal_distributed_tensor(N, requires_grad=False)\n",
    "        else:\n",
    "            self.initial_ground_truth = initial_ground_truth\n",
    "\n",
    "        self.k_ground_truth = k_ground_truth\n",
    "        self._ground_truth = None\n",
    "\n",
    "        # Initialize parameters to obtain u\n",
    "        if initial_u is None:\n",
    "            self.initial_u = normal_distributed_tensor(N, requires_grad=True)\n",
    "        else:\n",
    "            self.initial_u = initial_u\n",
    "\n",
    "        # Compute ground truth solution using Jacobi method\n",
    "        self.ground_truth = jacobi_method(\n",
    "            self.B_idx, self.B, self.f, self.initial_ground_truth, self.k_ground_truth)\n",
    "\n"
   ]
  },
  {
   "cell_type": "code",
   "execution_count": null,
   "metadata": {
    "vscode": {
     "languageId": "python"
    }
   },
   "outputs": [
    {
     "ename": "",
     "evalue": "",
     "output_type": "error",
     "traceback": [
      "\u001b[1;31m内核已被中止。查看 Jupyter <a href='command:jupyter.viewOutput'>日志</a>了解更多细节。\n",
      "错误：/usr/bin/python: No module named ipykernel_launcher..."
     ]
    }
   ],
   "source": [
    "def least_squares_loss(a, b):\n",
    "    return F.mse_loss(a, b, reduction='sum')"
   ]
  },
  {
   "cell_type": "code",
   "execution_count": null,
   "metadata": {
    "vscode": {
     "languageId": "python"
    }
   },
   "outputs": [
    {
     "ename": "",
     "evalue": "",
     "output_type": "error",
     "traceback": [
      "\u001b[1;31m内核已被中止。查看 Jupyter <a href='command:jupyter.viewOutput'>日志</a>了解更多细节。\n",
      "错误：/usr/bin/python: No module named ipykernel_launcher..."
     ]
    }
   ],
   "source": [
    "# Initialize Laplace problem on Square geometry\n",
    "N = 64\n",
    "problem = DirichletProblem(N=N)\n",
    "B_idx = problem.B_idx\n",
    "B = problem.B\n",
    "f = problem.f\n",
    "\n",
    "# Obtain solutions\n",
    "ground_truth = problem.ground_truth\n",
    "\n",
    "# Set initial_u equal for Jacobi method \n",
    "initial_u = torch.ones(1,1,N,N)\n",
    "k = 5000\n",
    "\n",
    "# Obtain solution with Jacobi method\n",
    "u_jacobi = jacobi_method(B_idx, B, f, initial_u, k)\n",
    "print(f\"Error after {k} iterations for Jacobi method: {least_squares_loss(ground_truth, u_jacobi)}\")\n"
   ]
  },
  {
   "cell_type": "code",
   "execution_count": null,
   "metadata": {
    "vscode": {
     "languageId": "python"
    }
   },
   "outputs": [
    {
     "ename": "",
     "evalue": "",
     "output_type": "error",
     "traceback": [
      "\u001b[1;31m内核已被中止。查看 Jupyter <a href='command:jupyter.viewOutput'>日志</a>了解更多细节。\n",
      "错误：/usr/bin/python: No module named ipykernel_launcher..."
     ]
    }
   ],
   "source": [
    "import matplotlib.pyplot as plt\n",
    "\n",
    "# plot the square domain of ground truth \n",
    "ground_truth_square = ground_truth.view(N, N).numpy()\n",
    "\n",
    "square_fig = plt.figure()\n",
    "im = plt.imshow(ground_truth_square)\n",
    "plt.title(\"Square domain for ground truth.\")\n",
    "plt.colorbar(im)\n",
    "\n",
    "#square_fig.savefig('../report/figs/square.eps', bbox_inches='tight')\n",
    "plt.draw()\n",
    "plt.show()"
   ]
  }
 ],
 "metadata": {
  "interpreter": {
   "hash": "926ad5c238a4420011e83b59655d6cd21b021d9ee1aa0438d38aa969cfe55744"
  },
  "kernelspec": {
   "display_name": "Python 3 (ipykernel)",
   "language": "python",
   "name": "python3"
  },
  "language_info": {
   "codemirror_mode": {
    "name": "ipython",
    "version": 3
   },
   "file_extension": ".py",
   "mimetype": "text/x-python",
   "name": "python",
   "nbconvert_exporter": "python",
   "pygments_lexer": "ipython3",
   "version": "3.8.10"
  }
 },
 "nbformat": 4,
 "nbformat_minor": 2
}
