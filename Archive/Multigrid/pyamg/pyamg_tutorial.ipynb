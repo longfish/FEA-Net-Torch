{
 "cells": [
  {
   "cell_type": "code",
   "execution_count": 1,
   "metadata": {},
   "outputs": [],
   "source": [
    "import scipy\n",
    "import numpy\n",
    "import pyamg\n",
    "import matplotlib.pyplot as plt"
   ]
  },
  {
   "cell_type": "code",
   "execution_count": 2,
   "metadata": {},
   "outputs": [],
   "source": [
    "# create a stencil and matrix\n",
    "stencil = [[-1,-1,-1], [-1,8,-1], [-1,-1,-1]]\n",
    "A = pyamg.gallery.stencil_grid(stencil, (1000, 1000), dtype=float, format='csr')"
   ]
  },
  {
   "cell_type": "code",
   "execution_count": 3,
   "metadata": {},
   "outputs": [
    {
     "name": "stdout",
     "output_type": "stream",
     "text": [
      "Number of nonzeros: 8988004 \n",
      "Shape of the matrix: 1000000 x 1000000 \n",
      "Format of the matrix: csr\n",
      "\n"
     ]
    }
   ],
   "source": [
    "print(f'Number of nonzeros: {A.nnz} \\n'\n",
    "      f'Shape of the matrix: {A.shape[0]} x {A.shape[1]} \\n'\n",
    "      f'Format of the matrix: {A.format}\\n')"
   ]
  },
  {
   "cell_type": "code",
   "execution_count": 4,
   "metadata": {},
   "outputs": [],
   "source": [
    "Agg = pyamg.aggregation.standard_aggregation(A)"
   ]
  },
  {
   "cell_type": "code",
   "execution_count": 5,
   "metadata": {},
   "outputs": [],
   "source": [
    "B = numpy.ones((A.shape[0], 1))\n",
    "ml = pyamg.smoothed_aggregation_solver(A, B, max_coarse=10)"
   ]
  },
  {
   "cell_type": "code",
   "execution_count": 6,
   "metadata": {},
   "outputs": [
    {
     "name": "stdout",
     "output_type": "stream",
     "text": [
      "multilevel_solver\n",
      "Number of Levels:     7\n",
      "Operator Complexity:  1.125\n",
      "Grid Complexity:      1.126\n",
      "Coarse Solver:        'pinv2'\n",
      "  level   unknowns     nonzeros\n",
      "    0      1000000      8988004 [88.87%]\n",
      "    1       111556      1000000 [ 9.89%]\n",
      "    2        12544       111556 [ 1.10%]\n",
      "    3         1444        12544 [ 0.12%]\n",
      "    4          169         1369 [ 0.01%]\n",
      "    5           25          169 [ 0.00%]\n",
      "    6            4           16 [ 0.00%]\n",
      "\n"
     ]
    }
   ],
   "source": [
    "print(ml)"
   ]
  },
  {
   "cell_type": "code",
   "execution_count": 7,
   "metadata": {},
   "outputs": [],
   "source": [
    "# initialize a place-holder for the residual history, a rhs, and an initial guess\n",
    "residuals = []\n",
    "b = numpy.random.rand(A.shape[0])\n",
    "x0 = numpy.random.rand(A.shape[0])"
   ]
  },
  {
   "cell_type": "code",
   "execution_count": 8,
   "metadata": {},
   "outputs": [],
   "source": [
    "x = ml.solve(b=b, x0=x0, tol=1e-10, residuals=residuals)"
   ]
  },
  {
   "cell_type": "code",
   "execution_count": 9,
   "metadata": {},
   "outputs": [
    {
     "name": "stdout",
     "output_type": "stream",
     "text": [
      "0.1290158452889298\n"
     ]
    }
   ],
   "source": [
    "print((residuals[-1]/residuals[0])**(1.0/(len(residuals)-1)))"
   ]
  },
  {
   "cell_type": "code",
   "execution_count": 12,
   "metadata": {},
   "outputs": [],
   "source": [
    "# with CG acceleration\n",
    "x = ml.solve(b=b, x0=x0, tol=1e-10, residuals=residuals, accel='cg')"
   ]
  },
  {
   "cell_type": "code",
   "execution_count": 11,
   "metadata": {},
   "outputs": [
    {
     "name": "stdout",
     "output_type": "stream",
     "text": [
      "0.033478043019831996\n"
     ]
    }
   ],
   "source": [
    "print((residuals[-1]/residuals[0])**(1.0/(len(residuals)-1)))"
   ]
  },
  {
   "cell_type": "code",
   "execution_count": 13,
   "metadata": {},
   "outputs": [
    {
     "data": {
      "image/png": "[encoded data removed]",
      "text/plain": [
       "<Figure size 432x288 with 1 Axes>"
      ]
     },
     "metadata": {
      "needs_background": "light"
     },
     "output_type": "display_data"
    }
   ],
   "source": [
    "# plot the residual\n",
    "plt.semilogy(residuals/residuals[0], 'o-')\n",
    "plt.xlabel('iterations')\n",
    "plt.ylabel('normalized residual')\n",
    "plt.show()"
   ]
  }
 ],
 "metadata": {
  "kernelspec": {
   "display_name": "Python 3.8.13 ('pytorch11')",
   "language": "python",
   "name": "python3"
  },
  "language_info": {
   "codemirror_mode": {
    "name": "ipython",
    "version": 3
   },
   "file_extension": ".py",
   "mimetype": "text/x-python",
   "name": "python",
   "nbconvert_exporter": "python",
   "pygments_lexer": "ipython3",
   "version": "3.8.13"
  },
  "orig_nbformat": 4,
  "vscode": {
   "interpreter": {
    "hash": "926ad5c238a4420011e83b59655d6cd21b021d9ee1aa0438d38aa969cfe55744"
   }
  }
 },
 "nbformat": 4,
 "nbformat_minor": 2
}
