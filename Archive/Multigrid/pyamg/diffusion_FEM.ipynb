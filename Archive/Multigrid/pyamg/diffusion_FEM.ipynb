{
 "cells": [
  {
   "cell_type": "code",
   "execution_count": 1,
   "metadata": {},
   "outputs": [],
   "source": [
    "\"\"\"\n",
    "Test the scalability of SA for rotated diffusion while\n",
    "highlighting the performance of different strength measures.\n",
    "Try different values for classic_theta and evolution_theta.\n",
    "\"\"\"\n",
    "import numpy as np\n",
    "\n",
    "import pyamg"
   ]
  },
  {
   "cell_type": "code",
   "execution_count": 2,
   "metadata": {},
   "outputs": [],
   "source": [
    "# Ensure repeatability of tests\n",
    "np.random.seed(625)\n",
    "\n",
    "# Grid sizes to test\n",
    "nlist = [100, 200, 300, 400]\n"
   ]
  },
  {
   "cell_type": "code",
   "execution_count": 4,
   "metadata": {},
   "outputs": [],
   "source": [
    "factors_classic = np.zeros((len(nlist),))\n",
    "complexity_classic = np.zeros((len(nlist),))\n",
    "nnz_classic = np.zeros((len(nlist),))\n",
    "sizelist_classic = np.zeros((len(nlist),))\n",
    "\n",
    "factors_evo = np.zeros((len(nlist),))\n",
    "complexity_evo = np.zeros((len(nlist),))\n",
    "nnz_evo = np.zeros((len(nlist),))\n",
    "sizelist_evo = np.zeros((len(nlist),))\n",
    "\n",
    "factors_evo_root = np.zeros((len(nlist),))\n",
    "complexity_evo_root = np.zeros((len(nlist),))\n",
    "nnz_evo_root = np.zeros((len(nlist),))\n",
    "sizelist_evo_root = np.zeros((len(nlist),))"
   ]
  },
  {
   "cell_type": "code",
   "execution_count": 5,
   "metadata": {},
   "outputs": [],
   "source": [
    "run = 0"
   ]
  },
  {
   "cell_type": "code",
   "execution_count": 6,
   "metadata": {},
   "outputs": [],
   "source": [
    "# Smoothed Aggregation Parameters\n",
    "theta = np.pi / 8.0                                # Angle of rotation\n",
    "epsilon = 0.001                                     # Anisotropic coefficient\n",
    "mcoarse = 10                                        # Max coarse grid size\n",
    "prepost = ('gauss_seidel',                          # pre/post smoother\n",
    "           {'sweep': 'symmetric', 'iterations': 1})\n",
    "smooth = ('energy', {'maxiter': 9, 'degree': 3})    # Prolongation Smoother\n",
    "classic_theta = 0.0                                 # Classic Strength Measure\n",
    "#    Drop Tolerance\n",
    "# evolution Strength Measure\n",
    "evolution_theta = 4.0\n",
    "#    Drop Tolerance"
   ]
  },
  {
   "cell_type": "code",
   "execution_count": 7,
   "metadata": {},
   "outputs": [
    {
     "name": "stdout",
     "output_type": "stream",
     "text": [
      "Running Grid = (100 x 100)\n",
      "Running Grid = (200 x 200)\n",
      "Running Grid = (300 x 300)\n",
      "Running Grid = (400 x 400)\n"
     ]
    }
   ],
   "source": [
    "for n in nlist:\n",
    "    nx = n\n",
    "    ny = n\n",
    "    print(\"Running Grid = (%d x %d)\" % (nx, ny))\n",
    "\n",
    "    # Rotated Anisotropic Diffusion Operator\n",
    "    stencil = pyamg.gallery.diffusion_stencil_2d(type='FE', epsilon=epsilon, theta=theta)\n",
    "    A = pyamg.gallery.stencil_grid(stencil, (nx, ny), format='csr')\n",
    "\n",
    "    # Random initial guess, zero RHS\n",
    "    x0 = np.random.rand(A.shape[0])\n",
    "    b = np.zeros((A.shape[0],))\n",
    "\n",
    "    # Classic SA strength measure\n",
    "    ml = pyamg.smoothed_aggregation_solver(A,\n",
    "                                           max_coarse=mcoarse,\n",
    "                                           coarse_solver='pinv2',\n",
    "                                           presmoother=prepost,\n",
    "                                           postsmoother=prepost,\n",
    "                                           smooth=smooth,\n",
    "                                           strength=('symmetric', {'theta': classic_theta}))\n",
    "    resvec = []\n",
    "    x = ml.solve(b, x0=x0, maxiter=100, tol=1e-8, residuals=resvec)\n",
    "    factors_classic[run] = (resvec[-1] / resvec[0])**(1.0 / len(resvec))\n",
    "    complexity_classic[run] = ml.operator_complexity()\n",
    "    nnz_classic[run] = A.nnz\n",
    "    sizelist_classic[run] = A.shape[0]\n",
    "\n",
    "    # Evolution strength measure\n",
    "    ml = pyamg.smoothed_aggregation_solver(A,\n",
    "                                           max_coarse=mcoarse,\n",
    "                                           coarse_solver='pinv2',\n",
    "                                           presmoother=prepost,\n",
    "                                           postsmoother=prepost,\n",
    "                                           smooth=smooth,\n",
    "                                           strength=('evolution', {'epsilon': evolution_theta, 'k': 2}))\n",
    "    resvec = []\n",
    "    x = ml.solve(b, x0=x0, maxiter=100, tol=1e-8, residuals=resvec)\n",
    "    factors_evo[run] = (resvec[-1] / resvec[0])**(1.0 / len(resvec))\n",
    "    complexity_evo[run] = ml.operator_complexity()\n",
    "    nnz_evo[run] = A.nnz\n",
    "    sizelist_evo[run] = A.shape[0]\n",
    "\n",
    "    # Evolution strength measure\n",
    "    ml = pyamg.rootnode_solver(A,\n",
    "                               max_coarse=mcoarse,\n",
    "                               coarse_solver='pinv2',\n",
    "                               presmoother=prepost,\n",
    "                               postsmoother=prepost,\n",
    "                               smooth=smooth,\n",
    "                               strength=('evolution', {'epsilon': evolution_theta, 'k': 2}))\n",
    "    resvec = []\n",
    "    x = ml.solve(b, x0=x0, maxiter=100, tol=1e-8, residuals=resvec)\n",
    "    factors_evo_root[run] = (resvec[-1] / resvec[0])**(1.0 / len(resvec))\n",
    "    complexity_evo_root[run] = ml.operator_complexity()\n",
    "    nnz_evo_root[run] = A.nnz\n",
    "    sizelist_evo_root[run] = A.shape[0]\n",
    "\n",
    "    run += 1"
   ]
  },
  {
   "cell_type": "code",
   "execution_count": 8,
   "metadata": {},
   "outputs": [
    {
     "name": "stdout",
     "output_type": "stream",
     "text": [
      "\n",
      "AMG Scalability Study for Ax = 0, x_init = rand\n",
      "\n",
      "Emphasis on Robustness of Evolution Strength \n",
      "Measure and Root-Node Solver\n",
      "\n",
      "Rotated Anisotropic Diffusion in 2D\n",
      "Anisotropic Coefficient = 1.000e-03\n",
      "Rotation Angle = 0.393\n"
     ]
    }
   ],
   "source": [
    "# Print Problem Description\n",
    "print(\"\\nAMG Scalability Study for Ax = 0, x_init = rand\\n\")\n",
    "print(\"Emphasis on Robustness of Evolution Strength \")\n",
    "print(\"Measure and Root-Node Solver\\n\")\n",
    "print(\"Rotated Anisotropic Diffusion in 2D\")\n",
    "print(\"Anisotropic Coefficient = %1.3e\" % epsilon)\n",
    "print(\"Rotation Angle = %1.3f\" % theta)"
   ]
  },
  {
   "cell_type": "code",
   "execution_count": 9,
   "metadata": {},
   "outputs": [
    {
     "name": "stdout",
     "output_type": "stream",
     "text": [
      "    n     |    nnz    |    rho    |   OpCx    |   Work   \n",
      "--------------------------------------------------------\n",
      " Classic strength \n",
      "--------------------------------------------------------\n",
      "  10000   |   88804   |   0.86    |    1.6    |    24    \n",
      "  40000   |  357604   |   0.87    |    1.6    |    25    \n",
      "  90000   |  806404   |   0.87    |    1.6    |    27    \n",
      " 160000   |  1435204  |   0.87    |    1.6    |    27    \n",
      "--------------------------------------------------------\n",
      " Evolution strength \n",
      "--------------------------------------------------------\n",
      "  10000   |   88804   |   0.56    |    1.8    |     7    \n",
      "  40000   |  357604   |   0.67    |    1.8    |    10    \n",
      "  90000   |  806404   |   0.69    |    1.8    |    11    \n",
      " 160000   |  1435204  |   0.72    |    1.8    |    13    \n",
      "--------------------------------------------------------\n",
      " Evolution strength with Rootnode \n",
      "--------------------------------------------------------\n",
      "  10000   |   88804   |   0.46    |    1.8    |    5.4   \n",
      "  40000   |  357604   |   0.49    |    1.9    |     6    \n",
      "  90000   |  806404   |    0.5    |    1.9    |    6.3   \n",
      " 160000   |  1435204  |    0.5    |    1.9    |    6.5   \n"
     ]
    }
   ],
   "source": [
    "# Print Tables\n",
    "print(\"{:^9s} | {:^9s} | {:^9s} | {:^9s} | {:^9s}\".format(\n",
    "    \"n\", \"nnz\", \"rho\", \"OpCx\", \"Work\"))\n",
    "print(\"--------------------------------------------------------\")\n",
    "print(\" Classic strength \")\n",
    "print(\"--------------------------------------------------------\")\n",
    "for i, n in enumerate(sizelist_classic):\n",
    "    print(\"{:^9d} | {:^9d} | {:^9.2g} | {:^9.2g} | {:^9.2g}\".format(\n",
    "        int(n), int(nnz_classic[i]), factors_classic[i], complexity_classic[i],\n",
    "        complexity_classic[i] / abs(np.log10(factors_classic[i]))))\n",
    "print(\"--------------------------------------------------------\")\n",
    "print(\" Evolution strength \")\n",
    "print(\"--------------------------------------------------------\")\n",
    "for i, n in enumerate(sizelist_evo):\n",
    "    print(\"{:^9d} | {:^9d} | {:^9.2g} | {:^9.2g} | {:^9.2g}\".format(\n",
    "        int(n), int(nnz_evo[i]), factors_evo[i], complexity_evo[i],\n",
    "        complexity_evo[i] / abs(np.log10(factors_evo[i]))))\n",
    "print(\"--------------------------------------------------------\")\n",
    "print(\" Evolution strength with Rootnode \")\n",
    "print(\"--------------------------------------------------------\")\n",
    "for i, n in enumerate(sizelist_evo_root):\n",
    "    print(\"{:^9d} | {:^9d} | {:^9.2g} | {:^9.2g} | {:^9.2g}\".format(\n",
    "        int(n), int(nnz_evo_root[i]), factors_evo_root[i], complexity_evo_root[i],\n",
    "        complexity_evo_root[i] / abs(np.log10(factors_evo_root[i]))))"
   ]
  }
 ],
 "metadata": {
  "kernelspec": {
   "display_name": "Python 3.8.13 ('pytorch11')",
   "language": "python",
   "name": "python3"
  },
  "language_info": {
   "codemirror_mode": {
    "name": "ipython",
    "version": 3
   },
   "file_extension": ".py",
   "mimetype": "text/x-python",
   "name": "python",
   "nbconvert_exporter": "python",
   "pygments_lexer": "ipython3",
   "version": "3.8.13"
  },
  "orig_nbformat": 4,
  "vscode": {
   "interpreter": {
    "hash": "926ad5c238a4420011e83b59655d6cd21b021d9ee1aa0438d38aa969cfe55744"
   }
  }
 },
 "nbformat": 4,
 "nbformat_minor": 2
}
