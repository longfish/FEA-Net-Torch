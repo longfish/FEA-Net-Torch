{
 "cells": [
  {
   "cell_type": "markdown",
   "metadata": {
    "ExecuteTime": {
     "end_time": "2018-12-18T11:12:37.978677Z",
     "start_time": "2018-12-18T11:12:37.976016Z"
    }
   },
   "source": [
    "# Imports"
   ]
  },
  {
   "cell_type": "code",
   "execution_count": 6,
   "metadata": {
    "ExecuteTime": {
     "end_time": "2018-12-30T11:10:53.160742Z",
     "start_time": "2018-12-30T11:10:51.404495Z"
    },
    "autoscroll": false,
    "ein.hycell": false,
    "ein.tags": "worksheet-0",
    "slideshow": {
     "slide_type": "-"
    }
   },
   "outputs": [],
   "source": [
    "import os\n",
    "from importlib import reload\n",
    "from itertools import product\n",
    "\n",
    "import numpy as np\n",
    "import pandas as pd\n",
    "import seaborn as sns\n",
    "import matplotlib.pyplot as plt\n",
    "import torch\n",
    "import torch.nn as nn\n",
    "import torch.nn.functional as F"
   ]
  },
  {
   "cell_type": "code",
   "execution_count": 7,
   "metadata": {},
   "outputs": [],
   "source": [
    "from utils.data_loader import load_FEANet_data\n",
    "from model.Evaluator import Evaluator\n",
    "from model.FEA_Net import FEA_Net"
   ]
  },
  {
   "cell_type": "markdown",
   "metadata": {},
   "source": [
    "# Setup"
   ]
  },
  {
   "cell_type": "code",
   "execution_count": 12,
   "metadata": {
    "ExecuteTime": {
     "end_time": "2018-12-30T11:10:53.476092Z",
     "start_time": "2018-12-30T11:10:53.462359Z"
    },
    "autoscroll": false,
    "ein.hycell": false,
    "ein.tags": "worksheet-0",
    "slideshow": {
     "slide_type": "-"
    }
   },
   "outputs": [],
   "source": [
    "seed = 666\n",
    "torch.manual_seed(seed)\n",
    "np.random.seed(seed)\n",
    "\n",
    "device = torch.device(\"cuda:0\" if torch.cuda.is_available() else \"cpu\")"
   ]
  },
  {
   "cell_type": "markdown",
   "metadata": {},
   "source": [
    "# Add a hyperparameter searching step"
   ]
  },
  {
   "cell_type": "markdown",
   "metadata": {},
   "source": [
    "# Load data"
   ]
  },
  {
   "cell_type": "code",
   "execution_count": 9,
   "metadata": {},
   "outputs": [],
   "source": [
    "data = load_FEANet_data(percent=0.1)#snr=100"
   ]
  },
  {
   "cell_type": "markdown",
   "metadata": {},
   "source": [
    "# Build the network"
   ]
  },
  {
   "cell_type": "code",
   "execution_count": 10,
   "metadata": {},
   "outputs": [
    {
     "ename": "NameError",
     "evalue": "name 'tf' is not defined",
     "output_type": "error",
     "traceback": [
      "\u001b[0;31m---------------------------------------------------------------------------\u001b[0m",
      "\u001b[0;31mNameError\u001b[0m                                 Traceback (most recent call last)",
      "\u001b[1;32m/home/cmeng12/Documents/Multigrid-FEA-Net/MGFEA-Net.ipynb Cell 10'\u001b[0m in \u001b[0;36m<cell line: 4>\u001b[0;34m()\u001b[0m\n\u001b[1;32m      <a href='vscode-notebook-cell:/home/cmeng12/Documents/Multigrid-FEA-Net/MGFEA-Net.ipynb#ch0000009?line=0'>1</a>\u001b[0m cfg \u001b[39m=\u001b[39m {\u001b[39m'\u001b[39m\u001b[39mlr\u001b[39m\u001b[39m'\u001b[39m: \u001b[39m0.001\u001b[39m,\n\u001b[1;32m      <a href='vscode-notebook-cell:/home/cmeng12/Documents/Multigrid-FEA-Net/MGFEA-Net.ipynb#ch0000009?line=1'>2</a>\u001b[0m         \u001b[39m'\u001b[39m\u001b[39mepoch\u001b[39m\u001b[39m'\u001b[39m: \u001b[39m1\u001b[39m,\n\u001b[1;32m      <a href='vscode-notebook-cell:/home/cmeng12/Documents/Multigrid-FEA-Net/MGFEA-Net.ipynb#ch0000009?line=2'>3</a>\u001b[0m         }\n\u001b[0;32m----> <a href='vscode-notebook-cell:/home/cmeng12/Documents/Multigrid-FEA-Net/MGFEA-Net.ipynb#ch0000009?line=3'>4</a>\u001b[0m model \u001b[39m=\u001b[39m FEA_Net(data,cfg)\n",
      "File \u001b[0;32m~/Documents/Multigrid-FEA-Net/model/FEA_Net.py:18\u001b[0m, in \u001b[0;36mFEA_Net.__init__\u001b[0;34m(self, data, cfg)\u001b[0m\n\u001b[1;32m     <a href='file:///home/cmeng12/Documents/Multigrid-FEA-Net/model/FEA_Net.py?line=14'>15</a>\u001b[0m \u001b[39mself\u001b[39m\u001b[39m.\u001b[39mE, \u001b[39mself\u001b[39m\u001b[39m.\u001b[39mmu, \u001b[39mself\u001b[39m\u001b[39m.\u001b[39mk, \u001b[39mself\u001b[39m\u001b[39m.\u001b[39malpha \u001b[39m=\u001b[39m \u001b[39mself\u001b[39m\u001b[39m.\u001b[39mrho \u001b[39m=\u001b[39m data[\u001b[39m'\u001b[39m\u001b[39mrho\u001b[39m\u001b[39m'\u001b[39m] \n\u001b[1;32m     <a href='file:///home/cmeng12/Documents/Multigrid-FEA-Net/model/FEA_Net.py?line=16'>17</a>\u001b[0m \u001b[39m# 3 dimensional in and out, defined on the nodes\u001b[39;00m\n\u001b[0;32m---> <a href='file:///home/cmeng12/Documents/Multigrid-FEA-Net/model/FEA_Net.py?line=17'>18</a>\u001b[0m \u001b[39mself\u001b[39m\u001b[39m.\u001b[39mload_pl \u001b[39m=\u001b[39m tf\u001b[39m.\u001b[39mplaceholder(tf\u001b[39m.\u001b[39mfloat32, shape\u001b[39m=\u001b[39m(\u001b[39mNone\u001b[39;00m, data[\u001b[39m'\u001b[39m\u001b[39mnum_node\u001b[39m\u001b[39m'\u001b[39m], data[\u001b[39m'\u001b[39m\u001b[39mnum_node\u001b[39m\u001b[39m'\u001b[39m], \u001b[39m3\u001b[39m), name\u001b[39m=\u001b[39m\u001b[39m'\u001b[39m\u001b[39mload_pl\u001b[39m\u001b[39m'\u001b[39m)\n\u001b[1;32m     <a href='file:///home/cmeng12/Documents/Multigrid-FEA-Net/model/FEA_Net.py?line=18'>19</a>\u001b[0m \u001b[39mself\u001b[39m\u001b[39m.\u001b[39mresp_pl \u001b[39m=\u001b[39m tf\u001b[39m.\u001b[39mplaceholder(tf\u001b[39m.\u001b[39mfloat32, shape\u001b[39m=\u001b[39m(\u001b[39mNone\u001b[39;00m, data[\u001b[39m'\u001b[39m\u001b[39mnum_node\u001b[39m\u001b[39m'\u001b[39m], data[\u001b[39m'\u001b[39m\u001b[39mnum_node\u001b[39m\u001b[39m'\u001b[39m], \u001b[39m3\u001b[39m), name\u001b[39m=\u001b[39m\u001b[39m'\u001b[39m\u001b[39mresp_pl\u001b[39m\u001b[39m'\u001b[39m)\n\u001b[1;32m     <a href='file:///home/cmeng12/Documents/Multigrid-FEA-Net/model/FEA_Net.py?line=20'>21</a>\u001b[0m \u001b[39m# get filters\u001b[39;00m\n",
      "\u001b[0;31mNameError\u001b[0m: name 'tf' is not defined"
     ]
    }
   ],
   "source": [
    "cfg = {'lr': 0.001,\n",
    "        'epoch': 1,\n",
    "        }\n",
    "model = FEA_Net(data,cfg)"
   ]
  },
  {
   "cell_type": "markdown",
   "metadata": {},
   "source": [
    "# Train the network"
   ]
  },
  {
   "cell_type": "code",
   "execution_count": null,
   "metadata": {},
   "outputs": [],
   "source": [
    "evaluator = Evaluator(model, data)\n",
    "result = evaluator.run_newton()#run_trust_ncg"
   ]
  },
  {
   "cell_type": "markdown",
   "metadata": {},
   "source": [
    "# Visualize training result"
   ]
  },
  {
   "cell_type": "code",
   "execution_count": null,
   "metadata": {},
   "outputs": [],
   "source": [
    "evaluator.visualize(result)\n",
    "for i in range(2):\n",
    "    mat = result[9*i:9*(i+1)]\n",
    "    print(mat.reshape(3,3))\n",
    "    print(np.sum(mat))\n",
    "print(model.wxt_ref.reshape(3,3))\n",
    "print(np.sum(model.wxt_ref))\n",
    "print(model.wyt_ref.reshape(3,3))\n",
    "print(np.sum(model.wyt_ref))"
   ]
  },
  {
   "cell_type": "code",
   "execution_count": null,
   "metadata": {},
   "outputs": [],
   "source": [
    "evaluator.init_solve(load=data['test_load'], omega=2/3.)\n",
    "pred_i = np.zeros_like(data['test_resp'])  # data['test_resp']#\n",
    "resp_ref = data['test_resp']\n",
    "pred_i = evaluator.run_forward(model.trainable_var_ref, pred_i, resp_ref, max_itr=4000)\n",
    "s0 = evaluator.solution"
   ]
  },
  {
   "cell_type": "markdown",
   "metadata": {},
   "source": [
    "# Test the model"
   ]
  },
  {
   "cell_type": "code",
   "execution_count": null,
   "metadata": {},
   "outputs": [],
   "source": [
    "evaluator.init_solve(load=data['test_load'], omega=2/3.)\n",
    "pred_i = np.zeros_like(data['test_resp'])  # data['test_resp']#\n",
    "pred_i = evaluator.run_forward(result, pred_i, resp_ref, max_itr=4000)\n",
    "s1 = evaluator.solution\n",
    "\n",
    "plt.figure()\n",
    "plt.semilogy(s0['itr'], s0['loss'], label='ref')\n",
    "plt.semilogy(s1['itr'], s1['loss'], label='pred')\n",
    "plt.legend()\n",
    "plt.show()"
   ]
  }
 ],
 "metadata": {
  "hide_input": false,
  "kernelspec": {
   "display_name": "Python 3 (ipykernel)",
   "language": "python",
   "name": "python3"
  },
  "language_info": {
   "codemirror_mode": {
    "name": "ipython",
    "version": 3
   },
   "file_extension": ".py",
   "mimetype": "text/x-python",
   "name": "python",
   "nbconvert_exporter": "python",
   "pygments_lexer": "ipython3",
   "version": "3.8.13"
  },
  "name": "main.ipynb",
  "toc": {
   "base_numbering": 1,
   "nav_menu": {
    "height": "67.7px",
    "width": "252px"
   },
   "number_sections": true,
   "sideBar": false,
   "skip_h1_title": false,
   "title_cell": "Table of Contents",
   "title_sidebar": "Contents",
   "toc_cell": true,
   "toc_position": {
    "height": "584.933px",
    "left": "1px",
    "right": "2569px",
    "top": "111px",
    "width": "600px"
   },
   "toc_section_display": false,
   "toc_window_display": false
  }
 },
 "nbformat": 4,
 "nbformat_minor": 2
}
